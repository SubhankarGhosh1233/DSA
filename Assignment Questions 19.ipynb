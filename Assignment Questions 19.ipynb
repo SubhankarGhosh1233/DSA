{
 "cells": [
  {
   "cell_type": "markdown",
   "id": "f25fa27c",
   "metadata": {},
   "source": [
    "Answer of 1. Merge k Sorted Lists"
   ]
  },
  {
   "cell_type": "code",
   "execution_count": 1,
   "id": "c8cf55b9",
   "metadata": {},
   "outputs": [
    {
     "name": "stdout",
     "output_type": "stream",
     "text": [
      "1 1 2 3 4 4 5 6 "
     ]
    }
   ],
   "source": [
    "class Node:\n",
    "  \n",
    "    def __init__(self, x):\n",
    "  \n",
    "        self.data = x\n",
    "        self.next = None\n",
    "  \n",
    "# Function to print nodes in\n",
    "# a given linked list\n",
    "  \n",
    "  \n",
    "def printList(node):\n",
    "  \n",
    "    while (node != None):\n",
    "        print(node.data,\n",
    "              end=\" \")\n",
    "        node = node.next\n",
    "  \n",
    "# The main function that\n",
    "# takes an array of lists\n",
    "# arr[0..last] and generates\n",
    "# the sorted output\n",
    "  \n",
    "  \n",
    "def mergeKLists(arr, last):\n",
    "  \n",
    "    # Traverse form second\n",
    "    # list to last\n",
    "    for i in range(1, last + 1):\n",
    "        while (True):\n",
    "            # head of both the lists,\n",
    "            # 0 and ith list.\n",
    "            head_0 = arr[0]\n",
    "            head_i = arr[i]\n",
    "  \n",
    "            # Break if list ended\n",
    "            if (head_i == None):\n",
    "                break\n",
    "  \n",
    "            # Smaller than first\n",
    "            # element\n",
    "            if (head_0.data >=\n",
    "                    head_i.data):\n",
    "                arr[i] = head_i.next\n",
    "                head_i.next = head_0\n",
    "                arr[0] = head_i\n",
    "            else:\n",
    "                # Traverse the first list\n",
    "                while (head_0.next != None):\n",
    "                    # Smaller than next\n",
    "                    # element\n",
    "                    if (head_0.next.data >=\n",
    "                            head_i.data):\n",
    "                        arr[i] = head_i.next\n",
    "                        head_i.next = head_0.next\n",
    "                        head_0.next = head_i\n",
    "                        break\n",
    "                    # go to next node\n",
    "                    head_0 = head_0.next\n",
    "                    # if last node\n",
    "                    if (head_0.next == None):\n",
    "                        arr[i] = head_i.next\n",
    "                        head_i.next = None\n",
    "                        head_0.next = head_i\n",
    "                        head_0.next.next = None\n",
    "                        break\n",
    "    return arr[0]\n",
    "  \n",
    "  \n",
    "# Driver code\n",
    "if __name__ == '__main__':\n",
    "  \n",
    "    # Number of linked\n",
    "    # lists\n",
    "    k = 3\n",
    "  \n",
    "    # Number of elements\n",
    "    # in each list\n",
    "    n = 4\n",
    "  \n",
    "    # an array of pointers\n",
    "    # storing the head nodes\n",
    "    # of the linked lists\n",
    "    arr = [None for i in range(k)]\n",
    "  \n",
    "    arr[0] = Node(1)\n",
    "    arr[0].next = Node(4)\n",
    "    arr[0].next.next = Node(5)\n",
    "  \n",
    "    arr[1] = Node(1)\n",
    "    arr[1].next = Node(3)\n",
    "    arr[1].next.next = Node(4)\n",
    "\n",
    "    arr[2] = Node(2)\n",
    "    arr[2].next = Node(6)\n",
    "    \n",
    "    # Merge all lists\n",
    "    head = mergeKLists(arr, k - 1)\n",
    "  \n",
    "    printList(head)"
   ]
  },
  {
   "cell_type": "markdown",
   "id": "42522a6d",
   "metadata": {},
   "source": [
    "Answer of 2. Count of Smaller Numbers After Self"
   ]
  },
  {
   "cell_type": "code",
   "execution_count": 2,
   "id": "b49826c7",
   "metadata": {},
   "outputs": [
    {
     "name": "stdout",
     "output_type": "stream",
     "text": [
      "2 1 1 0 \n"
     ]
    }
   ],
   "source": [
    "def constructLowerArray(nums, countSmaller, n):\n",
    " \n",
    "    # initialize all the counts in countSmaller array as 0\n",
    "    for i in range(n):\n",
    "        countSmaller[i] = 0\n",
    " \n",
    "    for i in range(n):\n",
    "        for j in range(i + 1, n):\n",
    "            if (nums[j] < nums[i]):\n",
    "                countSmaller[i] += 1\n",
    "\n",
    "def printArray(nums, size):\n",
    "    for i in range(size):\n",
    "        print(nums[i], end=\" \")\n",
    "    print()\n",
    " \n",
    " \n",
    "# Driver code\n",
    "nums = [5,2,6,1]\n",
    "n = len(nums)\n",
    "low = [0]*n\n",
    "constructLowerArray(nums, low, n)\n",
    "printArray(low, n)"
   ]
  },
  {
   "cell_type": "markdown",
   "id": "59248d22",
   "metadata": {},
   "source": [
    "Answer of 3. Sort an Array"
   ]
  },
  {
   "cell_type": "code",
   "execution_count": 3,
   "id": "cef11a56",
   "metadata": {},
   "outputs": [
    {
     "data": {
      "text/plain": [
       "[0, 0, 1, 1, 2, 5]"
      ]
     },
     "execution_count": 3,
     "metadata": {},
     "output_type": "execute_result"
    }
   ],
   "source": [
    "def sortArray(nums):\n",
    "        def merge_sort(l, r):\n",
    "            if l >= r:\n",
    "                return\n",
    "            mid = (l + r) >> 1\n",
    "            merge_sort(l, mid)\n",
    "            merge_sort(mid + 1, r)\n",
    "            i, j = l, mid + 1\n",
    "            tmp = []\n",
    "            while i <= mid and j <= r:\n",
    "                if nums[i] <= nums[j]:\n",
    "                    tmp.append(nums[i])\n",
    "                    i += 1\n",
    "                else:\n",
    "                    tmp.append(nums[j])\n",
    "                    j += 1\n",
    "            if i <= mid:\n",
    "                tmp.extend(nums[i : mid + 1])\n",
    "            if j <= r:\n",
    "                tmp.extend(nums[j : r + 1])\n",
    "            for i in range(l, r + 1):\n",
    "                nums[i] = tmp[i - l]\n",
    "\n",
    "        merge_sort(0, len(nums) - 1)\n",
    "        return nums\n",
    "nums = [5,1,1,2,0,0]\n",
    "sortArray(nums)"
   ]
  },
  {
   "cell_type": "markdown",
   "id": "fa1c0030",
   "metadata": {},
   "source": [
    "Answer of 4. Move all zeroes to end of array"
   ]
  },
  {
   "cell_type": "code",
   "execution_count": 4,
   "id": "c08b9a5a",
   "metadata": {},
   "outputs": [
    {
     "name": "stdout",
     "output_type": "stream",
     "text": [
      "[1, 2, 4, 3, 5, 0, 0, 0]\n"
     ]
    }
   ],
   "source": [
    "def pushZerosToEnd(arr, n):\n",
    "    count = 0 # Count of non-zero elements \n",
    "    # Traverse the array. If element\n",
    "    # encountered is non-zero, then\n",
    "    # replace the element at index\n",
    "    # 'count' with this element\n",
    "    for i in range(n):\n",
    "        if arr[i] != 0:\n",
    "             \n",
    "            # here count is incremented\n",
    "            arr[count] = arr[i]\n",
    "            count+=1\n",
    "     \n",
    "    # Now all non-zero elements have been\n",
    "    # shifted to front and 'count' is set\n",
    "    # as index of first 0. Make all\n",
    "    # elements 0 from count to end.\n",
    "    while count < n:\n",
    "        arr[count] = 0\n",
    "        count += 1\n",
    "         \n",
    "# Driver code\n",
    "arr = [1, 2, 0, 4, 3, 0, 5, 0]\n",
    "n = len(arr)\n",
    "pushZerosToEnd(arr, n)\n",
    "print(arr)"
   ]
  },
  {
   "cell_type": "markdown",
   "id": "378188e8",
   "metadata": {},
   "source": [
    "Answer of 5. Rearrange array in alternating positive & negative items with O(1) extra space"
   ]
  },
  {
   "cell_type": "code",
   "execution_count": 5,
   "id": "d9485028",
   "metadata": {},
   "outputs": [
    {
     "name": "stdout",
     "output_type": "stream",
     "text": [
      "[-4, 1, -1, 2, 3, 4]\n"
     ]
    }
   ],
   "source": [
    "def rightRotate(arr, n, outOfPlace, cur):\n",
    "    temp = arr[cur]\n",
    "    for i in range(cur, outOfPlace, -1):\n",
    "        arr[i] = arr[i - 1]\n",
    "    arr[outOfPlace] = temp\n",
    "    return arr\n",
    " \n",
    " \n",
    "def rearrange(arr, n):\n",
    "    outOfPlace = -1\n",
    "    for index in range(n):\n",
    "        if(outOfPlace >= 0):\n",
    " \n",
    "            # if element at outOfPlace place in\n",
    "            # negative and if element at index\n",
    "            # is positive we can rotate the\n",
    "            # array to right or if element\n",
    "            # at outOfPlace place in positive and\n",
    "            # if element at index is negative we\n",
    "            # can rotate the array to right\n",
    "            if((arr[index] >= 0 and arr[outOfPlace] < 0) or\n",
    "               (arr[index] < 0 and arr[outOfPlace] >= 0)):\n",
    "                arr = rightRotate(arr, n, outOfPlace, index)\n",
    "                if(index-outOfPlace > 2):\n",
    "                    outOfPlace += 2\n",
    "                else:\n",
    "                    outOfPlace = - 1\n",
    " \n",
    "        if(outOfPlace == -1):\n",
    " \n",
    "            # conditions for A[index] to\n",
    "            # be in out of place\n",
    "            if((arr[index] >= 0 and index % 2 == 0) or\n",
    "               (arr[index] < 0 and index % 2 == 1)):\n",
    "                outOfPlace = index\n",
    "    return arr\n",
    " \n",
    " \n",
    "# Driver Code\n",
    "arr = [1, 2, 3, -4, -1, 4]\n",
    "print(rearrange(arr, len(arr)))"
   ]
  },
  {
   "cell_type": "markdown",
   "id": "011cb4e9",
   "metadata": {},
   "source": [
    "Answer of 6. Merge two sorted arrays"
   ]
  },
  {
   "cell_type": "code",
   "execution_count": 6,
   "id": "01e1fe3e",
   "metadata": {},
   "outputs": [
    {
     "name": "stdout",
     "output_type": "stream",
     "text": [
      "1 2 3 4 4 5 6 8 "
     ]
    }
   ],
   "source": [
    "def mergeArrays(arr1, arr2, n1, n2, arr3):\n",
    "    i = 0\n",
    "    j = 0\n",
    "    k = 0\n",
    " \n",
    "    # traverse the arr1 and insert its element in arr3\n",
    "    while(i < n1):\n",
    "        arr3[k] = arr1[i]\n",
    "        k += 1\n",
    "        i += 1\n",
    " \n",
    "    # now traverse arr2 and insert in arr3\n",
    "    while(j < n2):\n",
    "        arr3[k] = arr2[j]\n",
    "        k += 1\n",
    "        j += 1\n",
    " \n",
    "    # sort the whole array arr3\n",
    "    arr3.sort()\n",
    " \n",
    " \n",
    "# Driver code\n",
    "if __name__ == '__main__':\n",
    "    arr1 = [1, 3, 4, 5]\n",
    "    n1 = len(arr1)\n",
    " \n",
    "    arr2 = [2, 4, 6, 8]\n",
    "    n2 = len(arr2)\n",
    " \n",
    "    arr3 = [0 for i in range(n1+n2)]\n",
    "    mergeArrays(arr1, arr2, n1, n2, arr3)\n",
    " \n",
    "    for i in range(n1 + n2):\n",
    "        print(arr3[i], end=\" \")"
   ]
  },
  {
   "cell_type": "markdown",
   "id": "2ba71879",
   "metadata": {},
   "source": [
    "Answer of 7. Intersection of Two Arrays"
   ]
  },
  {
   "cell_type": "code",
   "execution_count": 7,
   "id": "d917e20f",
   "metadata": {},
   "outputs": [
    {
     "data": {
      "text/plain": [
       "[2]"
      ]
     },
     "execution_count": 7,
     "metadata": {},
     "output_type": "execute_result"
    }
   ],
   "source": [
    "def intersection_Two_Arrays(nums1, nums2):\n",
    "    nums1=set(nums1)\n",
    "    nums2=set(nums2)\n",
    "    return list(nums1&nums2)\n",
    "# Driver code\n",
    "nums1 = [1,2,2,1]\n",
    "nums2 = [2,2]\n",
    "intersection_Two_Arrays(nums1, nums2)"
   ]
  },
  {
   "cell_type": "markdown",
   "id": "ae5314d1",
   "metadata": {},
   "source": [
    "Answer of 8. Intersection of Two Arrays II"
   ]
  },
  {
   "cell_type": "code",
   "execution_count": 8,
   "id": "4ce76cc4",
   "metadata": {},
   "outputs": [
    {
     "data": {
      "text/plain": [
       "[4, 9]"
      ]
     },
     "execution_count": 8,
     "metadata": {},
     "output_type": "execute_result"
    }
   ],
   "source": [
    "def intersection_Two_Arrays(nums1, nums2):\n",
    "\n",
    "        nums1, nums2 = sorted(nums1), sorted(nums2)\n",
    "        pt1 = pt2 = 0\n",
    "        res = []\n",
    "\n",
    "        while True:\n",
    "            try:\n",
    "                if nums1[pt1] > nums2[pt2]:\n",
    "                    pt2 += 1\n",
    "                elif nums1[pt1] < nums2[pt2]:\n",
    "                    pt1 += 1\n",
    "                else:\n",
    "                    res.append(nums1[pt1])\n",
    "                    pt1 += 1\n",
    "                    pt2 += 1\n",
    "            except IndexError:\n",
    "                break\n",
    "\n",
    "        return res\n",
    "nums1 = [4,9,5]\n",
    "nums2 = [9,4,9,8,4]\n",
    "intersection_Two_Arrays(nums1,nums2)"
   ]
  },
  {
   "cell_type": "code",
   "execution_count": null,
   "id": "d1870455",
   "metadata": {},
   "outputs": [],
   "source": []
  }
 ],
 "metadata": {
  "kernelspec": {
   "display_name": "Python 3 (ipykernel)",
   "language": "python",
   "name": "python3"
  },
  "language_info": {
   "codemirror_mode": {
    "name": "ipython",
    "version": 3
   },
   "file_extension": ".py",
   "mimetype": "text/x-python",
   "name": "python",
   "nbconvert_exporter": "python",
   "pygments_lexer": "ipython3",
   "version": "3.9.12"
  }
 },
 "nbformat": 4,
 "nbformat_minor": 5
}
