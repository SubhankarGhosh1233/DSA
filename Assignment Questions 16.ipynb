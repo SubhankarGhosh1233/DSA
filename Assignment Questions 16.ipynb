{
 "cells": [
  {
   "cell_type": "markdown",
   "id": "00ed67c9",
   "metadata": {},
   "source": [
    "Answer of Question 1"
   ]
  },
  {
   "cell_type": "code",
   "execution_count": 2,
   "id": "b263249d",
   "metadata": {},
   "outputs": [
    {
     "name": "stdout",
     "output_type": "stream",
     "text": [
      "[2, 2, 2, -1, -1, -1, -1, 3, -1, -1]\n"
     ]
    }
   ],
   "source": [
    "mystack = []\n",
    "mymap = {}\n",
    "def NGF(a, res):\n",
    "\tn = len(a)\n",
    "\t# Initially store the frequencies of all elements\n",
    "\t# in a hashmap\n",
    "\tfor i in range(n):\n",
    "\t\tif a[i] in mymap:\n",
    "\t\t\tmymap[a[i]] += 1\n",
    "\t\telse:\n",
    "\t\t\tmymap[a[i]] = 1\n",
    "\t\n",
    "\t# Get the frequency of the last element\n",
    "\tcurr_freq = mymap[a[n-1]]\n",
    "\t\n",
    "\t# push it to the stack\n",
    "\tmystack.append([a[n-1],curr_freq])\n",
    "\t\n",
    "\t# place -1 as next greater freq for the last\n",
    "\t# element as it does not have next greater.\n",
    "\tres[n-1] = -1\n",
    "\t\n",
    "\t# iterate through array in reverse order\n",
    "\tfor i in range(n - 2, -1, -1):\n",
    "\t\tcurr_freq = mymap[a[i]]\n",
    "\t\twhile len(mystack) > 0 and curr_freq >= mystack[-1][1]:\n",
    "\t\t\tmystack.pop()\n",
    "\t\t\n",
    "\t\t# If the stack is empty, place -1. If it is not empty\n",
    "\t\t# then we will have next higher freq element at the top of the stack.\n",
    "\t\tif (len(mystack) == 0):\n",
    "\t\t\tres[i] = -1\n",
    "\t\telse:\n",
    "\t\t\tres[i] = mystack[-1][0]\n",
    "\t\t\n",
    "\t\t# push the element at current position\n",
    "\t\tmystack.append([a[i],mymap[a[i]]])\n",
    "\n",
    "a = [1, 1, 1, 2, 2, 2, 2, 11, 3, 3]\n",
    "res = [0]*(len(a))\n",
    "NGF(a, res)\n",
    "print(res)"
   ]
  },
  {
   "cell_type": "markdown",
   "id": "c7494531",
   "metadata": {},
   "source": [
    "Answer of Question 2"
   ]
  },
  {
   "cell_type": "code",
   "execution_count": 5,
   "id": "e53fe4b6",
   "metadata": {},
   "outputs": [
    {
     "name": "stdout",
     "output_type": "stream",
     "text": [
      "3 23 31 34 92 98 \n"
     ]
    }
   ],
   "source": [
    "# This function return the sorted stack\n",
    "def sortStack ( stack ):\n",
    "\ttmpStack = createStack()\n",
    "\twhile(isEmpty(stack) == False):\n",
    "\t\t\n",
    "\t\t# pop out the first element\n",
    "\t\ttmp = top(stack)\n",
    "\t\tpop(stack)\n",
    "\n",
    "\t\t# while temporary stack is not\n",
    "\t\t# empty and top of stack is\n",
    "\t\t# lesser than temp\n",
    "\t\twhile(isEmpty(tmpStack) == False and\n",
    "\t\t\tint(top(tmpStack)) < int(tmp)):\n",
    "\t\t\t\n",
    "\t\t\t# pop from temporary stack and\n",
    "\t\t\t# push it to the input stack\n",
    "\t\t\tpush(stack,top(tmpStack))\n",
    "\t\t\tpop(tmpStack)\n",
    "\n",
    "\t\t# push temp in temporary of stack\n",
    "\t\tpush(tmpStack,tmp)\n",
    "\t\n",
    "\treturn tmpStack\n",
    "\n",
    "# Below is a complete running\n",
    "# program for testing above\n",
    "# function.\n",
    "\n",
    "# Function to create a stack.\n",
    "# It initializes size of stack\n",
    "# as 0\n",
    "def createStack():\n",
    "\tstack = []\n",
    "\treturn stack\n",
    "\n",
    "# Function to check if\n",
    "# the stack is empty\n",
    "def isEmpty( stack ):\n",
    "\treturn len(stack) == 0\n",
    "\n",
    "# Function to push an\n",
    "# item to stack\n",
    "def push( stack, item ):\n",
    "\tstack.append( item )\n",
    "\n",
    "# Function to get top\n",
    "# item of stack\n",
    "def top( stack ):\n",
    "\tp = len(stack)\n",
    "\treturn stack[p-1]\n",
    "\n",
    "# Function to pop an\n",
    "# item from stack\n",
    "def pop( stack ):\n",
    "\n",
    "\t# If stack is empty\n",
    "\t# then error\n",
    "\tif(isEmpty( stack )):\n",
    "\t\tprint(\"Stack Underflow \")\n",
    "\t\texit(1)\n",
    "\n",
    "\treturn stack.pop()\n",
    "\n",
    "# Function to print the stack\n",
    "def prints(stack):\n",
    "\tfor i in range(len(stack)-1, -1, -1):\n",
    "\t\tprint(stack[i], end = ' ')\n",
    "\tprint()\n",
    "\n",
    "# Driver Code\n",
    "stack = createStack()\n",
    "push(stack, str(34))\n",
    "push(stack, str(3))\n",
    "push(stack, str(31))\n",
    "push(stack, str(98))\n",
    "push(stack, str(92))\n",
    "push(stack, str(23))\n",
    "sortedst = sortStack (stack)\n",
    "prints(sortedst)"
   ]
  },
  {
   "cell_type": "markdown",
   "id": "aa4ddeb3",
   "metadata": {},
   "source": [
    "Answer of Question 3"
   ]
  },
  {
   "cell_type": "code",
   "execution_count": 6,
   "id": "b57808a9",
   "metadata": {},
   "outputs": [
    {
     "name": "stdout",
     "output_type": "stream",
     "text": [
      "1 2 4 5 "
     ]
    }
   ],
   "source": [
    "class Stack:\n",
    "\tdef __init__(self):\n",
    "\t\tself.items = []\n",
    "\t\n",
    "\tdef isEmpty(self):\n",
    "\t\treturn self.items == []\n",
    "\t\n",
    "\tdef push(self, item):\n",
    "\t\tself.items.append(item)\n",
    "\t\n",
    "\tdef pop(self):\n",
    "\t\treturn self.items.pop()\n",
    "\t\n",
    "\tdef peek(self):\n",
    "\t\treturn self.items[len(self.items)-1]\n",
    "\t\n",
    "\tdef size(self):\n",
    "\t\treturn len(self.items)\n",
    "\t\t\n",
    "def deleteMid(st, n, curr) :\n",
    "\n",
    "\t# If stack is empty or all items\n",
    "\t# are traversed\n",
    "\tif (st.isEmpty() or curr == n) :\n",
    "\t\treturn\n",
    "\t\n",
    "\t# Remove current item\n",
    "\tx = st.peek()\n",
    "\tst.pop()\n",
    "\t\n",
    "\t# Remove other items\n",
    "\tdeleteMid(st, n, curr+1)\n",
    "\t\n",
    "\t# Put all items back except middle\n",
    "\tif (curr != int(n/2)) :\n",
    "\t\tst.push(x)\n",
    "\n",
    "# Driver function to test above functions\n",
    "st = Stack()\n",
    "\n",
    "# push elements into the stack\n",
    "st.push('5')\n",
    "st.push('4')\n",
    "st.push('3')\n",
    "st.push('2')\n",
    "st.push('1')\n",
    "deleteMid(st, st.size(), 0)\n",
    "while (st.isEmpty() == False) :\n",
    "\tp = st.peek()\n",
    "\tst.pop()\n",
    "\tprint (str(p) + \" \", end=\"\")"
   ]
  },
  {
   "cell_type": "markdown",
   "id": "939c7097",
   "metadata": {},
   "source": [
    "Answer of Question 4"
   ]
  },
  {
   "cell_type": "code",
   "execution_count": 7,
   "id": "2d5e1fcd",
   "metadata": {},
   "outputs": [
    {
     "name": "stdout",
     "output_type": "stream",
     "text": [
      "Yes\n"
     ]
    }
   ],
   "source": [
    "from queue import Queue\n",
    "# Function to check if given queue element\n",
    "# can be sorted into another queue using a\n",
    "# stack.\n",
    "def checkSorted(n, q):\n",
    "\tst = []\n",
    "\texpected = 1\n",
    "\tfnt = None\n",
    "\n",
    "\t# while given Queue is not empty.\n",
    "\twhile (not q.empty()):\n",
    "\t\tfnt = q.queue[0]\n",
    "\t\tq.get()\n",
    "\n",
    "\t\t# if front element is the\n",
    "\t\t# expected element\n",
    "\t\tif (fnt == expected):\n",
    "\t\t\texpected += 1\n",
    "\n",
    "\t\telse:\n",
    "\t\t\t\n",
    "\t\t\t# if stack is empty, put the element\n",
    "\t\t\tif (len(st) == 0):\n",
    "\t\t\t\tst.append(fnt)\n",
    "\n",
    "\t\t\t# if top element is less than element which\n",
    "\t\t\t# need to be puted, then return false.\n",
    "\t\t\telif (len(st) != 0 and st[-1] < fnt):\n",
    "\t\t\t\treturn False\n",
    "\n",
    "\t\t\t# else put into the stack.\n",
    "\t\t\telse:\n",
    "\t\t\t\tst.append(fnt)\n",
    "\n",
    "\t\t# while expected element are coming\n",
    "\t\t# from stack, pop them out.\n",
    "\t\twhile (len(st) != 0 and\n",
    "\t\t\t\tst[-1] == expected):\n",
    "\t\t\tst.pop()\n",
    "\t\t\texpected += 1\n",
    "\n",
    "\t# if the final expected element value is equal\n",
    "\t# to initial Queue size and the stack is empty.\n",
    "\tif (expected - 1 == n and len(st) == 0):\n",
    "\t\treturn True\n",
    "\n",
    "\treturn False\n",
    "\n",
    "# Driver Code\n",
    "if __name__ == '__main__':\n",
    "\tq = Queue()\n",
    "\tq.put(5)\n",
    "\tq.put(1)\n",
    "\tq.put(2)\n",
    "\tq.put(3)\n",
    "\tq.put(4)\n",
    "\n",
    "\tn = q.qsize()\n",
    "\n",
    "\tif checkSorted(n, q):\n",
    "\t\tprint(\"Yes\")\n",
    "\telse:\n",
    "\t\tprint(\"No\")"
   ]
  },
  {
   "cell_type": "markdown",
   "id": "5dd1ba8c",
   "metadata": {},
   "source": [
    "Answer of Question 5"
   ]
  },
  {
   "cell_type": "code",
   "execution_count": 8,
   "id": "bed57b12",
   "metadata": {},
   "outputs": [
    {
     "name": "stdout",
     "output_type": "stream",
     "text": [
      "9986\n"
     ]
    }
   ],
   "source": [
    "# Stack to maintain order of digits\n",
    "st = []\n",
    "\n",
    "# Function to push digits into stack\n",
    "def push_digits(number):\n",
    "\n",
    "\twhile (number != 0):\n",
    "\t\tst.append(number % 10)\n",
    "\t\tnumber = int(number / 10)\n",
    "\n",
    "# Function to reverse the number\n",
    "def reverse_number(number):\n",
    "\t# Function call to push number's\n",
    "\t# digits to stack\n",
    "\tpush_digits(number)\n",
    "\treverse = 0\n",
    "\ti = 1\n",
    "\t# Popping the digits and forming\n",
    "\t# the reversed number\n",
    "\twhile (len(st) > 0):\n",
    "\t\treverse = reverse + (st[len(st) - 1] * i)\n",
    "\t\tst.pop()\n",
    "\t\ti = i * 10\n",
    "\t# Return the reversed number formed\n",
    "\treturn reverse\n",
    "\n",
    "# Driver Code\n",
    "number = 6899\n",
    "\n",
    "# Function call to reverse number\n",
    "print(reverse_number(number))"
   ]
  },
  {
   "cell_type": "markdown",
   "id": "7be83a7b",
   "metadata": {},
   "source": [
    "Answer of Question 6"
   ]
  },
  {
   "cell_type": "code",
   "execution_count": 9,
   "id": "512f9f50",
   "metadata": {},
   "outputs": [
    {
     "name": "stdout",
     "output_type": "stream",
     "text": [
      "5 4 3 2 1 6 7 8 9 10 11 "
     ]
    }
   ],
   "source": [
    "from collections import deque\n",
    "\n",
    "def reverse_first_k(q, k):\n",
    "\tsolve(q, k)\n",
    "\ts = len(q) - k\n",
    "\tfor _ in range(s):\n",
    "\t\tx = q.popleft()\n",
    "\t\tq.append(x)\n",
    "\treturn q\n",
    "\n",
    "def solve(q, k):\n",
    "\tif k == 0:\n",
    "\t\treturn\n",
    "\te = q.popleft()\n",
    "\tsolve(q, k - 1)\n",
    "\tq.append(e)\n",
    "\n",
    "# Driver code\n",
    "queue = deque([1, 2, 3, 4, 5, 6, 7, 8, 9,10,11])\n",
    "k = 5\n",
    "queue = reverse_first_k(queue, k)\n",
    "\n",
    "# Printing queue\n",
    "while queue:\n",
    "\tprint(queue.popleft(), end=' ')"
   ]
  },
  {
   "cell_type": "markdown",
   "id": "94780419",
   "metadata": {},
   "source": [
    "Answer of Question 7"
   ]
  },
  {
   "cell_type": "code",
   "execution_count": 10,
   "id": "0d40a4b0",
   "metadata": {},
   "outputs": [
    {
     "name": "stdout",
     "output_type": "stream",
     "text": [
      "0\n"
     ]
    }
   ],
   "source": [
    "def removeConsecutiveSame(v):\n",
    "\tst = []\n",
    "\t# Start traversing the sequence\n",
    "\tfor i in range(len(v)):\n",
    "\t\t\n",
    "\t\t# Push the current string if the stack\n",
    "\t\t# is empty\n",
    "\t\tif (len(st) == 0):\n",
    "\t\t\tst.append(v[i])\n",
    "\t\telse:\n",
    "\t\t\tStr = st[-1]\n",
    "\n",
    "\t\t\t# compare the current string with stack top\n",
    "\t\t\t# if equal, pop the top\n",
    "\t\t\tif (Str == v[i]):\n",
    "\t\t\t\tst.pop()\n",
    "\n",
    "\t\t\t# Otherwise push the current string\n",
    "\t\t\telse:\n",
    "\t\t\t\tst.append(v[i])\n",
    "\n",
    "\t# Return stack size\n",
    "\treturn len(st)\n",
    "# Driver code\n",
    "if __name__ == '__main__':\n",
    "\tV = [ \"tom\", \"jerry\", \"jerry\", \"tom\"]\n",
    "\tprint(removeConsecutiveSame(V))"
   ]
  },
  {
   "cell_type": "markdown",
   "id": "37cced1d",
   "metadata": {},
   "source": [
    "Answer of Question 8"
   ]
  },
  {
   "cell_type": "code",
   "execution_count": 11,
   "id": "4c330089",
   "metadata": {},
   "outputs": [
    {
     "name": "stdout",
     "output_type": "stream",
     "text": [
      "1\n"
     ]
    }
   ],
   "source": [
    "def leftsmaller(arr, n, SE):\n",
    "    # create an empty stack\n",
    "    sta = []\n",
    "    # Traverse all array elements\n",
    "    # compute nearest smaller elements of every element\n",
    "    for i in range(n): \n",
    "        # Keep removing top element from S while the top\n",
    "        # element is greater than or equal to arr[i]\n",
    "        while(sta != [] and sta[len(sta)-1] >= arr[i]):\n",
    "            sta.pop()\n",
    " \n",
    "        # Store the smaller element of current element\n",
    "        if(sta != []):\n",
    "            SE[i]=sta[len(sta)-1]\n",
    "        # If all elements in S were greater than arr[i]\n",
    "        else:\n",
    "            SE[i]=0\n",
    " \n",
    "        # push this element\n",
    "        sta.append(arr[i])\n",
    "# Function returns maximum difference between  Left  & right smaller element\n",
    "def findMaxDiff(arr, n):\n",
    "    ls=[0]*n # to store left smaller elements\n",
    "    rs=[0]*n # to store right smaller elements\n",
    " \n",
    "    # find left smaller elements of every element\n",
    "    leftsmaller(arr, n, ls)\n",
    "     \n",
    "    # find right smaller element of every element\n",
    "    # by sending reverse of array\n",
    "    leftsmaller(arr[::-1], n, rs)\n",
    " \n",
    "    # find maximum absolute difference b/w LS  & RRS\n",
    "    # In the reversed array right smaller for arr[i] is\n",
    "    # stored at RRS[n-i-1]\n",
    "    res = -1\n",
    "    for i in range(n):\n",
    "        res = max(res, abs(ls[i] - rs[n-1-i]))\n",
    "    # return maximum difference b/w LS  & RRS\n",
    "    return res\n",
    "\n",
    "if __name__=='__main__':\n",
    "    arr = [5, 1, 9, 2, 5, 1, 7]\n",
    "    print(findMaxDiff(arr, len(arr)))"
   ]
  },
  {
   "cell_type": "code",
   "execution_count": null,
   "id": "88489e32",
   "metadata": {},
   "outputs": [],
   "source": []
  }
 ],
 "metadata": {
  "kernelspec": {
   "display_name": "Python 3 (ipykernel)",
   "language": "python",
   "name": "python3"
  },
  "language_info": {
   "codemirror_mode": {
    "name": "ipython",
    "version": 3
   },
   "file_extension": ".py",
   "mimetype": "text/x-python",
   "name": "python",
   "nbconvert_exporter": "python",
   "pygments_lexer": "ipython3",
   "version": "3.9.12"
  }
 },
 "nbformat": 4,
 "nbformat_minor": 5
}
