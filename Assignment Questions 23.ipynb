{
 "cells": [
  {
   "cell_type": "markdown",
   "id": "4aebfbbf",
   "metadata": {},
   "source": [
    "Answer of Question-1:"
   ]
  },
  {
   "cell_type": "code",
   "execution_count": 1,
   "id": "5280517e",
   "metadata": {},
   "outputs": [
    {
     "name": "stdout",
     "output_type": "stream",
     "text": [
      "3\n"
     ]
    }
   ],
   "source": [
    "#find height of full binary tree using preorder\n",
    "# function to return max of left subtree height\n",
    "# or right subtree height\n",
    "def findDepthRec(tree, n, index) :\n",
    "\n",
    "\tif (index[0] >= n or tree[index[0]] == 'l'):\n",
    "\t\treturn 0\n",
    "\n",
    "\t# calc height of left subtree (In preorder\n",
    "\t# left subtree is processed before right)\n",
    "\tindex[0] += 1\n",
    "\tleft = findDepthRec(tree, n, index)\n",
    "\n",
    "\t# calc height of right subtree\n",
    "\tindex[0] += 1\n",
    "\tright = findDepthRec(tree, n, index)\n",
    "\treturn (max(left, right) + 1)\n",
    "\n",
    "# Wrapper over findDepthRec()\n",
    "def findDepth(tree, n) :\n",
    "\n",
    "\tindex = [0]\n",
    "\treturn findDepthRec(tree, n, index)\n",
    "\n",
    "\t\t\n",
    "# Driver program to test above functions\n",
    "if __name__ == '__main__':\n",
    "\ttree= \"nlnnlll\"\n",
    "\tn = len(tree)\n",
    "\n",
    "\tprint(findDepth(tree, n))"
   ]
  },
  {
   "cell_type": "markdown",
   "id": "340bb4b8",
   "metadata": {},
   "source": [
    "Answer of Question-2:"
   ]
  },
  {
   "cell_type": "code",
   "execution_count": 2,
   "id": "31318f02",
   "metadata": {},
   "outputs": [
    {
     "name": "stdout",
     "output_type": "stream",
     "text": [
      "4 5 3 6 "
     ]
    }
   ],
   "source": [
    "\n",
    "# Python program to print left view of Binary Tree\n",
    " \n",
    "# A binary tree node\n",
    "class Node:\n",
    " \n",
    "    # Constructor to create a new node\n",
    "    def __init__(self, data):\n",
    "        self.data = data\n",
    "        self.left = None\n",
    "        self.right = None\n",
    " \n",
    " \n",
    "# Recursive function print left view of a binary tree\n",
    "def leftViewUtil(root, level, max_level):\n",
    " \n",
    "    # Base Case\n",
    "    if root is None:\n",
    "        return\n",
    " \n",
    "    # If this is the first node of its level\n",
    "    if (max_level[0] < level):\n",
    "        print (root.data, end = \" \")\n",
    "        max_level[0] = level\n",
    " \n",
    "    # Recur for left and right subtree\n",
    "    leftViewUtil(root.left, level + 1, max_level)\n",
    "    leftViewUtil(root.right, level + 1, max_level)\n",
    " \n",
    " \n",
    "# A wrapper over leftViewUtil()\n",
    "def leftView(root):\n",
    "    max_level = [0]\n",
    "    leftViewUtil(root, 1, max_level)\n",
    " \n",
    " \n",
    "# Driver program to test above function\n",
    "if __name__ == '__main__':\n",
    "    root = Node(4)\n",
    "    root.left = Node(5)\n",
    "    root.right = Node(2)\n",
    "    root.right.left = Node(3)\n",
    "    root.right.right = Node(1)\n",
    "    root.right.left.left = Node(6)\n",
    "    root.right.left.right = Node(7)\n",
    "    leftView(root)"
   ]
  },
  {
   "cell_type": "markdown",
   "id": "777bdf9d",
   "metadata": {},
   "source": [
    "Answer of Question-3:"
   ]
  },
  {
   "cell_type": "code",
   "execution_count": 3,
   "id": "48939b11",
   "metadata": {},
   "outputs": [
    {
     "name": "stdout",
     "output_type": "stream",
     "text": [
      "1 3 7 8 "
     ]
    }
   ],
   "source": [
    "#  print right view of Binary Tree\n",
    "from collections import deque\n",
    "\n",
    "# A binary tree node\n",
    "\n",
    "\n",
    "class Node:\n",
    "\n",
    "\t# A constructor to create a new\n",
    "\t# Binary tree Node\n",
    "\tdef __init__(self, val):\n",
    "\t\tself.data = val\n",
    "\t\tself.left = None\n",
    "\t\tself.right = None\n",
    "\n",
    "# Function to print Right view of\n",
    "# binary tree\n",
    "\n",
    "\n",
    "def rightView(root):\n",
    "\n",
    "\tif root is None:\n",
    "\t\treturn\n",
    "\n",
    "\tq = deque()\n",
    "\tq.append(root)\n",
    "\n",
    "\twhile q:\n",
    "\n",
    "\t\t# Get number of nodes for each level\n",
    "\t\tn = len(q)\n",
    "\n",
    "\t\t# Traverse all the nodes of the\n",
    "\t\t# current level\n",
    "\n",
    "\t\twhile n > 0:\n",
    "\t\t\tn -= 1\n",
    "\n",
    "\t\t\t# Get the front node in the queue\n",
    "\t\t\tnode = q.popleft()\n",
    "\n",
    "\t\t\t# Print the last node of each level\n",
    "\t\t\tif n == 0:\n",
    "\t\t\t\tprint(node.data, end=\" \")\n",
    "\n",
    "\t\t\t# If left child is not null push it\n",
    "\t\t\t# into the queue\n",
    "\t\t\tif node.left:\n",
    "\t\t\t\tq.append(node.left)\n",
    "\n",
    "\t\t\t# If right child is not null push\n",
    "\t\t\t# it into the queue\n",
    "\t\t\tif node.right:\n",
    "\t\t\t\tq.append(node.right)\n",
    "\n",
    "# Driver code\n",
    "# Let's construct the tree as\n",
    "# shown in example\n",
    "root = Node(1)\n",
    "root.left = Node(2)\n",
    "root.right = Node(3)\n",
    "root.left.left = Node(4)\n",
    "root.left.right = Node(5)\n",
    "root.right.left = Node(6)\n",
    "root.right.right = Node(7)\n",
    "root.right.left.right = Node(8)\n",
    "rightView(root)"
   ]
  },
  {
   "cell_type": "markdown",
   "id": "2d661985",
   "metadata": {},
   "source": [
    "Answer of Question-4:"
   ]
  },
  {
   "cell_type": "code",
   "execution_count": 4,
   "id": "6c38642e",
   "metadata": {},
   "outputs": [
    {
     "name": "stdout",
     "output_type": "stream",
     "text": [
      "5 10 4 14 25 "
     ]
    }
   ],
   "source": [
    "# print Bottom View of Binary Tree\n",
    "class Node:\n",
    "\t\n",
    "\tdef __init__(self, key = None,\n",
    "\t\t\t\t\tleft = None,\n",
    "\t\t\t\t\tright = None):\n",
    "\t\t\t\t\t\t\n",
    "\t\tself.data = key\n",
    "\t\tself.left = left\n",
    "\t\tself.right = right\n",
    "\t\t\n",
    "def printBottomView(root):\n",
    "\t\n",
    "\t# Create a dictionary where\n",
    "\t# key -> relative horizontal distance\n",
    "\t# of the node from root node and\n",
    "\t# value -> pair containing node's\n",
    "\t# value and its level\n",
    "\td = dict()\n",
    "\t\n",
    "\tprintBottomViewUtil(root, d, 0, 0)\n",
    "\t\n",
    "\t# Traverse the dictionary in sorted\n",
    "\t# order of their keys and print\n",
    "\t# the bottom view\n",
    "\tfor i in sorted(d.keys()):\n",
    "\t\tprint(d[i][0], end = \" \")\n",
    "\n",
    "def printBottomViewUtil(root, d, hd, level):\n",
    "\t\n",
    "\t# Base case\n",
    "\tif root is None:\n",
    "\t\treturn\n",
    "\t\n",
    "\t# If current level is more than or equal\n",
    "\t# to maximum level seen so far for the\n",
    "\t# same horizontal distance or horizontal\n",
    "\t# distance is seen for the first time,\n",
    "\t# update the dictionary\n",
    "\tif hd in d:\n",
    "\t\tif level >= d[hd][1]:\n",
    "\t\t\td[hd] = [root.data, level]\n",
    "\telse:\n",
    "\t\td[hd] = [root.data, level]\n",
    "\t\t\n",
    "\t# recur for left subtree by decreasing\n",
    "\t# horizontal distance and increasing\n",
    "\t# level by 1\n",
    "\tprintBottomViewUtil(root.left, d, hd - 1,level + 1)\n",
    "\t\n",
    "\t# recur for right subtree by increasing\n",
    "\t# horizontal distance and increasing\n",
    "\t# level by 1\n",
    "\tprintBottomViewUtil(root.right, d, hd + 1,level + 1)\n",
    "\n",
    "# Driver Code\n",
    "if __name__ == '__main__':\n",
    "\t\n",
    "\troot = Node(20)\n",
    "\troot.left = Node(8)\n",
    "\troot.right = Node(22)\n",
    "\troot.left.left = Node(5)\n",
    "\troot.left.right = Node(3)\n",
    "\troot.right.left = Node(4)\n",
    "\troot.right.right = Node(25)\n",
    "\troot.left.right.left = Node(10)\n",
    "\troot.left.right.right = Node(14)\n",
    "\tprintBottomView(root)"
   ]
  },
  {
   "cell_type": "code",
   "execution_count": null,
   "id": "47c92bd7",
   "metadata": {},
   "outputs": [],
   "source": []
  }
 ],
 "metadata": {
  "kernelspec": {
   "display_name": "Python 3 (ipykernel)",
   "language": "python",
   "name": "python3"
  },
  "language_info": {
   "codemirror_mode": {
    "name": "ipython",
    "version": 3
   },
   "file_extension": ".py",
   "mimetype": "text/x-python",
   "name": "python",
   "nbconvert_exporter": "python",
   "pygments_lexer": "ipython3",
   "version": "3.9.12"
  }
 },
 "nbformat": 4,
 "nbformat_minor": 5
}
