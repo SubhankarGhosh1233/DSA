{
 "cells": [
  {
   "cell_type": "markdown",
   "id": "1cd6fd7b",
   "metadata": {},
   "source": [
    "Answer of Question 1"
   ]
  },
  {
   "cell_type": "code",
   "execution_count": 1,
   "id": "157ff17d",
   "metadata": {},
   "outputs": [
    {
     "name": "stdout",
     "output_type": "stream",
     "text": [
      "True\n"
     ]
    }
   ],
   "source": [
    "def isPower(n):# Power of Two\n",
    "        if n<=0:\n",
    "            return False\n",
    "        while n>0:\n",
    "            if n==1:\n",
    "                return True\n",
    "            elif n%2==0:\n",
    "                n/=2\n",
    "            else:\n",
    "                return False\n",
    "n = 1 \n",
    "print(isPower(n))"
   ]
  },
  {
   "cell_type": "markdown",
   "id": "49460efe",
   "metadata": {},
   "source": [
    "Answer of Question 2"
   ]
  },
  {
   "cell_type": "code",
   "execution_count": 2,
   "id": "879e1d70",
   "metadata": {},
   "outputs": [
    {
     "name": "stdout",
     "output_type": "stream",
     "text": [
      "6\n"
     ]
    }
   ],
   "source": [
    "def SumN(n):\n",
    "    sum = 0\n",
    "    x = 1\n",
    "    while x <= n:\n",
    "        sum = sum + x\n",
    "        x = x + 1\n",
    "    return sum\n",
    " \n",
    "n= 3\n",
    "print(SumN(n))"
   ]
  },
  {
   "cell_type": "markdown",
   "id": "d85e073d",
   "metadata": {},
   "source": [
    "Answer of Question 3"
   ]
  },
  {
   "cell_type": "code",
   "execution_count": 3,
   "id": "57a99fe0",
   "metadata": {},
   "outputs": [
    {
     "name": "stdout",
     "output_type": "stream",
     "text": [
      "120\n"
     ]
    }
   ],
   "source": [
    "def factorial(N):   \n",
    "    if N == 0:\n",
    "        return 1\n",
    "    return N * factorial(N-1)\n",
    "N =5\n",
    "print(factorial(N))"
   ]
  },
  {
   "cell_type": "markdown",
   "id": "1cd47266",
   "metadata": {},
   "source": [
    "Answer of Question 4"
   ]
  },
  {
   "cell_type": "code",
   "execution_count": 4,
   "id": "27ef641d",
   "metadata": {},
   "outputs": [
    {
     "name": "stdout",
     "output_type": "stream",
     "text": [
      "25\n"
     ]
    }
   ],
   "source": [
    "def power(N, P):\n",
    "    if P != 0:\n",
    "        return N * power(N, P - 1)\n",
    "    else:\n",
    "        return 1\n",
    "N = 5\n",
    "P = 2\n",
    "print(power(N, P))"
   ]
  },
  {
   "cell_type": "markdown",
   "id": "40f2f315",
   "metadata": {},
   "source": [
    "Answer of Question 5"
   ]
  },
  {
   "cell_type": "code",
   "execution_count": 5,
   "id": "670233ca",
   "metadata": {},
   "outputs": [
    {
     "name": "stdout",
     "output_type": "stream",
     "text": [
      "8\n"
     ]
    }
   ],
   "source": [
    "from functools import reduce\n",
    "def largest(arr):\n",
    " \n",
    "    # Sort the array\n",
    "    ans = reduce(max, arr)\n",
    " \n",
    "    return ans\n",
    "arr = [1, 4, 3, -5, -4, 8, 6]\n",
    "n = len(arr)\n",
    "print(largest(arr))"
   ]
  },
  {
   "cell_type": "markdown",
   "id": "94daf9c3",
   "metadata": {},
   "source": [
    "Answer of Question 6"
   ]
  },
  {
   "cell_type": "code",
   "execution_count": 6,
   "id": "0a56a7a9",
   "metadata": {},
   "outputs": [
    {
     "name": "stdout",
     "output_type": "stream",
     "text": [
      "6\n"
     ]
    }
   ],
   "source": [
    "def Nth_term(a, d, N) :\n",
    "    return (a + (N - 1) * d)\n",
    "a = 2\n",
    "d = 1\n",
    "N = 5      \n",
    "print(Nth_term(a, d, N))"
   ]
  },
  {
   "cell_type": "markdown",
   "id": "8dbf4370",
   "metadata": {},
   "source": [
    "Answer of Question 7"
   ]
  },
  {
   "cell_type": "code",
   "execution_count": 7,
   "id": "3456e340",
   "metadata": {},
   "outputs": [
    {
     "name": "stdout",
     "output_type": "stream",
     "text": [
      "['XY', 'YX']\n"
     ]
    }
   ],
   "source": [
    "def permutations(S):\n",
    "    if len(S) == 1:\n",
    "        return [S]\n",
    "    else:\n",
    "        perms = []\n",
    "        for i, c in enumerate(S):\n",
    "            for perm in permutations(S[:i] + S[i+1:]):\n",
    "                perms.append(c + perm)\n",
    "        return perms\n",
    "S= \"XY\"\n",
    "print(permutations(S))"
   ]
  },
  {
   "cell_type": "markdown",
   "id": "94cd3803",
   "metadata": {},
   "source": [
    "Answer of Question 8"
   ]
  },
  {
   "cell_type": "code",
   "execution_count": 8,
   "id": "f47d6ffb",
   "metadata": {},
   "outputs": [
    {
     "name": "stdout",
     "output_type": "stream",
     "text": [
      "120\n"
     ]
    }
   ],
   "source": [
    "def product(arr):\n",
    "    result = 1\n",
    "    for x in arr:\n",
    "        result = result * x\n",
    "    return result\n",
    "arr = [1, 2, 3, 4, 5]\n",
    "print(product(arr))"
   ]
  },
  {
   "cell_type": "code",
   "execution_count": null,
   "id": "47026d44",
   "metadata": {},
   "outputs": [],
   "source": []
  }
 ],
 "metadata": {
  "kernelspec": {
   "display_name": "Python 3 (ipykernel)",
   "language": "python",
   "name": "python3"
  },
  "language_info": {
   "codemirror_mode": {
    "name": "ipython",
    "version": 3
   },
   "file_extension": ".py",
   "mimetype": "text/x-python",
   "name": "python",
   "nbconvert_exporter": "python",
   "pygments_lexer": "ipython3",
   "version": "3.9.12"
  }
 },
 "nbformat": 4,
 "nbformat_minor": 5
}
