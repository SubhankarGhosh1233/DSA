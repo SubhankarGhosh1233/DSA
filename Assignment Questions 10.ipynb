{
 "cells": [
  {
   "cell_type": "markdown",
   "id": "873b1899",
   "metadata": {},
   "source": [
    "Answer of Question 1"
   ]
  },
  {
   "cell_type": "code",
   "execution_count": 1,
   "id": "28e585b3",
   "metadata": {},
   "outputs": [
    {
     "data": {
      "text/plain": [
       "True"
      ]
     },
     "execution_count": 1,
     "metadata": {},
     "output_type": "execute_result"
    }
   ],
   "source": [
    "def check_power(n):\n",
    "    if (n == 0):\n",
    "        return False\n",
    "    while (n != 1):\n",
    "        if (n % 3 != 0):\n",
    "             return False\n",
    "        n = n // 3\n",
    "    return True\n",
    "n = 27\n",
    "check_power(n)"
   ]
  },
  {
   "cell_type": "markdown",
   "id": "15b29555",
   "metadata": {},
   "source": [
    "Answer of Question 2"
   ]
  },
  {
   "cell_type": "code",
   "execution_count": 2,
   "id": "cb737e0c",
   "metadata": {},
   "outputs": [
    {
     "data": {
      "text/plain": [
       "6"
      ]
     },
     "execution_count": 2,
     "metadata": {},
     "output_type": "execute_result"
    }
   ],
   "source": [
    "def lastRemaining(n):\n",
    "        x, y = 1, n\n",
    "        i, step, cnt = 0, 1, n\n",
    "        while cnt > 1:\n",
    "            if i % 2:\n",
    "                y -= step\n",
    "                if cnt % 2:\n",
    "                    x += step\n",
    "            else:\n",
    "                x += step\n",
    "                if cnt % 2:\n",
    "                    y -= step\n",
    "            cnt >>= 1\n",
    "            step <<= 1\n",
    "            i += 1\n",
    "        return x\n",
    "n=9\n",
    "lastRemaining(n)"
   ]
  },
  {
   "cell_type": "markdown",
   "id": "c1df0181",
   "metadata": {},
   "source": [
    "Answer of Question 3"
   ]
  },
  {
   "cell_type": "code",
   "execution_count": 3,
   "id": "75440bc7",
   "metadata": {},
   "outputs": [
    {
     "name": "stdout",
     "output_type": "stream",
     "text": [
      "\n",
      "a\n",
      "ab\n",
      "abc\n",
      "ac\n",
      "b\n",
      "bc\n",
      "c\n"
     ]
    }
   ],
   "source": [
    "def powerSet(set, cur = \"\", index = -1):\n",
    "    \n",
    "    n = len(set)\n",
    "    if(index == n):\n",
    "        return\n",
    "    \n",
    "    print(cur)\n",
    "    \n",
    "    for i in range(index + 1, n):\n",
    "        cur = cur + set[i]\n",
    "        powerSet(set,cur,i)\n",
    "        cur = cur[:len(cur)-1]\n",
    "set = \"abc\"\n",
    "powerSet(set)"
   ]
  },
  {
   "cell_type": "markdown",
   "id": "4948aa36",
   "metadata": {},
   "source": [
    "Answer of Question 4"
   ]
  },
  {
   "cell_type": "code",
   "execution_count": 4,
   "id": "689d13a0",
   "metadata": {},
   "outputs": [
    {
     "data": {
      "text/plain": [
       "4"
      ]
     },
     "execution_count": 4,
     "metadata": {},
     "output_type": "execute_result"
    }
   ],
   "source": [
    "def string_length(str) :\n",
    "    # if we reach at the\n",
    "    # end of the string\n",
    "    if str == '':\n",
    "        return 0\n",
    "    else :\n",
    "        return 1 + string_length(str[1:])\n",
    "str = \"abcd\"\n",
    "string_length(str)"
   ]
  },
  {
   "cell_type": "markdown",
   "id": "561442df",
   "metadata": {},
   "source": [
    "Answer of Question 5"
   ]
  },
  {
   "cell_type": "code",
   "execution_count": 5,
   "id": "183c77c6",
   "metadata": {},
   "outputs": [
    {
     "data": {
      "text/plain": [
       "4"
      ]
     },
     "execution_count": 5,
     "metadata": {},
     "output_type": "execute_result"
    }
   ],
   "source": [
    "def checkEquality(S):\n",
    "    return (ord(S[0]) == ord(S[len(S) - 1]));\n",
    " \n",
    "def countSubstrs(S):\n",
    "    result = 0;\n",
    "    n = len(S);\n",
    " \n",
    "    # Starting point of substring\n",
    "    for i in range(n):\n",
    " \n",
    "    # Length of substring\n",
    "        for j in range(1,n-i+1):\n",
    " \n",
    "        # Check if current substring has same\n",
    "        # starting and ending characters.\n",
    "            if (checkEquality(S[i:i+j])):\n",
    "                result+=1;\n",
    " \n",
    "    return result;\n",
    "S = \"aba\"\n",
    "countSubstrs(S)"
   ]
  },
  {
   "cell_type": "markdown",
   "id": "ac577aa6",
   "metadata": {},
   "source": [
    "Answer of Question 6"
   ]
  },
  {
   "cell_type": "code",
   "execution_count": 6,
   "id": "3adb0185",
   "metadata": {},
   "outputs": [
    {
     "name": "stdout",
     "output_type": "stream",
     "text": [
      "Move disk 1 from rod 1 to rod 2\n",
      "Move disk 2 from rod 1 to rod 3\n",
      "Move disk 1 from rod 2 to rod 3\n",
      "Move disk 3 from rod 1 to rod 2\n",
      "Move disk 1 from rod 3 to rod 1\n",
      "Move disk 2 from rod 3 to rod 2\n",
      "Move disk 1 from rod 1 to rod 2\n"
     ]
    }
   ],
   "source": [
    "def TowerOfHanoi(n, from_rod, to_rod, aux_rod):\n",
    "    if n == 0:\n",
    "        return\n",
    "    TowerOfHanoi(n-1, from_rod, aux_rod, to_rod)\n",
    "    print(\"Move disk\", n, \"from rod\", from_rod, \"to rod\", to_rod)\n",
    "    TowerOfHanoi(n-1, aux_rod, to_rod, from_rod)\n",
    "N = 3\n",
    "# A, C, B are the name of rods\n",
    "TowerOfHanoi(N, '1', '2', '3')"
   ]
  },
  {
   "cell_type": "markdown",
   "id": "2edfe7a4",
   "metadata": {},
   "source": [
    "Answer of Question 7"
   ]
  },
  {
   "cell_type": "code",
   "execution_count": 7,
   "id": "017944ab",
   "metadata": {},
   "outputs": [
    {
     "name": "stdout",
     "output_type": "stream",
     "text": [
      "cd\n",
      "dc\n"
     ]
    }
   ],
   "source": [
    "def permutations(str, i=0):\n",
    "\n",
    "    if i == len(str): \n",
    "        print(\"\".join(str))\n",
    "\n",
    "    for j in range(i, len(str)):\n",
    "\n",
    "        words = [c for c in str]\n",
    "   \n",
    "        # swap\n",
    "        words[i], words[j] = words[j], words[i]\n",
    " \n",
    "        permutations(words, i + 1)\n",
    "\n",
    "str= \"cd\"\n",
    "permutations(str)"
   ]
  },
  {
   "cell_type": "markdown",
   "id": "2fbb50d3",
   "metadata": {},
   "source": [
    "Answer of Question 8"
   ]
  },
  {
   "cell_type": "code",
   "execution_count": 8,
   "id": "856183cd",
   "metadata": {},
   "outputs": [
    {
     "data": {
      "text/plain": [
       "3"
      ]
     },
     "execution_count": 8,
     "metadata": {},
     "output_type": "execute_result"
    }
   ],
   "source": [
    "# Function to check for consonant\n",
    "def isConsonant(ch):\n",
    "      \n",
    "    # To handle lower case\n",
    "    ch = ch.upper()\n",
    "  \n",
    "    return not (ch == 'A' or ch == 'E' or \n",
    "                ch == 'I' or ch == 'O' or \n",
    "                ch == 'U') and ord(ch) >= 65 and ord(ch) <= 90\n",
    "  \n",
    "def totalConsonants(string):\n",
    "      \n",
    "    count = 0\n",
    "      \n",
    "    for i in range(len(string)):\n",
    "  \n",
    "        # To check is character is Consonant\n",
    "        if (isConsonant(string[i])):\n",
    "            count += 1\n",
    "              \n",
    "    return count\n",
    "string = \"abc de\"\n",
    "totalConsonants(string)"
   ]
  },
  {
   "cell_type": "code",
   "execution_count": null,
   "id": "0ee2ea4b",
   "metadata": {},
   "outputs": [],
   "source": []
  }
 ],
 "metadata": {
  "kernelspec": {
   "display_name": "Python 3 (ipykernel)",
   "language": "python",
   "name": "python3"
  },
  "language_info": {
   "codemirror_mode": {
    "name": "ipython",
    "version": 3
   },
   "file_extension": ".py",
   "mimetype": "text/x-python",
   "name": "python",
   "nbconvert_exporter": "python",
   "pygments_lexer": "ipython3",
   "version": "3.9.12"
  }
 },
 "nbformat": 4,
 "nbformat_minor": 5
}
