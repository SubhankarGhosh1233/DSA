{
 "cells": [
  {
   "cell_type": "markdown",
   "id": "fbab690e",
   "metadata": {},
   "source": [
    "1. Write a Python program to reverse a string without using any built-in string reversal functions.\n",
    "2. Implement a function to check if a given string is a palindrome.\n",
    "3. Write a program to find the largest element in a given list.\n",
    "4. Implement a function to count the occurrence of each element in a list.\n",
    "5. Write a Python program to find the second largest number in a list.\n",
    "6. Implement a function to remove duplicate elements from a list.\n",
    "7. Write a program to calculate the factorial of a given number.\n",
    "8. Implement a function to check if a given number is prime.\n",
    "9. Write a Python program to sort a list of integers in ascending order.\n",
    "10. Implement a function to find the sum of all numbers in a list.\n",
    "11. Write a program to find the common elements between two lists.\n",
    "12. Implement a function to check if a given string is an anagram of another string.\n",
    "13. Write a Python program to generate all permutations of a given string.\n",
    "14. Implement a function to calculate the Fibonacci sequence up to a given number of terms.\n",
    "15. Write a program to find the median of a list of numbers.\n",
    "16. Implement a function to check if a given list is sorted in non-decreasing order.\n",
    "17. Write a Python program to find the intersection of two lists.\n",
    "18. Implement a function to find the maximum subarray sum in a given list.\n",
    "19. Write a program to remove all vowels from a given string.\n",
    "20. Implement a function to reverse the order of words in a given sentence.\n",
    "21. Write a Python program to check if two strings are anagrams of each other.\n",
    "22. Implement a function to find the first non-repeating character in a string.\n",
    "23. Write a program to find the prime factors of a given number.\n",
    "24. Implement a function to check if a given number is a power of two.\n",
    "25. Write a Python program to merge two sorted lists into a single sorted list.\n",
    "26. Implement a function to find the mode of a list of numbers.\n",
    "27. Write a program to find the greatest common divisor (GCD) of two numbers.\n",
    "28. Implement a function to calculate the square root of a given number.\n",
    "29. Write a Python program to check if a given string is a valid palindrome ignoring non-alphanumeric characters.\n",
    "30. Implement a function to find the minimum element in a rotated sorted list.\n",
    "31. Write a program to find the sum of all even numbers in a list.\n",
    "32. Implement a function to calculate the power of a number using recursion.\n",
    "33. Write a Python program to remove duplicates from a list while preserving the order.\n",
    "34. Implement a function to find the longest common prefix among a list of strings.\n",
    "35. Write a program to check if a given number is a perfect square.\n",
    "36. Implement a function to calculate the product of all elements in a list.\n",
    "37. Write a Python program to reverse the order of words in a sentence while preserving the word order.\n",
    "38. Implement a function to find the missing number in a given list of consecutive numbers.\n",
    "39. Write a program to find the sum of digits of a given number.\n",
    "40. Implement a function to check if a given string is a valid palindrome considering case sensitivity.\n",
    "41. Write a Python program to find the smallest missing positive integer in a list.\n",
    "42. Implement a function to find the longest palindrome substring in a given string.\n",
    "43. Write a program to find the number of occurrences of a given element in a list.\n",
    "44. Implement a function to check if a given number is a perfect number.\n",
    "45. Write a Python program to remove all duplicates from a string.\n",
    "46. Implement a function to find the first missing positive\n",
    "\n"
   ]
  },
  {
   "cell_type": "markdown",
   "id": "0b72b683",
   "metadata": {},
   "source": [
    "1. Write a Python program to reverse a string without using any built-in string reversal functions.\n"
   ]
  },
  {
   "cell_type": "code",
   "execution_count": 1,
   "id": "69e07f1c",
   "metadata": {},
   "outputs": [
    {
     "data": {
      "text/plain": [
       "'hsohG raknahbuS'"
      ]
     },
     "execution_count": 1,
     "metadata": {},
     "output_type": "execute_result"
    }
   ],
   "source": [
    "my_string=\"Subhankar Ghosh\"\n",
    "str=\"\"\n",
    "for i in my_string:\n",
    "    str=i+str\n",
    "str"
   ]
  },
  {
   "cell_type": "markdown",
   "id": "50afb7eb",
   "metadata": {},
   "source": [
    "2. Implement a function to check if a given string is a palindrome.\n"
   ]
  },
  {
   "cell_type": "code",
   "execution_count": 2,
   "id": "db0d8311",
   "metadata": {},
   "outputs": [
    {
     "name": "stdout",
     "output_type": "stream",
     "text": [
      "Yes\n"
     ]
    }
   ],
   "source": [
    "def palindrome(s):\n",
    "    return s == s[::-1]\n",
    "s = \"sgs\"\n",
    "ans = palindrome(s) \n",
    "if ans:\n",
    "    print(\"Yes\")\n",
    "else:\n",
    "    print(\"No\")"
   ]
  },
  {
   "cell_type": "markdown",
   "id": "eb82d95a",
   "metadata": {},
   "source": [
    "3. Write a program to find the largest element in a given list.\n"
   ]
  },
  {
   "cell_type": "code",
   "execution_count": 3,
   "id": "3fdf8d5a",
   "metadata": {},
   "outputs": [
    {
     "name": "stdout",
     "output_type": "stream",
     "text": [
      "Largest number in the list is: 44\n"
     ]
    }
   ],
   "source": [
    "list1 = [1, 2, 3, 44, 5]\n",
    "print(\"Largest number in the list is:\", max(list1))"
   ]
  },
  {
   "cell_type": "markdown",
   "id": "ca01534b",
   "metadata": {},
   "source": [
    "4. Implement a function to count the occurrence of each element in a list."
   ]
  },
  {
   "cell_type": "code",
   "execution_count": 4,
   "id": "54ac8e08",
   "metadata": {},
   "outputs": [
    {
     "name": "stdout",
     "output_type": "stream",
     "text": [
      "2 has occurred 3 times\n"
     ]
    }
   ],
   "source": [
    "from collections import Counter\n",
    "list1 = [1.4,2,3,4,5,6,7,8,2,9,10,11,2,12]\n",
    "x = 2\n",
    "d = Counter(list1)\n",
    "print('{} has occurred {} times'.format(x, d[x]))"
   ]
  },
  {
   "cell_type": "markdown",
   "id": "f2a165d2",
   "metadata": {},
   "source": [
    "5. Write a Python program to find the second largest number in a list.\n"
   ]
  },
  {
   "cell_type": "code",
   "execution_count": 5,
   "id": "07861435",
   "metadata": {},
   "outputs": [
    {
     "name": "stdout",
     "output_type": "stream",
     "text": [
      "Second largest element is: 5\n"
     ]
    }
   ],
   "source": [
    "list1 = [1, 2, 3, 44, 5]\n",
    "list2 = list(set(list1))\n",
    "list2.sort()\n",
    "print(\"Second largest element is:\", list2[-2])"
   ]
  },
  {
   "cell_type": "markdown",
   "id": "ab255632",
   "metadata": {},
   "source": [
    "6. Implement a function to remove duplicate elements from a list.\n"
   ]
  },
  {
   "cell_type": "code",
   "execution_count": 6,
   "id": "dce24b96",
   "metadata": {},
   "outputs": [
    {
     "data": {
      "text/plain": [
       "[1, 2, 33, 44, 10, 20, 5, 22, 55]"
      ]
     },
     "execution_count": 6,
     "metadata": {},
     "output_type": "execute_result"
    }
   ],
   "source": [
    "def remove_duplicate(my_list):\n",
    "    unique_list = []\n",
    "    for num in my_list:\n",
    "        if num not in unique_list:\n",
    "            unique_list.append(num)\n",
    "    return unique_list\n",
    "my_list = [1, 2, 33,44,33,10, 20, 5, 2, 22, 44,55]\n",
    "remove_duplicate(my_list)"
   ]
  },
  {
   "cell_type": "markdown",
   "id": "401ac3ce",
   "metadata": {},
   "source": [
    "7. Write a program to calculate the factorial of a given number.\n"
   ]
  },
  {
   "cell_type": "code",
   "execution_count": 7,
   "id": "3a369726",
   "metadata": {},
   "outputs": [
    {
     "name": "stdout",
     "output_type": "stream",
     "text": [
      "Factorial of the given number is:  120\n"
     ]
    }
   ],
   "source": [
    "number = 5\n",
    "factorial = 1\n",
    "if number >= 1:\n",
    "    for i in range (1, number+1):\n",
    "        factorial = factorial *i\n",
    "\n",
    "print (\"Factorial of the given number is: \", factorial)"
   ]
  },
  {
   "cell_type": "markdown",
   "id": "6e6679fc",
   "metadata": {},
   "source": [
    "8. Implement a function to check if a given number is prime.\n"
   ]
  },
  {
   "cell_type": "code",
   "execution_count": 8,
   "id": "79da5911",
   "metadata": {},
   "outputs": [
    {
     "data": {
      "text/plain": [
       "True"
      ]
     },
     "execution_count": 8,
     "metadata": {},
     "output_type": "execute_result"
    }
   ],
   "source": [
    "def isprime(num):\n",
    "    for n in range(2,int(num**0.5)+1):\n",
    "        if num%n==0:\n",
    "            return False\n",
    "    return True\n",
    "isprime(3)"
   ]
  },
  {
   "cell_type": "markdown",
   "id": "24b14578",
   "metadata": {},
   "source": [
    "9. Write a Python program to sort a list of integers in ascending order.\n"
   ]
  },
  {
   "cell_type": "code",
   "execution_count": 9,
   "id": "37ee9604",
   "metadata": {},
   "outputs": [
    {
     "name": "stdout",
     "output_type": "stream",
     "text": [
      "[1, 2, 3, 5, 44]\n"
     ]
    }
   ],
   "source": [
    "list1 = [1, 2, 3, 44, 5]\n",
    "print(sorted(list1))"
   ]
  },
  {
   "cell_type": "markdown",
   "id": "419b4191",
   "metadata": {},
   "source": [
    "10. Implement a function to find the sum of all numbers in a list.\n"
   ]
  },
  {
   "cell_type": "code",
   "execution_count": 10,
   "id": "f9172ccc",
   "metadata": {},
   "outputs": [
    {
     "name": "stdout",
     "output_type": "stream",
     "text": [
      "Sum of all elements in given list:  55\n"
     ]
    }
   ],
   "source": [
    "def sum(list1):\n",
    "    total = 0\n",
    "    for element in list1:\n",
    "        total =total+ element\n",
    "    return total\n",
    "list1 = [1, 2, 3, 44, 5]\n",
    "print(\"Sum of all elements in given list: \", sum(list1))"
   ]
  },
  {
   "cell_type": "markdown",
   "id": "c2deb18d",
   "metadata": {},
   "source": [
    "11. Write a program to find the common elements between two lists.\n"
   ]
  },
  {
   "cell_type": "code",
   "execution_count": 11,
   "id": "596b6749",
   "metadata": {},
   "outputs": [
    {
     "name": "stdout",
     "output_type": "stream",
     "text": [
      "[1, 44]\n"
     ]
    }
   ],
   "source": [
    "list1 = [1, 2, 3, 44, 5]\n",
    "list2 = [1, 22, 33, 44, 55]\n",
    "a=(set(list1).intersection(list2))\n",
    "print(list(a))"
   ]
  },
  {
   "cell_type": "markdown",
   "id": "bc1e9ce8",
   "metadata": {},
   "source": [
    "12. Implement a function to check if a given string is an anagram of another string.\n"
   ]
  },
  {
   "cell_type": "code",
   "execution_count": 12,
   "id": "68869c63",
   "metadata": {},
   "outputs": [
    {
     "data": {
      "text/plain": [
       "True"
      ]
     },
     "execution_count": 12,
     "metadata": {},
     "output_type": "execute_result"
    }
   ],
   "source": [
    "def is_anagram(string1, string2):\n",
    "        if sorted(string1) == sorted(string2):\n",
    "            return True\n",
    "        else:\n",
    "            return False\n",
    "string1 = \"aaddcb\"\n",
    "string2 = \"aadcdb\"\n",
    "is_anagram(string1, string2)"
   ]
  },
  {
   "cell_type": "markdown",
   "id": "e99a89a6",
   "metadata": {},
   "source": [
    "13. Write a Python program to generate all permutations of a given string.\n"
   ]
  },
  {
   "cell_type": "code",
   "execution_count": 13,
   "id": "73aadb30",
   "metadata": {},
   "outputs": [
    {
     "name": "stdout",
     "output_type": "stream",
     "text": [
      "A b C\n",
      "A C b\n",
      "b A C\n",
      "b C A\n",
      "C A b\n",
      "C b A\n"
     ]
    }
   ],
   "source": [
    "import itertools\n",
    "string = 'AbC'\n",
    "\n",
    "nums = list(string)\n",
    "permutations = list(itertools.permutations(nums))\n",
    "for i in permutations:\n",
    "    print(\" \".join(i))"
   ]
  },
  {
   "cell_type": "markdown",
   "id": "fed38d90",
   "metadata": {},
   "source": [
    "14. Implement a function to calculate the Fibonacci sequence up to a given number of terms.\n"
   ]
  },
  {
   "cell_type": "code",
   "execution_count": 14,
   "id": "55cc1298",
   "metadata": {},
   "outputs": [
    {
     "name": "stdout",
     "output_type": "stream",
     "text": [
      "0\n",
      "1\n",
      "1\n",
      "2\n",
      "3\n",
      "5\n",
      "8\n",
      "13\n",
      "21\n",
      "34\n"
     ]
    }
   ],
   "source": [
    "def fibonacci(number):\n",
    "    First_val = 0\n",
    "    Second_val = 1\n",
    "    for n in range(0, number):\n",
    "        \n",
    "        if(n <= 1):\n",
    "                  next = n\n",
    "        else:  \n",
    "            next = First_val + Second_val\n",
    "            First_val = Second_val\n",
    "            Second_val = next\n",
    "        print(next)\n",
    "fibonacci(10)        "
   ]
  },
  {
   "cell_type": "markdown",
   "id": "72533ad8",
   "metadata": {},
   "source": [
    "15. Write a program to find the median of a list of numbers.\n"
   ]
  },
  {
   "cell_type": "code",
   "execution_count": 15,
   "id": "19278891",
   "metadata": {},
   "outputs": [
    {
     "name": "stdout",
     "output_type": "stream",
     "text": [
      "Median of list1 =  3\n"
     ]
    }
   ],
   "source": [
    "import statistics\n",
    "list1 = [1, 2, 3, 44, 5]\n",
    "print(\"Median of list1 = \", statistics.median(list1))"
   ]
  },
  {
   "cell_type": "markdown",
   "id": "c2f6c942",
   "metadata": {},
   "source": [
    "16. Implement a function to check if a given list is sorted in non-decreasing order.\n"
   ]
  },
  {
   "cell_type": "code",
   "execution_count": 16,
   "id": "fdc743b6",
   "metadata": {},
   "outputs": [
    {
     "name": "stdout",
     "output_type": "stream",
     "text": [
      "Yes, List is sorted non-decreasing order.\n"
     ]
    }
   ],
   "source": [
    "def is_sorted(test_list):\n",
    "    flag = 0\n",
    "    i = 1\n",
    "    while i < len(test_list):\n",
    "        if(test_list[i] > test_list[i - 1]):\n",
    "            flag = 1\n",
    "        i += 1\n",
    "    if (not flag) :\n",
    "        print (\"Yes, List is sorted non-decreasing order.\")\n",
    "    else :\n",
    "        print (\"No, List is not sorted non-decreasing order.\")\n",
    "test_list = [10,9, 8,7,6,5, 4, 3,2, 1]\n",
    "is_sorted(test_list)"
   ]
  },
  {
   "cell_type": "markdown",
   "id": "72ea8e9f",
   "metadata": {},
   "source": [
    "17. Write a Python program to find the intersection of two lists.\n"
   ]
  },
  {
   "cell_type": "code",
   "execution_count": 17,
   "id": "7dadc213",
   "metadata": {},
   "outputs": [
    {
     "name": "stdout",
     "output_type": "stream",
     "text": [
      "[32, 1, 44]\n"
     ]
    }
   ],
   "source": [
    "list1 = [1, 2, 3, 44, 5,3,7,44,65,32,76]\n",
    "list2 = [1, 22, 33, 44, 55,93,32,99,41,62,77]\n",
    "a=(set(list1).intersection(list2))\n",
    "print(list(a))"
   ]
  },
  {
   "cell_type": "markdown",
   "id": "3ca19f1f",
   "metadata": {},
   "source": [
    "18. Implement a function to find the maximum subarray sum in a given list.\n"
   ]
  },
  {
   "cell_type": "code",
   "execution_count": 18,
   "id": "4dd285c2",
   "metadata": {},
   "outputs": [
    {
     "name": "stdout",
     "output_type": "stream",
     "text": [
      "The largest sum is:  4\n"
     ]
    }
   ],
   "source": [
    "def Max_sum(my_list):\n",
    "    x = 0\n",
    "    y = 0\n",
    "    for i in my_list:\n",
    "        y = y + i\n",
    "        y = max(y, 0)\n",
    "        x = max(x, y)\n",
    "    return x\n",
    "my_list = [-1, 1,-2, 3,-5,4]\n",
    "print('The largest sum is: ',Max_sum(my_list))"
   ]
  },
  {
   "cell_type": "markdown",
   "id": "13969f9b",
   "metadata": {},
   "source": [
    "19. Write a program to remove all vowels from a given string.\n"
   ]
  },
  {
   "cell_type": "code",
   "execution_count": 19,
   "id": "01aae036",
   "metadata": {},
   "outputs": [
    {
     "name": "stdout",
     "output_type": "stream",
     "text": [
      "After removing Vowels:  mbrll\n"
     ]
    }
   ],
   "source": [
    "mystring = \"Umbrella\"\n",
    "vowels = ['a', 'e', 'i', 'o', 'u', 'A', 'E', 'I', 'O', 'U']\n",
    "result = \"\"\n",
    "for char in mystring:\n",
    "    if char not in vowels:\n",
    "        result = result + char\n",
    "\n",
    "print(\"After removing Vowels: \", result)"
   ]
  },
  {
   "cell_type": "markdown",
   "id": "a4e0bb54",
   "metadata": {},
   "source": [
    "20. Implement a function to reverse the order of words in a given sentence.\n"
   ]
  },
  {
   "cell_type": "code",
   "execution_count": 20,
   "id": "772ce9ab",
   "metadata": {},
   "outputs": [
    {
     "data": {
      "text/plain": [
       "'hsohGraknahbuS'"
      ]
     },
     "execution_count": 20,
     "metadata": {},
     "output_type": "execute_result"
    }
   ],
   "source": [
    "def reverse(str):\n",
    "    str = str[::-1]\n",
    "    return str\n",
    "str=\"SubhankarGhosh\"\n",
    "reverse(str)"
   ]
  },
  {
   "cell_type": "markdown",
   "id": "865af3b8",
   "metadata": {},
   "source": [
    "21. Write a Python program to check if two strings are anagrams of each other.\n"
   ]
  },
  {
   "cell_type": "code",
   "execution_count": 21,
   "id": "4ba20e64",
   "metadata": {},
   "outputs": [
    {
     "name": "stdout",
     "output_type": "stream",
     "text": [
      "Two strings are not anagrams.\n"
     ]
    }
   ],
   "source": [
    "string1 = \"aaddcb\"\n",
    "string2 = \"aaddb\"\n",
    "if sorted(string1) == sorted(string2):\n",
    "    print(\"Two strings are anagrams.\")\n",
    "else:\n",
    "    print (\"Two strings are not anagrams.\")"
   ]
  },
  {
   "cell_type": "markdown",
   "id": "c14e405f",
   "metadata": {},
   "source": [
    "22. Implement a function to find the first non-repeating character in a string.\n"
   ]
  },
  {
   "cell_type": "code",
   "execution_count": 22,
   "id": "0746183a",
   "metadata": {},
   "outputs": [
    {
     "name": "stdout",
     "output_type": "stream",
     "text": [
      "First Non-Repeating Character =  b\n"
     ]
    }
   ],
   "source": [
    "def non_repeating(my_string):\n",
    "    char_order = []\n",
    "    counts = {}\n",
    "    for i in my_string:\n",
    "        if i in counts:\n",
    "            counts[i] += 1\n",
    "        else:\n",
    "            counts[i] = 1\n",
    "            char_order.append(i)\n",
    "    for i in char_order:\n",
    "        if counts[i] == 1:\n",
    "            return i\n",
    "    return None\n",
    "str1='abcdeacde'\n",
    "print(\"First Non-Repeating Character = \",non_repeating(str1))"
   ]
  },
  {
   "cell_type": "markdown",
   "id": "d5bed18d",
   "metadata": {},
   "source": [
    "23 Write a program to find the prime factors of a given number."
   ]
  },
  {
   "cell_type": "code",
   "execution_count": 23,
   "id": "2737fa2a",
   "metadata": {},
   "outputs": [
    {
     "name": "stdout",
     "output_type": "stream",
     "text": [
      "The prime factors of given number of 'n' is: 23\n"
     ]
    }
   ],
   "source": [
    "n=345\n",
    "i = 2  \n",
    "while i * i <= n:  \n",
    "    if n % i:  \n",
    "        i += 1  \n",
    "    else:  \n",
    "        n //= i  \n",
    "print (\"The prime factors of given number of 'n' is:\",n)"
   ]
  },
  {
   "cell_type": "markdown",
   "id": "6048652b",
   "metadata": {},
   "source": [
    "24. Implement a function to check if a given number is a power of two.\n",
    "\n"
   ]
  },
  {
   "cell_type": "code",
   "execution_count": 24,
   "id": "3be9562e",
   "metadata": {},
   "outputs": [
    {
     "data": {
      "text/plain": [
       "True"
      ]
     },
     "execution_count": 24,
     "metadata": {},
     "output_type": "execute_result"
    }
   ],
   "source": [
    "def is_power_of_two(n):\n",
    "    if (n == 0):\n",
    "        return False\n",
    "    while (n != 1):\n",
    "        if (n % 2 != 0):\n",
    "            return False\n",
    "        n = n // 2\n",
    "    return True\n",
    "is_power_of_two(8)"
   ]
  },
  {
   "cell_type": "markdown",
   "id": "6e4130a4",
   "metadata": {},
   "source": [
    "25. Write a Python program to merge two sorted lists into a single sorted list.\n"
   ]
  },
  {
   "cell_type": "code",
   "execution_count": 25,
   "id": "7c371d10",
   "metadata": {},
   "outputs": [
    {
     "data": {
      "text/plain": [
       "[1, 2, 3, 4, 5, 10, 20, 30]"
      ]
     },
     "execution_count": 25,
     "metadata": {},
     "output_type": "execute_result"
    }
   ],
   "source": [
    "test_list1 = [1, 10, 20, 30]\n",
    "test_list2 = [2, 3, 4, 5]\n",
    "single_list = sorted(test_list1 + test_list2)\n",
    "single_list"
   ]
  },
  {
   "cell_type": "markdown",
   "id": "f647fc48",
   "metadata": {},
   "source": [
    "26. Implement a function to find the mode of a list of numbers.\n"
   ]
  },
  {
   "cell_type": "code",
   "execution_count": 26,
   "id": "ee8712da",
   "metadata": {},
   "outputs": [
    {
     "data": {
      "text/plain": [
       "[2]"
      ]
     },
     "execution_count": 26,
     "metadata": {},
     "output_type": "execute_result"
    }
   ],
   "source": [
    "def mode(mylist):\n",
    "    counts = {}\n",
    "    for item in mylist:\n",
    "        if item in counts:\n",
    "            counts[item] += 1\n",
    "        else:\n",
    "            counts[item] = 1\n",
    "    return [key for key in counts.keys() if counts[key] == max(counts.values())]\n",
    "mylist=[2,2,4,5,6,2,3,5]\n",
    "mode(mylist)"
   ]
  },
  {
   "cell_type": "markdown",
   "id": "421ae696",
   "metadata": {},
   "source": [
    "27. Write a program to find the greatest common divisor (GCD) of two numbers.\n"
   ]
  },
  {
   "cell_type": "code",
   "execution_count": 27,
   "id": "3c1c4aa9",
   "metadata": {},
   "outputs": [
    {
     "name": "stdout",
     "output_type": "stream",
     "text": [
      "4\n"
     ]
    }
   ],
   "source": [
    "import math\n",
    "num1= 8\n",
    "num2=12\n",
    "GCD=math.gcd(num1,num2)\n",
    "print(GCD)"
   ]
  },
  {
   "cell_type": "markdown",
   "id": "013dfb66",
   "metadata": {},
   "source": [
    "28. Implement a function to calculate the square root of a given number.\n"
   ]
  },
  {
   "cell_type": "code",
   "execution_count": 28,
   "id": "91ffc8f6",
   "metadata": {},
   "outputs": [
    {
     "data": {
      "text/plain": [
       "9"
      ]
     },
     "execution_count": 28,
     "metadata": {},
     "output_type": "execute_result"
    }
   ],
   "source": [
    "def squares_root(num1):\n",
    "    square_rt = num1**0.5\n",
    "    s = int(square_rt)\n",
    "    return s\n",
    "num1= 81\n",
    "squares_root(num1)"
   ]
  },
  {
   "cell_type": "markdown",
   "id": "4dc238ba",
   "metadata": {},
   "source": [
    "29. Write a Python program to check if a given string is a valid palindrome ignoring non-alphanumeric characters.\n"
   ]
  },
  {
   "cell_type": "code",
   "execution_count": 29,
   "id": "e6f03442",
   "metadata": {},
   "outputs": [
    {
     "data": {
      "text/plain": [
       "True"
      ]
     },
     "execution_count": 29,
     "metadata": {},
     "output_type": "execute_result"
    }
   ],
   "source": [
    "def is_palindrome(mystring):\n",
    "    return mystring == mystring[::-1]\n",
    "mystring=\"s121s\"\n",
    "is_palindrome(mystring)"
   ]
  },
  {
   "cell_type": "markdown",
   "id": "595cc3cc",
   "metadata": {},
   "source": [
    "30. Implement a function to find the minimum element in a rotated sorted list.\n"
   ]
  },
  {
   "cell_type": "code",
   "execution_count": 30,
   "id": "1eae191a",
   "metadata": {},
   "outputs": [
    {
     "name": "stdout",
     "output_type": "stream",
     "text": [
      "The minimum element is: 1\n"
     ]
    }
   ],
   "source": [
    "import sys\n",
    "def findminimum(mylist):\n",
    "    n = len(mylist)\n",
    "    minimum = sys.maxsize\n",
    "    for i in range(n):\n",
    "        minimum = min(minimum, mylist[i])\n",
    "    return minimum\n",
    "mylist = [1,2,3,4,5,6,8,7]\n",
    "result = findminimum(mylist)\n",
    "print(\"The minimum element is:\", result)"
   ]
  },
  {
   "cell_type": "markdown",
   "id": "0bd3cf06",
   "metadata": {},
   "source": [
    "31. Write a program to find the sum of all even numbers in a list.\n"
   ]
  },
  {
   "cell_type": "code",
   "execution_count": 31,
   "id": "3797c7b7",
   "metadata": {},
   "outputs": [
    {
     "name": "stdout",
     "output_type": "stream",
     "text": [
      "even numbers in a list are: \n",
      "2\n",
      "4\n",
      "6\n",
      "8\n",
      "10\n",
      "12\n",
      "sum of these even numbers in this list is: \n",
      "42\n"
     ]
    }
   ],
   "source": [
    "list1 = [1.4,2,3,4,5,6,7,8,9,10,11,12]\n",
    "print(\"even numbers in a list are: \")\n",
    "sum_even=0\n",
    "for num in list1:\n",
    "    if num % 2 == 0:\n",
    "        print (num)\n",
    "        sum_even = sum_even+num\n",
    "print(\"sum of these even numbers in this list is: \")\n",
    "print(sum_even)\n",
    "    "
   ]
  },
  {
   "cell_type": "markdown",
   "id": "30c9ecdf",
   "metadata": {},
   "source": [
    "32. Implement a function to calculate the power of a number using recursion."
   ]
  },
  {
   "cell_type": "code",
   "execution_count": 32,
   "id": "ec89104c",
   "metadata": {},
   "outputs": [
    {
     "data": {
      "text/plain": [
       "25"
      ]
     },
     "execution_count": 32,
     "metadata": {},
     "output_type": "execute_result"
    }
   ],
   "source": [
    "def power(num, N):\n",
    "    p = 1\n",
    "    while N != 0:\n",
    "        p = p * num\n",
    "        N = N - 1\n",
    "    return p\n",
    "num=5\n",
    "N=2\n",
    "power(num,N)"
   ]
  },
  {
   "cell_type": "markdown",
   "id": "3f5474dc",
   "metadata": {},
   "source": [
    "33. Write a Python program to remove duplicates from a list while preserving the order.\n"
   ]
  },
  {
   "cell_type": "code",
   "execution_count": 33,
   "id": "2e2c0a6c",
   "metadata": {},
   "outputs": [
    {
     "name": "stdout",
     "output_type": "stream",
     "text": [
      "[11, 2, 5, 3, 4, 9, 1]\n"
     ]
    }
   ],
   "source": [
    "nums = [11,2,5,3,4,5,4,5,9,2,1,11]\n",
    " \n",
    "final = []\n",
    " \n",
    "for i in nums:\n",
    "    if i not in final:\n",
    "        final.append(i)\n",
    "print(final)"
   ]
  },
  {
   "cell_type": "markdown",
   "id": "5f0769ea",
   "metadata": {},
   "source": [
    "34. Implement a function to find the longest common prefix among a list of strings."
   ]
  },
  {
   "cell_type": "code",
   "execution_count": 34,
   "id": "d3fe3d57",
   "metadata": {},
   "outputs": [
    {
     "data": {
      "text/plain": [
       "'geo'"
      ]
     },
     "execution_count": 34,
     "metadata": {},
     "output_type": "execute_result"
    }
   ],
   "source": [
    "def longest_common_prefix(mystring):\n",
    "    if (len(mystring) == 0):\n",
    "        return \"\"\n",
    "    for i in range(len(mystring[0])):\n",
    "        c = mystring[0][i]\n",
    "        for j in range(len(mystring)):\n",
    "            if (i == len(mystring[j]) or mystring[j][i] != c):\n",
    "                return mystring[0][0:i]             \n",
    "    return mystring[0]\n",
    "mystring=[\"geo\",\"geology\",\"geological\"]\n",
    "longest_common_prefix(mystring)"
   ]
  },
  {
   "cell_type": "markdown",
   "id": "ba11774e",
   "metadata": {},
   "source": [
    "35. Write a program to check if a given number is a perfect square.\n"
   ]
  },
  {
   "cell_type": "code",
   "execution_count": 35,
   "id": "893f3863",
   "metadata": {},
   "outputs": [
    {
     "name": "stdout",
     "output_type": "stream",
     "text": [
      "81 is a perfect square\n"
     ]
    }
   ],
   "source": [
    "import math\n",
    "number = 81\n",
    "root = math.sqrt(number)\n",
    "if int(root + 0.5) ** 2 == number:\n",
    "    print(number, \"is a perfect square\")\n",
    "else:\n",
    "    print(number, \"is not a perfect square\")"
   ]
  },
  {
   "cell_type": "markdown",
   "id": "0fa995aa",
   "metadata": {},
   "source": [
    "36. Implement a function to calculate the product of all elements in a list."
   ]
  },
  {
   "cell_type": "code",
   "execution_count": 36,
   "id": "76a43899",
   "metadata": {},
   "outputs": [
    {
     "data": {
      "text/plain": [
       "120"
      ]
     },
     "execution_count": 36,
     "metadata": {},
     "output_type": "execute_result"
    }
   ],
   "source": [
    "import functools\n",
    "import operator\n",
    "def product(list1):\n",
    "    product_num = functools.reduce(operator.mul, list1)\n",
    "    return product_num\n",
    "list1 = [1, 2,3,5,4]\n",
    "product(list1)"
   ]
  },
  {
   "cell_type": "markdown",
   "id": "c3fbd039",
   "metadata": {},
   "source": [
    "37. Write a Python program to reverse the order of words in a sentence while preserving the word order."
   ]
  },
  {
   "cell_type": "code",
   "execution_count": 37,
   "id": "31596622",
   "metadata": {},
   "outputs": [
    {
     "data": {
      "text/plain": [
       "'ecnetnes a ni sdrow fo redro eht esrever'"
      ]
     },
     "execution_count": 37,
     "metadata": {},
     "output_type": "execute_result"
    }
   ],
   "source": [
    "my_string=\"reverse the order of words in a sentence\"\n",
    "str=\"\"\n",
    "for i in my_string:\n",
    "    str=i+str\n",
    "str"
   ]
  },
  {
   "cell_type": "markdown",
   "id": "06879838",
   "metadata": {},
   "source": [
    "38. Implement a function to find the missing number in a given list of consecutive numbers.\n"
   ]
  },
  {
   "cell_type": "code",
   "execution_count": 38,
   "id": "b288e9e3",
   "metadata": {},
   "outputs": [
    {
     "name": "stdout",
     "output_type": "stream",
     "text": [
      "8\n"
     ]
    }
   ],
   "source": [
    "def search_missing_item(A):\n",
    "    n = len(A)\n",
    "    left, right = 0, n - 1\n",
    "    mid = 0\n",
    "\n",
    "    while (right > left):\n",
    "        mid = left + (right - left) // 2\n",
    "\n",
    "        if (A[mid] - mid == A[0]):\n",
    "            if (A[mid + 1] - A[mid] > 1):\n",
    "                return A[mid] + 1\n",
    "            else:\n",
    "                left = mid + 1\n",
    "        else:\n",
    "            if (A[mid] - A[mid - 1] > 1):\n",
    "                return A[mid] - 1\n",
    "            else:\n",
    "                right = mid - 1\n",
    "    return -1\n",
    "\n",
    "A = [1, 2, 3, 4, 5, 6, 7, 9]\n",
    "print(search_missing_item(A))"
   ]
  },
  {
   "cell_type": "markdown",
   "id": "7b1e4285",
   "metadata": {},
   "source": [
    "39. Write a program to find the sum of digits of a given number.\n"
   ]
  },
  {
   "cell_type": "code",
   "execution_count": 39,
   "id": "dc563699",
   "metadata": {},
   "outputs": [
    {
     "name": "stdout",
     "output_type": "stream",
     "text": [
      "6\n"
     ]
    }
   ],
   "source": [
    "num=33\n",
    "Sum=0\n",
    "while num!=0:\n",
    "    Sum=Sum+num%10\n",
    "    num=num//10\n",
    "print(Sum)"
   ]
  },
  {
   "cell_type": "markdown",
   "id": "12afaf3c",
   "metadata": {},
   "source": [
    "40.Implement a function to check if a given string is a valid palindrome considering case sensitivity."
   ]
  },
  {
   "cell_type": "code",
   "execution_count": 40,
   "id": "8b35ed04",
   "metadata": {},
   "outputs": [
    {
     "name": "stdout",
     "output_type": "stream",
     "text": [
      "True\n",
      "False\n"
     ]
    }
   ],
   "source": [
    "x = \"Abccba\"\n",
    "y = \"ValidPalindrome\"\n",
    "\n",
    "def is_palindrome(value):\n",
    "    value = \"\".join([x for x in value.lower() if x.isalnum()])\n",
    "    return value == value[::-1]\n",
    "\n",
    "print(is_palindrome(x))\n",
    "print(is_palindrome(y))"
   ]
  },
  {
   "cell_type": "markdown",
   "id": "8b0f5e9c",
   "metadata": {},
   "source": [
    "41. Write a Python program to find the smallest missing positive integer in a list.\n"
   ]
  },
  {
   "cell_type": "code",
   "execution_count": 41,
   "id": "e3b91db5",
   "metadata": {},
   "outputs": [
    {
     "data": {
      "text/plain": [
       "4"
      ]
     },
     "execution_count": 41,
     "metadata": {},
     "output_type": "execute_result"
    }
   ],
   "source": [
    "def find_smalles_num(mylist, n):\n",
    "    for i in range(1, n+1): \n",
    "        flag = False\n",
    "        for j in range(n-1):\n",
    "            if mylist[j] == i:\n",
    "                flag = True\n",
    "                break\n",
    "        if flag == False:\n",
    "            return i\n",
    "mylist = [1, -2, 2, 3, 2, 11]\n",
    "length = len(mylist)\n",
    "answer = find_smalles_num(mylist, length)\n",
    "answer"
   ]
  },
  {
   "cell_type": "markdown",
   "id": "5c8ec0ed",
   "metadata": {},
   "source": [
    "42. Implement a function to find the longest palindrome substring in a given string."
   ]
  },
  {
   "cell_type": "code",
   "execution_count": 42,
   "id": "81d661c0",
   "metadata": {},
   "outputs": [
    {
     "name": "stdout",
     "output_type": "stream",
     "text": [
      "anana"
     ]
    }
   ],
   "source": [
    "def printSubStr(str, low, high):\n",
    "\t\n",
    "\tfor i in range(low, high + 1):\n",
    "\t\tprint(str[i], end = \"\")\n",
    "\n",
    "def longestPalindrome(str):\n",
    "\t\n",
    "\tn = len(str)\n",
    "\t\n",
    "\tmaxLength = 1\n",
    "\tstart = 0\n",
    "\t\n",
    "\tfor i in range(n):\n",
    "\t\tfor j in range(i, n):\n",
    "\t\t\tflag = 1\n",
    "\t\t\t\n",
    "\t\t\tfor k in range(0, ((j - i) // 2) + 1):\n",
    "\t\t\t\tif (str[i + k] != str[j - k]):\n",
    "\t\t\t\t\tflag = 0\n",
    "\n",
    "\t\t\tif (flag != 0 and (j - i + 1) > maxLength):\n",
    "\t\t\t\tstart = i\n",
    "\t\t\t\tmaxLength = j - i + 1\n",
    "\tprintSubStr(str, start, start + maxLength - 1)\n",
    "str = \"bananas\"\n",
    "longestPalindrome(str)"
   ]
  },
  {
   "cell_type": "markdown",
   "id": "bd47ce51",
   "metadata": {},
   "source": [
    "43. Write a program to find the number of occurrences of a given element in a list."
   ]
  },
  {
   "cell_type": "code",
   "execution_count": 43,
   "id": "20a3ec68",
   "metadata": {},
   "outputs": [
    {
     "name": "stdout",
     "output_type": "stream",
     "text": [
      "2 has occurred 3 times\n"
     ]
    }
   ],
   "source": [
    "from collections import Counter\n",
    "list1 = [1.4,2,3,4,5,6,7,8,2,9,10,11,2,12]\n",
    "x = 2\n",
    "d = Counter(list1)\n",
    "print('{} has occurred {} times'.format(x, d[x]))"
   ]
  },
  {
   "cell_type": "markdown",
   "id": "31f94d7c",
   "metadata": {},
   "source": [
    "44. Implement a function to check if a given number is a perfect number."
   ]
  },
  {
   "cell_type": "code",
   "execution_count": 44,
   "id": "3b9b833e",
   "metadata": {},
   "outputs": [
    {
     "name": "stdout",
     "output_type": "stream",
     "text": [
      "True\n"
     ]
    }
   ],
   "source": [
    "def is_perfect_number(n):\n",
    "    sum = 0\n",
    "    for x in range(1, n):\n",
    "        if n % x == 0:\n",
    "            sum += x\n",
    "    return sum == n\n",
    "print(is_perfect_number(6))"
   ]
  },
  {
   "cell_type": "markdown",
   "id": "fad1306b",
   "metadata": {},
   "source": [
    "45. Write a Python program to remove all duplicates from a string."
   ]
  },
  {
   "cell_type": "code",
   "execution_count": 45,
   "id": "048f69ac",
   "metadata": {},
   "outputs": [
    {
     "name": "stdout",
     "output_type": "stream",
     "text": [
      "abcd\n"
     ]
    }
   ],
   "source": [
    "string1 = \"abcabdab\"\n",
    "\n",
    "strlist = []\n",
    "for i in range(len(string1)):\n",
    "    strlist.append(string1[i])\n",
    "newlist = []\n",
    "j = 0\n",
    "for i in range(len(strlist)):\n",
    "    if string1[i] not in newlist:\n",
    "        newlist.insert(j, string1[i])\n",
    "        j = j+1\n",
    "string1 = \"\"\n",
    "string1 = string1.join(newlist)\n",
    "print(string1)"
   ]
  },
  {
   "cell_type": "markdown",
   "id": "1df7eb2d",
   "metadata": {},
   "source": [
    "46. Implement a function to find the first missing positive"
   ]
  },
  {
   "cell_type": "code",
   "execution_count": 46,
   "id": "b9963f6d",
   "metadata": {},
   "outputs": [
    {
     "data": {
      "text/plain": [
       "2"
      ]
     },
     "execution_count": 46,
     "metadata": {},
     "output_type": "execute_result"
    }
   ],
   "source": [
    "def find_smalles_num(mylist, n):\n",
    "    for i in range(1, n+1): \n",
    "        flag = False\n",
    "        for j in range(n-1):\n",
    "            if mylist[j] == i:\n",
    "                flag = True\n",
    "                break\n",
    "        if flag == False:\n",
    "            return i\n",
    "mylist = [4,-3,1,-1]\n",
    "length = len(mylist)\n",
    "answer = find_smalles_num(mylist, length)\n",
    "answer"
   ]
  },
  {
   "cell_type": "markdown",
   "id": "8be7a4af",
   "metadata": {},
   "source": []
  }
 ],
 "metadata": {
  "kernelspec": {
   "display_name": "Python 3 (ipykernel)",
   "language": "python",
   "name": "python3"
  },
  "language_info": {
   "codemirror_mode": {
    "name": "ipython",
    "version": 3
   },
   "file_extension": ".py",
   "mimetype": "text/x-python",
   "name": "python",
   "nbconvert_exporter": "python",
   "pygments_lexer": "ipython3",
   "version": "3.9.12"
  }
 },
 "nbformat": 4,
 "nbformat_minor": 5
}
