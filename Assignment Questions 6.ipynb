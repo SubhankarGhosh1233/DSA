{
 "cells": [
  {
   "cell_type": "markdown",
   "id": "6a9a848a",
   "metadata": {},
   "source": [
    "Answer ofQuestion 1"
   ]
  },
  {
   "cell_type": "code",
   "execution_count": 2,
   "id": "df7c8ff0",
   "metadata": {},
   "outputs": [
    {
     "name": "stdout",
     "output_type": "stream",
     "text": [
      "[0, 4, 1, 3, 2]\n"
     ]
    }
   ],
   "source": [
    "def permutation(s):\n",
    "    minimum=0\n",
    "    maximum=len(s)\n",
    "    l=[]\n",
    "\n",
    "    for i in s:\n",
    "        if i==\"I\":\n",
    "            l.append(minimum)\n",
    "            minimum+=1\n",
    "        else:\n",
    "            l.append(maximum)\n",
    "            maximum-=1\n",
    "    return l+[maximum]\n",
    "s = \"IDID\"\n",
    "print(permutation(s))"
   ]
  },
  {
   "cell_type": "markdown",
   "id": "944719ad",
   "metadata": {},
   "source": [
    "Answer of Question 2"
   ]
  },
  {
   "cell_type": "code",
   "execution_count": 3,
   "id": "3b4e4c07",
   "metadata": {},
   "outputs": [
    {
     "name": "stdout",
     "output_type": "stream",
     "text": [
      "True\n"
     ]
    }
   ],
   "source": [
    "def searchmatrix(M,T):\n",
    "        y, i, j = len(M), 0, len(M[0]) - 1\n",
    "        while i < y and ~j:\n",
    "            cell = M[i][j]\n",
    "            if cell == T: return True\n",
    "            elif cell > T: j -= 1\n",
    "            else: i += 1\n",
    "        return False\n",
    "M = [[1,3,5,7],[10,11,16,20],[23,30,34,60]]\n",
    "T = 3\n",
    "print(searchmatrix(M,T))"
   ]
  },
  {
   "cell_type": "markdown",
   "id": "8f95fac4",
   "metadata": {},
   "source": [
    "Answer of Question 3"
   ]
  },
  {
   "cell_type": "code",
   "execution_count": 4,
   "id": "eb406088",
   "metadata": {},
   "outputs": [
    {
     "name": "stdout",
     "output_type": "stream",
     "text": [
      "False\n"
     ]
    }
   ],
   "source": [
    "def mountainarray(arr):\n",
    "    if(len(arr)<3):\n",
    "         return False\n",
    "         i = 1\n",
    "    while(i<len(arr) and arr[i]>arr[i-1]):\n",
    "        i+=1\n",
    "    if(i==1 or i==len(arr)):\n",
    "        return False\n",
    "    while(i<len(arr) and Arr[i]<arr[i-1]):\n",
    "        i+=1\n",
    "    return i==len(arr)\n",
    "arr = [2,1]\n",
    "print(mountainarray(arr))"
   ]
  },
  {
   "cell_type": "markdown",
   "id": "1671cfe1",
   "metadata": {},
   "source": [
    "Answer of Question 4"
   ]
  },
  {
   "cell_type": "code",
   "execution_count": 5,
   "id": "7bcd5669",
   "metadata": {},
   "outputs": [
    {
     "name": "stdout",
     "output_type": "stream",
     "text": [
      "2\n"
     ]
    }
   ],
   "source": [
    " def findMaxLength(nums):\n",
    "        firstIndex = {0: -1}\n",
    "        freq = [0, 0]\n",
    "        maxlen = 0\n",
    "        for i, x in enumerate(nums):\n",
    "            freq[x] += 1\n",
    "            diff = freq[1]-freq[0]\n",
    "            if diff in firstIndex:\n",
    "                maxlen = max(maxlen, i-firstIndex[diff])\n",
    "            if diff not in firstIndex:\n",
    "                firstIndex[diff] = i\n",
    "        return maxlen\n",
    "nums = [0,1]\n",
    "print(findMaxLength(nums))"
   ]
  },
  {
   "cell_type": "markdown",
   "id": "ea108d65",
   "metadata": {},
   "source": [
    "Answer of Question 5"
   ]
  },
  {
   "cell_type": "code",
   "execution_count": 6,
   "id": "e30c849e",
   "metadata": {},
   "outputs": [
    {
     "name": "stdout",
     "output_type": "stream",
     "text": [
      "40\n"
     ]
    }
   ],
   "source": [
    "def Productmimimum(nums1,nums2):\n",
    "        nums1.sort()\n",
    "        nums2.sort(reverse=True)\n",
    "        result = 0\n",
    "        for i in range(len(nums1)):\n",
    "            result += nums1[i] * nums2[i]\n",
    "        return result\n",
    "print(Productmimimum(nums1 = [5,3,4,2], nums2 = [4,2,2,5]))"
   ]
  },
  {
   "cell_type": "markdown",
   "id": "552ebad4",
   "metadata": {},
   "source": [
    "Answer of Question 6"
   ]
  },
  {
   "cell_type": "code",
   "execution_count": 7,
   "id": "d4ebdbdb",
   "metadata": {},
   "outputs": [
    {
     "name": "stdout",
     "output_type": "stream",
     "text": [
      "[1, 3, 4]\n"
     ]
    }
   ],
   "source": [
    "def shuffling(changed): \n",
    "    # Stores the numbers and\n",
    "    # their frequency\n",
    "    numFreq = {}\n",
    " \n",
    "    # Add number with their frequencies\n",
    "    # in the hashmap\n",
    "    for i in range(0, len(changed)):\n",
    "        if (changed[i] in numFreq):\n",
    "            numFreq[changed[i]] += 1\n",
    "        else:\n",
    "            numFreq[changed[i]] = 1\n",
    " \n",
    "    # Sort the array\n",
    "    changed.sort()\n",
    " \n",
    "    # Initialize an arraylist\n",
    "    result = []\n",
    " \n",
    "    for i in range(0, len(changed)):\n",
    "       \n",
    "        # Get the frequency of the number\n",
    "        freq = numFreq[changed [i]]\n",
    "        if (freq > 0):\n",
    "           \n",
    "            # Element is of original array\n",
    "            result.append(changed [i])\n",
    " \n",
    "            # Decrement the frequency of\n",
    "            # the number\n",
    "            numFreq[changed [i]] -= 1\n",
    " \n",
    "            twice = 2 * changed [i]\n",
    " \n",
    "            # Decrement the frequency of\n",
    "            # the number having double value\n",
    "            numFreq[twice] -= 1\n",
    "\n",
    "    return result\n",
    "changed = [1,3,4,2,6,8]\n",
    "print(shuffling(changed))"
   ]
  },
  {
   "cell_type": "markdown",
   "id": "00e7cb14",
   "metadata": {},
   "source": [
    "Answer of Question 7"
   ]
  },
  {
   "cell_type": "code",
   "execution_count": 8,
   "id": "2719ad5e",
   "metadata": {},
   "outputs": [
    {
     "name": "stdout",
     "output_type": "stream",
     "text": [
      "[[1, 2, 3], [8, 9, 4], [7, 6, 5]]\n"
     ]
    }
   ],
   "source": [
    "def SpiralMatrix(n):\n",
    "        stack = [(0,1),(1,0),(0,-1),(-1,0)]\n",
    "        result = [[0 for _ in range(n)] for x in range(n)]\n",
    "        num = 2\n",
    "        total = n*n\n",
    "        i=j=0\n",
    "        side_step = 1\n",
    "        side_len = n\n",
    "        turn = 1\n",
    "        result[0][0]=1\n",
    "        while num <= total:\n",
    "            if side_step == side_len:\n",
    "                side_step=0\n",
    "                stack.append(stack.pop(0))\n",
    "                turn+=1\n",
    "                if turn == 2:\n",
    "                    side_len-=1\n",
    "                    turn = 0\n",
    "            i=i+stack[0][0]\n",
    "            j=j+stack[0][1]\n",
    "            result[i][j] = num\n",
    "            num+=1\n",
    "            side_step +=1\n",
    "            \n",
    "        return result\n",
    "\n",
    "print(SpiralMatrix(n=3))"
   ]
  },
  {
   "cell_type": "markdown",
   "id": "9e2eeea8",
   "metadata": {},
   "source": [
    "Answer of Question 8"
   ]
  },
  {
   "cell_type": "code",
   "execution_count": 9,
   "id": "3c39012b",
   "metadata": {},
   "outputs": [
    {
     "name": "stdout",
     "output_type": "stream",
     "text": [
      "[[7, 0, 0], [-7, 0, 3]]\n"
     ]
    }
   ],
   "source": [
    "def multiplication(mat1,mat2):\n",
    "    r1, c1, c2 = len(mat1), len(mat1[0]), len(mat2[0])\n",
    "    result = [[0] * c2 for _ in range(r1)]\n",
    "    for i in range(r1):\n",
    "        for j in range(c2):\n",
    "            for k in range(c1):\n",
    "                result[i][j] += mat1[i][k] * mat2[k][j]\n",
    "    return result\n",
    "mat1 = [[1,0,0],[-1,0,3]]\n",
    "mat2 = [[7,0,0],[0,0,0],[0,0,1]]\n",
    "print(multiplication(mat1,mat2))"
   ]
  },
  {
   "cell_type": "code",
   "execution_count": null,
   "id": "d22760f7",
   "metadata": {},
   "outputs": [],
   "source": []
  }
 ],
 "metadata": {
  "kernelspec": {
   "display_name": "Python 3 (ipykernel)",
   "language": "python",
   "name": "python3"
  },
  "language_info": {
   "codemirror_mode": {
    "name": "ipython",
    "version": 3
   },
   "file_extension": ".py",
   "mimetype": "text/x-python",
   "name": "python",
   "nbconvert_exporter": "python",
   "pygments_lexer": "ipython3",
   "version": "3.9.12"
  }
 },
 "nbformat": 4,
 "nbformat_minor": 5
}
