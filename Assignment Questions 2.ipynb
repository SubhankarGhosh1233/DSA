{
 "cells": [
  {
   "cell_type": "markdown",
   "id": "ec42e00c",
   "metadata": {},
   "source": [
    "Answer of Question 1"
   ]
  },
  {
   "cell_type": "code",
   "execution_count": 1,
   "id": "f6775b32",
   "metadata": {},
   "outputs": [
    {
     "name": "stdout",
     "output_type": "stream",
     "text": [
      "4\n"
     ]
    }
   ],
   "source": [
    "def arrayPairSum(nums):\n",
    "    nums.sort()\n",
    "    result = 0\n",
    "    numsLen = len(nums)\n",
    "    for i in range(0, numsLen - 1, 2):\n",
    "        result += nums[i]\n",
    "    return result\n",
    "nums = [1,4,3,2]\n",
    "print(arrayPairSum(nums))"
   ]
  },
  {
   "cell_type": "markdown",
   "id": "eed6aeee",
   "metadata": {},
   "source": [
    "Answer of Question 2"
   ]
  },
  {
   "cell_type": "code",
   "execution_count": 2,
   "id": "8e6a88db",
   "metadata": {},
   "outputs": [
    {
     "name": "stdout",
     "output_type": "stream",
     "text": [
      "3\n"
     ]
    }
   ],
   "source": [
    "def distributeCandies(candyType):\n",
    "    return min(len(candyType) >> 1, len(set(candyType)))\n",
    "candyType = [1,1,2,2,3,3]\n",
    "print(distributeCandies(candyType))"
   ]
  },
  {
   "cell_type": "markdown",
   "id": "c2eb3c11",
   "metadata": {},
   "source": [
    "Answer of Question 3"
   ]
  },
  {
   "cell_type": "code",
   "execution_count": 3,
   "id": "913e6d26",
   "metadata": {},
   "outputs": [
    {
     "name": "stdout",
     "output_type": "stream",
     "text": [
      "5\n"
     ]
    }
   ],
   "source": [
    "def findlongest_harmonious(nums):\n",
    "        numsLen, left, result = len(nums), 0, 0\n",
    "        nums = sorted(nums)\n",
    "        for i in range(numsLen):\n",
    "            while left < i and nums[i] - nums[left] > 1:\n",
    "                left += 1\n",
    "            if nums[i] - nums[left] == 1:\n",
    "                result = max(i - left + 1, result)\n",
    "        return result\n",
    "nums= [1,3,2,2,5,2,3,7]\n",
    "print(findlongest_harmonious(nums))"
   ]
  },
  {
   "cell_type": "markdown",
   "id": "81b34083",
   "metadata": {},
   "source": [
    "Answer of Question 4"
   ]
  },
  {
   "cell_type": "code",
   "execution_count": 4,
   "id": "92de7ff4",
   "metadata": {},
   "outputs": [
    {
     "name": "stdout",
     "output_type": "stream",
     "text": [
      "True\n"
     ]
    }
   ],
   "source": [
    "def canPlaceFlowers(flowerbed, n):\n",
    "    if n ==0: return True\n",
    "    flowerbed = [0] + flowerbed + [0]\n",
    "    size = len(flowerbed)\n",
    "    for i in range(1, size-1):\n",
    "        if flowerbed[i]:\n",
    "            continue\n",
    "        elif flowerbed[i - 1] == flowerbed[i + 1] == 0:\n",
    "            n-=1\n",
    "            flowerbed[i] = 1\n",
    "            if n == 0:return True\n",
    "    return False\n",
    "flowerbed = [1,0,0,0,1]\n",
    "n = 1\n",
    "print(canPlaceFlowers(flowerbed,n))"
   ]
  },
  {
   "cell_type": "markdown",
   "id": "af8c6a6a",
   "metadata": {},
   "source": [
    "Answer of Question 5"
   ]
  },
  {
   "cell_type": "code",
   "execution_count": 5,
   "id": "e9552a06",
   "metadata": {},
   "outputs": [
    {
     "name": "stdout",
     "output_type": "stream",
     "text": [
      "6\n"
     ]
    }
   ],
   "source": [
    "def maximumProduct(nums):\n",
    "    nums.sort()\n",
    "    return max(nums[-1] * nums[0] * nums[1],\n",
    "               nums[-1] * nums[-2] * nums[-3])\n",
    "nums = [1,2,3]\n",
    "print(maximumProduct(nums))                                                          "
   ]
  },
  {
   "cell_type": "markdown",
   "id": "622f0f79",
   "metadata": {},
   "source": [
    "Answer of Question 6"
   ]
  },
  {
   "cell_type": "code",
   "execution_count": 6,
   "id": "2ba0c027",
   "metadata": {},
   "outputs": [
    {
     "name": "stdout",
     "output_type": "stream",
     "text": [
      "4\n"
     ]
    }
   ],
   "source": [
    "def IndexFinder(nums,target):\n",
    "    if target in nums:\n",
    "        return nums.index(target)\n",
    "    else:\n",
    "        return -1\n",
    "nums = [-1,0,3,5,9,12]\n",
    "target = 9\n",
    "print(IndexFinder(nums,target))"
   ]
  },
  {
   "cell_type": "markdown",
   "id": "31165c12",
   "metadata": {},
   "source": [
    "Answer of Question 7"
   ]
  },
  {
   "cell_type": "code",
   "execution_count": 7,
   "id": "86ec196b",
   "metadata": {},
   "outputs": [
    {
     "name": "stdout",
     "output_type": "stream",
     "text": [
      "True\n"
     ]
    }
   ],
   "source": [
    "def ifmonotonic(nums):\n",
    "    j = None\n",
    "    for i in range(len(nums) - 1):\n",
    "          if nums[i] > nums[i + 1]:\n",
    "            if j is not None:\n",
    "                  return False\n",
    "            j = i\n",
    "\n",
    "    return j is None or j == 0 or j == len(nums) - 2 or \\\n",
    "        nums[j - 1] <= nums[j + 1] or nums[j] <= nums[j + 2]\n",
    "nums = [1,2,2,3]\n",
    "print(ifmonotonic(nums))"
   ]
  },
  {
   "cell_type": "markdown",
   "id": "61cd9e7a",
   "metadata": {},
   "source": [
    "Answer of Question 8"
   ]
  },
  {
   "cell_type": "code",
   "execution_count": 8,
   "id": "dda07fad",
   "metadata": {},
   "outputs": [
    {
     "name": "stdout",
     "output_type": "stream",
     "text": [
      "0\n"
     ]
    }
   ],
   "source": [
    "def arraycheck(nums,k):\n",
    "    maximum=max(nums)-k\n",
    "    minimum=min(nums)+k\n",
    "    if minimum>maximum:\n",
    "        return 0\n",
    "    else:\n",
    "        return maximum-minimum\n",
    "nums = [1]\n",
    "k = 0\n",
    "print(arraycheck(nums,k))    "
   ]
  },
  {
   "cell_type": "code",
   "execution_count": null,
   "id": "0234f9e0",
   "metadata": {},
   "outputs": [],
   "source": []
  }
 ],
 "metadata": {
  "kernelspec": {
   "display_name": "Python 3 (ipykernel)",
   "language": "python",
   "name": "python3"
  },
  "language_info": {
   "codemirror_mode": {
    "name": "ipython",
    "version": 3
   },
   "file_extension": ".py",
   "mimetype": "text/x-python",
   "name": "python",
   "nbconvert_exporter": "python",
   "pygments_lexer": "ipython3",
   "version": "3.9.12"
  }
 },
 "nbformat": 4,
 "nbformat_minor": 5
}
