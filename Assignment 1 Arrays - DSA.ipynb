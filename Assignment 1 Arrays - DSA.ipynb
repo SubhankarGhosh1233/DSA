{
 "cells": [
  {
   "cell_type": "markdown",
   "id": "b4aba213",
   "metadata": {},
   "source": [
    "# Assignment 1 Arrays - DSA"
   ]
  },
  {
   "cell_type": "markdown",
   "id": "f371fe10",
   "metadata": {},
   "source": [
    "**Answer of Q1.**"
   ]
  },
  {
   "cell_type": "code",
   "execution_count": 1,
   "id": "a55c86a6",
   "metadata": {},
   "outputs": [
    {
     "name": "stdout",
     "output_type": "stream",
     "text": [
      "[0, 1]\n"
     ]
    }
   ],
   "source": [
    "def two_sum(nums,target):\n",
    "    for i in range(len(nums)):\n",
    "        for j in range(i+1 ,len(nums)):\n",
    "            if target - nums[i] == nums[j]:\n",
    "                return [i,j]\n",
    "    return None\n",
    "nums= [2,7,11,15]\n",
    "target = 9\n",
    "print(two_sum(nums,target))"
   ]
  },
  {
   "cell_type": "markdown",
   "id": "3eb5f817",
   "metadata": {},
   "source": [
    "**Answer of Q2.**"
   ]
  },
  {
   "cell_type": "code",
   "execution_count": 2,
   "id": "fdb134e6",
   "metadata": {},
   "outputs": [
    {
     "name": "stdout",
     "output_type": "stream",
     "text": [
      "2\n"
     ]
    }
   ],
   "source": [
    "def removeElement(nums, val):\n",
    "    count = 0\n",
    "    for i in range(len(nums)):\n",
    "        if nums[i] != val:\n",
    "            nums[count] = nums[i]\n",
    "            count += 1\n",
    "    return count\n",
    "nums= [3,2,2,3]\n",
    "val = 3\n",
    "print(removeElement(nums,val))"
   ]
  },
  {
   "cell_type": "markdown",
   "id": "679c985a",
   "metadata": {},
   "source": [
    "**Answer of Q3.**"
   ]
  },
  {
   "cell_type": "code",
   "execution_count": 3,
   "id": "679f6278",
   "metadata": {},
   "outputs": [
    {
     "name": "stdout",
     "output_type": "stream",
     "text": [
      "2\n"
     ]
    }
   ],
   "source": [
    "def find_index_num(arr, n, target):\n",
    "    for i in range(n):\n",
    "        if arr[i] == target:\n",
    "            return i\n",
    "             \n",
    "        elif arr[i] > target:\n",
    "            return i\n",
    "    return n\n",
    "arr = [1, 3, 5, 6]\n",
    "n = len(arr)\n",
    "target = 5\n",
    "print(find_index_num(arr, n, target))"
   ]
  },
  {
   "cell_type": "markdown",
   "id": "52af7131",
   "metadata": {},
   "source": [
    " **Answer of Q4.**"
   ]
  },
  {
   "cell_type": "code",
   "execution_count": 4,
   "id": "81381bdf",
   "metadata": {},
   "outputs": [
    {
     "name": "stdout",
     "output_type": "stream",
     "text": [
      "[1, 2, 4]\n"
     ]
    }
   ],
   "source": [
    "def plusOne(digits):\n",
    "    n = len(digits) - 1\n",
    "    while digits[n] == 9:\n",
    "        digits[n] = 0\n",
    "        n = n - 1\n",
    "    if n < 0:\n",
    "        digits = [1] + digits\n",
    "    else:\n",
    "        digits[n] = digits[n] + 1\n",
    "    return digits\n",
    "\n",
    "digits = [1, 2,3]\n",
    "print(plusOne(digits))"
   ]
  },
  {
   "cell_type": "markdown",
   "id": "0b6f0b9a",
   "metadata": {},
   "source": [
    "**Answer of Q5.**"
   ]
  },
  {
   "cell_type": "code",
   "execution_count": 5,
   "id": "0eb865bf",
   "metadata": {},
   "outputs": [
    {
     "name": "stdout",
     "output_type": "stream",
     "text": [
      "[1, 2, 2, 3, 5, 6]\n"
     ]
    }
   ],
   "source": [
    "def merge(nums1, m, nums2, n):\n",
    "    i=0\n",
    "    j=0\n",
    "    new =[]\n",
    "    while i<m and j<n:\n",
    "        # Compare\n",
    "        if nums1[i] <= nums2[j]:\n",
    "            new.append(nums1[i])\n",
    "            i= i+1\n",
    "        else:\n",
    "            new.append(nums2[j])\n",
    "            j= j+1\n",
    "    while j<n:\n",
    "        new.append(nums2[j])\n",
    "        j= j+1\n",
    "    while i<m:\n",
    "        new.append(nums1[i])\n",
    "        i= i+1\n",
    "    return new\n",
    "nums1 = [1,2,3,0,0,0]\n",
    "m = 3\n",
    "nums2 = [2,5,6]\n",
    "n = 3\n",
    "print(merge(nums1,m,nums2,n))        "
   ]
  },
  {
   "cell_type": "markdown",
   "id": "cd84f283",
   "metadata": {},
   "source": [
    "**Answer of Q6.**"
   ]
  },
  {
   "cell_type": "code",
   "execution_count": 6,
   "id": "827eed58",
   "metadata": {},
   "outputs": [
    {
     "name": "stdout",
     "output_type": "stream",
     "text": [
      "True\n"
     ]
    }
   ],
   "source": [
    "def Duplicate(nums):\n",
    "        for i in range(len(nums)):\n",
    "            for j in range(0, i):\n",
    "                if nums[i] == nums[j]:\n",
    "                    return True\n",
    "        return False\n",
    "nums = [1,2,3,1]\n",
    "print(Duplicate(nums))"
   ]
  },
  {
   "cell_type": "markdown",
   "id": "98bd441c",
   "metadata": {},
   "source": [
    "**Answer of Q7.**"
   ]
  },
  {
   "cell_type": "code",
   "execution_count": 7,
   "id": "635b9924",
   "metadata": {},
   "outputs": [
    {
     "name": "stdout",
     "output_type": "stream",
     "text": [
      "[1, 3, 12, 0, 0]\n"
     ]
    }
   ],
   "source": [
    "def endZero(nums):\n",
    "    n= len(nums)\n",
    "    lst = [0]*n\n",
    "    j = 0\n",
    "    for i, k in enumerate(nums):\n",
    "        if k !=0:\n",
    "            lst[j]= k\n",
    "            j= j + 1\n",
    "    return lst\n",
    "nums = [0,1,0,3,12]\n",
    "print(endZero(nums))"
   ]
  },
  {
   "cell_type": "markdown",
   "id": "63d8e8ae",
   "metadata": {},
   "source": [
    "**Answer of Q8.**"
   ]
  },
  {
   "cell_type": "code",
   "execution_count": 8,
   "id": "2e071b3d",
   "metadata": {},
   "outputs": [
    {
     "name": "stdout",
     "output_type": "stream",
     "text": [
      "[2, 3]\n"
     ]
    }
   ],
   "source": [
    "def findErrorNums(nums):\n",
    "\n",
    "        result = [0, 0]\n",
    "        numsLen = len(nums)\n",
    "        nums = sorted(nums)\n",
    "        num = 0\n",
    "        for i in range(numsLen - 1):\n",
    "            num ^= (i + 1)\n",
    "            if nums[i] == nums[i + 1]:\n",
    "                result[0] = nums[i]\n",
    "            else:\n",
    "                num ^= nums[i]\n",
    "        result[1] = num ^ numsLen ^ nums[numsLen - 1]\n",
    "        return result\n",
    "nums = [1,2,2,4]\n",
    "print(findErrorNums(nums))"
   ]
  },
  {
   "cell_type": "code",
   "execution_count": null,
   "id": "b258ba29",
   "metadata": {},
   "outputs": [],
   "source": []
  }
 ],
 "metadata": {
  "kernelspec": {
   "display_name": "Python 3 (ipykernel)",
   "language": "python",
   "name": "python3"
  },
  "language_info": {
   "codemirror_mode": {
    "name": "ipython",
    "version": 3
   },
   "file_extension": ".py",
   "mimetype": "text/x-python",
   "name": "python",
   "nbconvert_exporter": "python",
   "pygments_lexer": "ipython3",
   "version": "3.9.12"
  }
 },
 "nbformat": 4,
 "nbformat_minor": 5
}
