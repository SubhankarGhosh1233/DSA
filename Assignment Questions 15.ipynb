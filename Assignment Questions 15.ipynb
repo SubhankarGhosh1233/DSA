{
 "cells": [
  {
   "cell_type": "markdown",
   "id": "1fce34a6",
   "metadata": {},
   "source": [
    "Answer of Question 1"
   ]
  },
  {
   "cell_type": "code",
   "execution_count": 1,
   "id": "362459a7",
   "metadata": {},
   "outputs": [
    {
     "name": "stdout",
     "output_type": "stream",
     "text": [
      "[3, 4, 4, -1]\n"
     ]
    }
   ],
   "source": [
    "from collections import deque\n",
    "def findNextGreaterElements(arr):\n",
    " \n",
    "    # base case\n",
    "    if not arr:\n",
    "        return\n",
    " \n",
    "    N = 4\n",
    "    result = [-1] * N\n",
    " \n",
    "    # create an empty stack\n",
    "    s = deque()\n",
    " \n",
    "    # process each element from right to left\n",
    "    for i in reversed(range(N)):\n",
    "        # loop till we have a greater element on top or stack becomes empty.\n",
    "        while s:\n",
    "            # pop elements that aren't greater than the current element\n",
    "            if s[-1] <= arr[i]:\n",
    "                s.pop()\n",
    "            # the next greater element is now on the top of the stack\n",
    "            else:\n",
    "                result[i] = s[-1]\n",
    "                break\n",
    "        # push current element into the stack\n",
    "        s.append(arr[i])\n",
    " \n",
    "    return result\n",
    " \n",
    "if __name__ == '__main__':\n",
    " \n",
    "    arr = [1, 3, 2, 4]\n",
    "    result = findNextGreaterElements(arr)\n",
    "    print(result)"
   ]
  },
  {
   "cell_type": "markdown",
   "id": "4fc577fe",
   "metadata": {},
   "source": [
    "Answer of Question 2"
   ]
  },
  {
   "cell_type": "code",
   "execution_count": 2,
   "id": "d2b3d241",
   "metadata": {},
   "outputs": [
    {
     "name": "stdout",
     "output_type": "stream",
     "text": [
      "-1 1 -1 0 3 4 "
     ]
    }
   ],
   "source": [
    "import math as mt\n",
    "\n",
    "# Prints smaller elements on left\n",
    "# side of every element\n",
    "def printsmaller_element(arr, n):\n",
    "\n",
    "\t# Create an empty stack\n",
    "\tS = list()\n",
    "\n",
    "\t# Traverse all array elements\n",
    "\tfor i in range(n):\n",
    "\t\n",
    "\t\t# Keep removing top element from S\n",
    "\t\t# while the top element is greater\n",
    "\t\t# than or equal to arr[i]\n",
    "\t\twhile (len(S) > 0 and S[-1] >= arr[i]):\n",
    "\t\t\tS.pop()\n",
    "\n",
    "\t\t# If all elements in S were greater\n",
    "\t\t# than arr[i]\n",
    "\t\tif (len(S) == 0):\n",
    "\t\t\tprint(\"-1\", end = \" \")\n",
    "\t\telse: # Else print the nearest\n",
    "\t\t\t# smaller element\n",
    "\t\t\tprint(S[-1], end = \" \")\n",
    "\n",
    "\t\t# Push this element\n",
    "\t\tS.append(arr[i])\n",
    "\t\n",
    "# Driver Code\n",
    "arr = [ 1, 5, 0, 3, 4, 5]\n",
    "n = 6\n",
    "printsmaller_element(arr, n)"
   ]
  },
  {
   "cell_type": "markdown",
   "id": "9826fed9",
   "metadata": {},
   "source": [
    "Answer of Question 3"
   ]
  },
  {
   "cell_type": "code",
   "execution_count": 1,
   "id": "af47d56b",
   "metadata": {},
   "outputs": [],
   "source": [
    "from queue import Queue\n",
    "\n",
    "\n",
    "class Stack:\n",
    "    def __init__(self):\n",
    "        self.q1 = Queue()\n",
    "        self.secondQ = Queue()\n",
    "        self.currentSize = 0\n",
    "\n",
    "    def top(self):\n",
    "        if self.q1.empty():\n",
    "            return -1\n",
    "        return self.q1.queue[0]\n",
    "\n",
    "    def getSize(self):\n",
    "        return self.currentSize\n",
    "\n",
    "    def push(self, val):\n",
    "        self.secondQ.put(val)\n",
    "        self.currentSize += 1\n",
    "        while not self.firstQ.empty():\n",
    "            self.secondQ.put(self.firstQ.queue[0])\n",
    "            self.firstQ.get()\n",
    "\n",
    "        self.tempQ = self.firstQ\n",
    "        self.q1 = self.secondQ\n",
    "        self.secondQ = self.tempQ\n",
    "\n",
    "    def pop(self):\n",
    "        if not self.firstQ.empty():\n",
    "            self.q1.get()\n",
    "            self.currentSize -= 1\n"
   ]
  },
  {
   "cell_type": "markdown",
   "id": "f8892bb8",
   "metadata": {},
   "source": [
    "Answer of Question 4"
   ]
  },
  {
   "cell_type": "code",
   "execution_count": 4,
   "id": "d877c837",
   "metadata": {},
   "outputs": [
    {
     "name": "stdout",
     "output_type": "stream",
     "text": [
      "6 7 1 2 3 \n"
     ]
    }
   ],
   "source": [
    "def insertAtBottom(stack, item):\n",
    "\tif isEmpty(stack):\n",
    "\t\tpush(stack, item)\n",
    "\telse:\n",
    "\t\ttemp = pop(stack)\n",
    "\t\tinsertAtBottom(stack, item)\n",
    "\t\tpush(stack, temp)\n",
    "\n",
    "# Below is the function that\n",
    "# reverses the given stack\n",
    "# using insertAtBottom()\n",
    "\n",
    "\n",
    "def reverse(stack):\n",
    "\tif not isEmpty(stack):\n",
    "\t\ttemp = pop(stack)\n",
    "\t\treverse(stack)\n",
    "\t\tinsertAtBottom(stack, temp)\n",
    "\n",
    "# Below is a complete running\n",
    "# program for testing above\n",
    "# functions.\n",
    "\n",
    "# Function to create a stack.\n",
    "# It initializes size of stack\n",
    "# as 0\n",
    "\n",
    "\n",
    "def createStack():\n",
    "\tstack = []\n",
    "\treturn stack\n",
    "\n",
    "# Function to check if\n",
    "# the stack is empty\n",
    "\n",
    "\n",
    "def isEmpty(stack):\n",
    "\treturn len(stack) == 0\n",
    "\n",
    "# Function to push an\n",
    "# item to stack\n",
    "\n",
    "\n",
    "def push(stack, item):\n",
    "\tstack.append(item)\n",
    "\n",
    "# Function to pop an\n",
    "# item from stack\n",
    "\n",
    "\n",
    "def pop(stack):\n",
    "\n",
    "\t# If stack is empty\n",
    "\t# then error\n",
    "\tif(isEmpty(stack)):\n",
    "\t\tprint(\"Stack Underflow \")\n",
    "\t\texit(1)\n",
    "\n",
    "\treturn stack.pop()\n",
    "\n",
    "# Function to print the stack\n",
    "\n",
    "\n",
    "def prints(stack):\n",
    "\tfor i in range(len(stack)-1, -1, -1):\n",
    "\t\tprint(stack[i], end=' ')\n",
    "\tprint()\n",
    "\n",
    "# Driver Code\n",
    "stack = createStack()\n",
    "push(stack, str(6))\n",
    "push(stack, str(7))\n",
    "push(stack, str(1))\n",
    "push(stack, str(2))\n",
    "push(stack, str(3))\n",
    "reverse(stack)\n",
    "prints(stack)"
   ]
  },
  {
   "cell_type": "markdown",
   "id": "e23bb88f",
   "metadata": {},
   "source": [
    "Answer of Question 5"
   ]
  },
  {
   "cell_type": "code",
   "execution_count": 5,
   "id": "29ac1e43",
   "metadata": {},
   "outputs": [
    {
     "name": "stdout",
     "output_type": "stream",
     "text": [
      "skeeGrofskeeG\n"
     ]
    }
   ],
   "source": [
    "def createStack():\n",
    "\tstack = []\n",
    "\treturn stack\n",
    "\n",
    "# Function to determine the size of the stack\n",
    "\n",
    "\n",
    "def size(stack):\n",
    "\treturn len(stack)\n",
    "\n",
    "# Stack is empty if the size is 0\n",
    "\n",
    "\n",
    "def isEmpty(stack):\n",
    "\tif size(stack) == 0:\n",
    "\t\treturn true\n",
    "\n",
    "# Function to add an item to stack .\n",
    "# It increases size by 1\n",
    "\n",
    "\n",
    "def push(stack, item):\n",
    "\tstack.append(item)\n",
    "\n",
    "# Function to remove an item from stack.\n",
    "# It decreases size by 1\n",
    "\n",
    "\n",
    "def pop(stack):\n",
    "\tif isEmpty(stack):\n",
    "\t\treturn\n",
    "\treturn stack.pop()\n",
    "\n",
    "# A stack based function to reverse a string\n",
    "\n",
    "\n",
    "def reverse(string):\n",
    "\tn = len(string)\n",
    "\n",
    "\t# Create a empty stack\n",
    "\tstack = createStack()\n",
    "\n",
    "\t# Push all characters of string to stack\n",
    "\tfor i in range(0, n, 1):\n",
    "\t\tpush(stack, string[i])\n",
    "\n",
    "\t# Making the string empty since all\n",
    "\t# characters are saved in stack\n",
    "\tstring = \"\"\n",
    "\n",
    "\t# Pop all characters of string and\n",
    "\t# put them back to string\n",
    "\tfor i in range(0, n, 1):\n",
    "\t\tstring += pop(stack)\n",
    "\n",
    "\treturn string\n",
    "\n",
    "\n",
    "# Driver program to test above functions\n",
    "S=\"GeeksforGeeks\"\n",
    "S = reverse(S)\n",
    "print(S)"
   ]
  },
  {
   "cell_type": "markdown",
   "id": "d78ea424",
   "metadata": {},
   "source": [
    "Answer of Question 6"
   ]
  },
  {
   "cell_type": "code",
   "execution_count": 6,
   "id": "b0d35287",
   "metadata": {},
   "outputs": [
    {
     "name": "stdout",
     "output_type": "stream",
     "text": [
      "-4\n"
     ]
    }
   ],
   "source": [
    "class Evaluate:\n",
    "\n",
    "\t# Constructor to initialize the class variables\n",
    "\tdef __init__(self, capacity):\n",
    "\t\tself.top = -1\n",
    "\t\tself.capacity = capacity\n",
    "\t\t\n",
    "\t\t# This array is used a stack\n",
    "\t\tself.array = []\n",
    "\n",
    "\t# Check if the stack is empty\n",
    "\tdef isEmpty(self):\n",
    "\t\treturn True if self.top == -1 else False\n",
    "\n",
    "\t# Return the value of the top of the stack\n",
    "\tdef peek(self):\n",
    "\t\treturn self.array[-1]\n",
    "\n",
    "\t# Pop the element from the stack\n",
    "\tdef pop(self):\n",
    "\t\tif not self.isEmpty():\n",
    "\t\t\tself.top -= 1\n",
    "\t\t\treturn self.array.pop()\n",
    "\t\telse:\n",
    "\t\t\treturn \"$\"\n",
    "\n",
    "\t# Push the element to the stack\n",
    "\tdef push(self, op):\n",
    "\t\tself.top += 1\n",
    "\t\tself.array.append(op)\n",
    "\n",
    "\t# The main function that converts given infix expression\n",
    "\t# to postfix expression\n",
    "\tdef evaluatePostfix(self, exp):\n",
    "\n",
    "\t\t# Iterate over the expression for conversion\n",
    "\t\tfor i in exp:\n",
    "\n",
    "\t\t\t# If the scanned character is an operand\n",
    "\t\t\t# (number here) push it to the stack\n",
    "\t\t\tif i.isdigit():\n",
    "\t\t\t\tself.push(i)\n",
    "\n",
    "\t\t\t# If the scanned character is an operator,\n",
    "\t\t\t# pop two elements from stack and apply it.\n",
    "\t\t\telse:\n",
    "\t\t\t\tval1 = self.pop()\n",
    "\t\t\t\tval2 = self.pop()\n",
    "\t\t\t\tself.push(str(eval(val2 + i + val1)))\n",
    "\n",
    "\t\treturn int(self.pop())\n",
    "\n",
    "\n",
    "\n",
    "# Driver code\n",
    "if __name__ == '__main__':\n",
    "\tS = \"231*+9-\"\n",
    "\tobj = Evaluate(len(S))\n",
    "\t\n",
    "\t# Function call\n",
    "\tprint(obj.evaluatePostfix(S))"
   ]
  },
  {
   "cell_type": "markdown",
   "id": "682e19b0",
   "metadata": {},
   "source": [
    "Answer of Question 7"
   ]
  },
  {
   "cell_type": "code",
   "execution_count": 8,
   "id": "e3b425d8",
   "metadata": {},
   "outputs": [
    {
     "name": "stdout",
     "output_type": "stream",
     "text": [
      "-3\n",
      "0\n",
      "-2\n"
     ]
    }
   ],
   "source": [
    "class MinStack(object):\n",
    "   min=float('inf')\n",
    "   def __init__(self):\n",
    "      self.min=float('inf')\n",
    "      self.stack = []\n",
    "   def push(self, x):\n",
    "      if x<=self.min:\n",
    "         self.stack.append(self.min)\n",
    "         self.min = x\n",
    "      self.stack.append(x)\n",
    "   def pop(self):\n",
    "      t = self.stack[-1]\n",
    "      self.stack.pop()\n",
    "      if self.min == t:\n",
    "         self.min = self.stack[-1]\n",
    "         self.stack.pop()\n",
    "   def top(self):\n",
    "      return self.stack[-1]\n",
    "   def getMin(self):\n",
    "      return self.min\n",
    "m = MinStack()\n",
    "m.push(-2)\n",
    "m.push(0)\n",
    "m.push(-3)\n",
    "m.getMin()\n",
    "print(m.getMin())\n",
    "m.pop()\n",
    "print(m.top())\n",
    "print(m.getMin())"
   ]
  },
  {
   "cell_type": "markdown",
   "id": "8fb29f4c",
   "metadata": {},
   "source": [
    "Answer of Question 8"
   ]
  },
  {
   "cell_type": "code",
   "execution_count": 9,
   "id": "4d72c26e",
   "metadata": {},
   "outputs": [
    {
     "name": "stdout",
     "output_type": "stream",
     "text": [
      "9\n"
     ]
    }
   ],
   "source": [
    "def maxWater(arr, n):\n",
    "  \n",
    "    # To store the maximum water\n",
    "    # that can be stored\n",
    "    res = 0\n",
    "  \n",
    "    # For every element of the array\n",
    "    for i in range(1, n - 1):\n",
    "  \n",
    "        # Find the maximum element on its left\n",
    "        left = arr[i]\n",
    "        for j in range(i):\n",
    "            left = max(left, arr[j])\n",
    "  \n",
    "        # Find the maximum element on its right\n",
    "        right = arr[i]\n",
    "  \n",
    "        for j in range(i + 1, n):\n",
    "            right = max(right, arr[j])\n",
    "  \n",
    "        # Update the maximum water\n",
    "        res = res + (min(left, right) - arr[i])\n",
    "  \n",
    "    return res\n",
    "  \n",
    "# Driver code\n",
    "if __name__ == \"__main__\":\n",
    "  \n",
    "    height = [4,2,0,3,2,5]\n",
    "    n = len(height)\n",
    "  \n",
    "    print(maxWater(height, n))"
   ]
  },
  {
   "cell_type": "code",
   "execution_count": null,
   "id": "62eb2870",
   "metadata": {},
   "outputs": [],
   "source": []
  }
 ],
 "metadata": {
  "kernelspec": {
   "display_name": "Python 3 (ipykernel)",
   "language": "python",
   "name": "python3"
  },
  "language_info": {
   "codemirror_mode": {
    "name": "ipython",
    "version": 3
   },
   "file_extension": ".py",
   "mimetype": "text/x-python",
   "name": "python",
   "nbconvert_exporter": "python",
   "pygments_lexer": "ipython3",
   "version": "3.9.12"
  }
 },
 "nbformat": 4,
 "nbformat_minor": 5
}
