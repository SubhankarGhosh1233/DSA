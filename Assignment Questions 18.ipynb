{
 "cells": [
  {
   "cell_type": "markdown",
   "id": "f9fd07ac",
   "metadata": {},
   "source": [
    "Answer of 1. Merge Intervals"
   ]
  },
  {
   "cell_type": "code",
   "execution_count": 1,
   "id": "a1ad5cec",
   "metadata": {},
   "outputs": [
    {
     "name": "stdout",
     "output_type": "stream",
     "text": [
      "The Merged Intervals are : [1, 6] [8, 10] [15, 18] "
     ]
    }
   ],
   "source": [
    "def mergeIntervals(intervals):\n",
    "    # Sort the array on the basis of start values of intervals.\n",
    "    intervals.sort()\n",
    "    stack = []\n",
    "    # insert first interval into stack\n",
    "    stack.append(intervals[0])\n",
    "    for i in intervals[1:]:\n",
    "        # Check for overlapping interval,\n",
    "        # if interval overlap\n",
    "        if stack[-1][0] <= i[0] <= stack[-1][-1]:\n",
    "            stack[-1][-1] = max(stack[-1][-1], i[-1])\n",
    "        else:\n",
    "            stack.append(i)\n",
    " \n",
    "    print(\"The Merged Intervals are :\", end=\" \")\n",
    "    for i in range(len(stack)):\n",
    "        print(stack[i], end=\" \")\n",
    " \n",
    " \n",
    "intervals = [[1,3],[2,6],[8,10],[15,18]]\n",
    "mergeIntervals(intervals)"
   ]
  },
  {
   "cell_type": "markdown",
   "id": "3f437cc9",
   "metadata": {},
   "source": [
    "Answer of 2. Sort Colors"
   ]
  },
  {
   "cell_type": "code",
   "execution_count": 2,
   "id": "b0a47197",
   "metadata": {},
   "outputs": [
    {
     "name": "stdout",
     "output_type": "stream",
     "text": [
      "0 1 2 "
     ]
    }
   ],
   "source": [
    "def sortarray(a, arr_size):\n",
    "    lo = 0\n",
    "    hi = arr_size - 1\n",
    "    mid = 0\n",
    "    # Iterate till all the elements\n",
    "    # are sorted\n",
    "    while mid <= hi:\n",
    "        # If the element is 0\n",
    "        if a[mid] == 0:\n",
    "            a[lo], a[mid] = a[mid], a[lo]\n",
    "            lo = lo + 1\n",
    "            mid = mid + 1\n",
    "        # If the element is 1\n",
    "        elif a[mid] == 1:\n",
    "            mid = mid + 1\n",
    "        # If the element is 2\n",
    "        else:\n",
    "            a[mid], a[hi] = a[hi], a[mid]\n",
    "            hi = hi - 1\n",
    "    return a\n",
    "  \n",
    "# Function to print array\n",
    "  \n",
    "def printArray(a):\n",
    "    for k in a:\n",
    "        print(k, end=' ')\n",
    "  \n",
    "  \n",
    "# Driver Program\n",
    "nums = [2,0,1]\n",
    "arr_size = len(nums)\n",
    "nums = sortarray(nums, arr_size)\n",
    "printArray(nums)"
   ]
  },
  {
   "cell_type": "markdown",
   "id": "e44a6fa6",
   "metadata": {},
   "source": [
    "Answer of 3. First Bad Version Solution"
   ]
  },
  {
   "cell_type": "code",
   "execution_count": 3,
   "id": "4968353f",
   "metadata": {},
   "outputs": [
    {
     "name": "stdout",
     "output_type": "stream",
     "text": [
      "4\n"
     ]
    }
   ],
   "source": [
    "bad = 0\n",
    "def isBadVersion(version):\n",
    "   if version >= bad:\n",
    "      return True\n",
    "   return False\n",
    "class Solution:\n",
    "   def firstBadVersion(self, n):\n",
    "      if n <2:\n",
    "         return n\n",
    "      start = 1\n",
    "      end = n\n",
    "      while(start<=end):\n",
    "         mid = (start+end)//2\n",
    "         if isBadVersion(mid) and not isBadVersion(mid-1):\n",
    "            return mid\n",
    "         elif isBadVersion(mid-1):\n",
    "            end = mid-1\n",
    "         else:\n",
    "            start = mid+1\n",
    "ob1 = Solution()\n",
    "bad = 4\n",
    "n = ob1.firstBadVersion(5)\n",
    "print(n)"
   ]
  },
  {
   "cell_type": "markdown",
   "id": "846c8bff",
   "metadata": {},
   "source": [
    "Answer of 4. Maximum Gap"
   ]
  },
  {
   "cell_type": "code",
   "execution_count": 4,
   "id": "ca4a7b23",
   "metadata": {},
   "outputs": [
    {
     "data": {
      "text/plain": [
       "3"
      ]
     },
     "execution_count": 4,
     "metadata": {},
     "output_type": "execute_result"
    }
   ],
   "source": [
    "def maximumGap(nums):\n",
    "        if len(nums) < 2: return 0\n",
    "        hi, lo, ans = max(nums), min(nums), 0\n",
    "        bsize = (hi - lo) // (len(nums) - 1) or 1\n",
    "        buckets = [[] for _ in range(((hi - lo) // bsize) + 1)]\n",
    "        for n in nums:\n",
    "            buckets[(n - lo) // bsize].append(n)\n",
    "        currhi = 0\n",
    "        for b in buckets:\n",
    "            if not len(b): continue\n",
    "            prevhi, currlo = currhi or b[0], b[0]\n",
    "            for n in b: \n",
    "                currhi, currlo = max(currhi, n), min(currlo, n)\n",
    "            ans = max(ans, currlo - prevhi)\n",
    "        return ans\n",
    "nums= [3,6,9,1]\n",
    "maximumGap(nums)"
   ]
  },
  {
   "cell_type": "markdown",
   "id": "2636f625",
   "metadata": {},
   "source": [
    "Answer of 5. Contains Duplicate"
   ]
  },
  {
   "cell_type": "code",
   "execution_count": 5,
   "id": "e6781636",
   "metadata": {},
   "outputs": [
    {
     "data": {
      "text/plain": [
       "True"
      ]
     },
     "execution_count": 5,
     "metadata": {},
     "output_type": "execute_result"
    }
   ],
   "source": [
    "def containsDuplicate(nums):\n",
    "\n",
    "        dup = 0\n",
    "        nums.sort()\n",
    "        \n",
    "        for i in range(1, len(nums)):\n",
    "            if nums[i] == nums[i - 1]:\n",
    "                dup += 1\n",
    "        return dup != 0\n",
    "nums= [1,2,3,1]\n",
    "containsDuplicate(nums)"
   ]
  },
  {
   "cell_type": "markdown",
   "id": "0eb2f62a",
   "metadata": {},
   "source": [
    "Answer of 6. Minimum Number of Arrows to Burst Balloons"
   ]
  },
  {
   "cell_type": "code",
   "execution_count": 6,
   "id": "942c731f",
   "metadata": {},
   "outputs": [
    {
     "data": {
      "text/plain": [
       "2"
      ]
     },
     "execution_count": 6,
     "metadata": {},
     "output_type": "execute_result"
    }
   ],
   "source": [
    "def findMinArrowShots(points):\n",
    "    n = len(points)\n",
    "    points.sort()\n",
    "\n",
    "    answer = 1\n",
    "    top = points[0][1]\n",
    "    for i in range(1,n):\n",
    "        if points[i][0]<=top:\n",
    "            top = min(top,points[i][1])\n",
    "        else:\n",
    "            top=points[i][1]\n",
    "            answer += 1\n",
    "    return answer\n",
    "points = [[10,16],[2,8],[1,6],[7,12]]\n",
    "findMinArrowShots(points)"
   ]
  },
  {
   "cell_type": "markdown",
   "id": "72e3a580",
   "metadata": {},
   "source": [
    "Answer of 7. Longest Increasing Subsequence"
   ]
  },
  {
   "cell_type": "code",
   "execution_count": 7,
   "id": "6c5d0658",
   "metadata": {},
   "outputs": [
    {
     "data": {
      "text/plain": [
       "4"
      ]
     },
     "execution_count": 7,
     "metadata": {},
     "output_type": "execute_result"
    }
   ],
   "source": [
    "def length(nums):\n",
    "        if nums == None or len(nums) == 0:\n",
    "            return 0\n",
    "        \n",
    "        length = len(nums)\n",
    "        dp = [1] * length\n",
    "        maximum = 1\n",
    "        \n",
    "        for i in range(length):\n",
    "            for j in range(i):\n",
    "                if nums[i] > nums[j]:\n",
    "                    dp[i] = max(dp[i], dp[j] + 1)\n",
    "            maximum = max(maximum, dp[i])\n",
    "            \n",
    "        return maximum\n",
    "nums = [10,9,2,5,3,7,101,18]\n",
    "length(nums)"
   ]
  },
  {
   "cell_type": "markdown",
   "id": "b0743284",
   "metadata": {},
   "source": [
    "Answer of 8. 132 Pattern"
   ]
  },
  {
   "cell_type": "code",
   "execution_count": 8,
   "id": "43cef610",
   "metadata": {},
   "outputs": [
    {
     "data": {
      "text/plain": [
       "False"
      ]
     },
     "execution_count": 8,
     "metadata": {},
     "output_type": "execute_result"
    }
   ],
   "source": [
    "def find132pattern(nums):\n",
    "        mini = [nums[0]]\n",
    "        \n",
    "        n=len(nums)\n",
    "        \n",
    "\n",
    "        for j in range(1,n):\n",
    "            mini.append( min(mini[-1],nums[j]) )    \n",
    "        stack=[]\n",
    "        for j in range(n-1,-1,-1):\n",
    "            \n",
    "            # makeing stack for the nums[k]\n",
    "            \n",
    "            while stack and stack[-1]<=mini[j]:\n",
    "                stack.pop()\n",
    "            if len(stack)>0:\n",
    "                if mini[j]<stack[-1]<nums[j]:\n",
    "                    return True\n",
    "            stack.append(nums[j])\n",
    "        \n",
    "        return False\n",
    "nums = [1,2,3,4]\n",
    "find132pattern(nums)\n"
   ]
  },
  {
   "cell_type": "code",
   "execution_count": null,
   "id": "32812a52",
   "metadata": {},
   "outputs": [],
   "source": []
  }
 ],
 "metadata": {
  "kernelspec": {
   "display_name": "Python 3 (ipykernel)",
   "language": "python",
   "name": "python3"
  },
  "language_info": {
   "codemirror_mode": {
    "name": "ipython",
    "version": 3
   },
   "file_extension": ".py",
   "mimetype": "text/x-python",
   "name": "python",
   "nbconvert_exporter": "python",
   "pygments_lexer": "ipython3",
   "version": "3.9.12"
  }
 },
 "nbformat": 4,
 "nbformat_minor": 5
}
