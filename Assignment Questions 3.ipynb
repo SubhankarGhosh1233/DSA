{
 "cells": [
  {
   "cell_type": "markdown",
   "id": "8f094a37",
   "metadata": {},
   "source": [
    "Answer of Question 1"
   ]
  },
  {
   "cell_type": "code",
   "execution_count": 1,
   "id": "7318a37b",
   "metadata": {},
   "outputs": [
    {
     "name": "stdout",
     "output_type": "stream",
     "text": [
      "2\n"
     ]
    }
   ],
   "source": [
    "def threeSum(nums,target):        \n",
    "    diff = float('inf')\n",
    "    nums.sort()\n",
    "    for i, num in enumerate(nums):\n",
    "        lo, hi = i + 1, len(nums) - 1\n",
    "        while (lo < hi):\n",
    "            sum = num + nums[lo] + nums[hi]\n",
    "            if abs(target - sum) < abs(diff):\n",
    "                diff = target - sum\n",
    "\n",
    "            if sum < target:\n",
    "                lo += 1\n",
    "            else:\n",
    "                hi -= 1\n",
    "        if diff == 0:\n",
    "            break\n",
    "\n",
    "    return target - diff\n",
    "nums = [-1,2,1,-4]\n",
    "target = 1\n",
    "print(threeSum(nums,target))"
   ]
  },
  {
   "cell_type": "markdown",
   "id": "b230b73b",
   "metadata": {},
   "source": [
    "Answer of Question 2"
   ]
  },
  {
   "cell_type": "code",
   "execution_count": 2,
   "id": "1b59fa49",
   "metadata": {},
   "outputs": [
    {
     "name": "stdout",
     "output_type": "stream",
     "text": [
      "[[-2, -1, 1, 2], [-2, 0, 0, 2], [-1, 0, 0, 1]]\n"
     ]
    }
   ],
   "source": [
    "def fourSum(nums,target):\n",
    "    # Resultant list\n",
    "    quadruplets = list()\n",
    "    # Base condition\n",
    "    if nums is None or len(nums) < 4:\n",
    "        return quadruplets\n",
    "    # Sort the array\n",
    "    nums.sort()\n",
    "    # Length of the array\n",
    "    n = len(nums)\n",
    "    # Loop for each element of the array\n",
    "    for i in range(0, n - 3):\n",
    "        # Check for skipping duplicates\n",
    "        if i > 0 and nums[i] == nums[i - 1]:\n",
    "            continue\n",
    "        # Reducing to three sum problem\n",
    "        for j in range(i + 1, n - 2):\n",
    "            # Check for skipping duplicates\n",
    "            if j != i + 1 and nums[j] == nums[j - 1]:\n",
    "                continue\n",
    "            # Left and right pointers\n",
    "            k = j + 1\n",
    "            l = n - 1\n",
    "            # Reducing to two sum problem\n",
    "            while k < l:\n",
    "                current_sum = nums[i] + nums[j] + nums[k] + nums[l]\n",
    "                if current_sum < target:\n",
    "                    k += 1\n",
    "                elif current_sum > target:\n",
    "                    l -= 1\n",
    "                else:\n",
    "                    quadruplets.append([nums[i], nums[j], nums[k], nums[l]])\n",
    "                    k += 1\n",
    "                    l -= 1\n",
    "                    while k < l and nums[k] == nums[k - 1]:\n",
    "                        k += 1\n",
    "                    while k < l and nums[l] == nums[l + 1]:\n",
    "                        l -= 1\n",
    "    return quadruplets\n",
    "nums = [1,0,-1,0,-2,2]\n",
    "target = 0\n",
    "print(fourSum(nums,target))"
   ]
  },
  {
   "cell_type": "markdown",
   "id": "55a91be5",
   "metadata": {},
   "source": [
    "Answer of Question 3"
   ]
  },
  {
   "cell_type": "code",
   "execution_count": 3,
   "id": "a74ef8e0",
   "metadata": {},
   "outputs": [
    {
     "name": "stdout",
     "output_type": "stream",
     "text": [
      "[1, 3, 2]\n"
     ]
    }
   ],
   "source": [
    "def Permutation(nums):\n",
    "    n = len(nums) # size of the array.\n",
    "\n",
    "    # Step 1: Find the break point:\n",
    "    ind = -1 # break point\n",
    "    for i in range(n-2, -1, -1):\n",
    "        if nums[i] < nums[i + 1]:\n",
    "            # index i is the break point\n",
    "            ind = i\n",
    "            break\n",
    "\n",
    "    # If break point does not exist:\n",
    "    if ind == -1:\n",
    "        # reverse the whole array:\n",
    "        nums.reverse()\n",
    "        return nums\n",
    "\n",
    "    # Step 2: Find the next greater element\n",
    "    #         and swap it with arr[ind]:\n",
    "    for i in range(n - 1, ind, -1):\n",
    "        if nums[i] > nums[ind]:\n",
    "            nums[i], nums[ind] = nums[ind], nums[i]\n",
    "            break\n",
    "\n",
    "    # Step 3: reverse the right half:\n",
    "    nums[ind+1:] = reversed(nums[ind+1:])\n",
    "\n",
    "    return nums\n",
    "nums=[1,2,3]\n",
    "print(Permutation(nums))"
   ]
  },
  {
   "cell_type": "markdown",
   "id": "6480531b",
   "metadata": {},
   "source": [
    "Answer of Question 4"
   ]
  },
  {
   "cell_type": "code",
   "execution_count": 4,
   "id": "31702426",
   "metadata": {},
   "outputs": [
    {
     "name": "stdout",
     "output_type": "stream",
     "text": [
      "2\n"
     ]
    }
   ],
   "source": [
    "def findindex(nums,target):\n",
    "        left, right = 0, len(nums)\n",
    "        while left < right:\n",
    "            mid = (left + right) >> 1\n",
    "            if nums[mid] >= target:\n",
    "                right = mid\n",
    "            else:\n",
    "                left = mid + 1\n",
    "        return left\n",
    "nums = [1,3,5,6]\n",
    "target = 5\n",
    "print(findindex(nums,target))"
   ]
  },
  {
   "cell_type": "markdown",
   "id": "f9b26758",
   "metadata": {},
   "source": [
    " Answer of Question 5"
   ]
  },
  {
   "cell_type": "code",
   "execution_count": 5,
   "id": "f6060b35",
   "metadata": {},
   "outputs": [
    {
     "name": "stdout",
     "output_type": "stream",
     "text": [
      "[1, 2, 4]\n"
     ]
    }
   ],
   "source": [
    "def plusOne(digits):\n",
    "        n = len(digits)\n",
    "        for i in range(n - 1, -1, -1):\n",
    "            digits[i] += 1\n",
    "            digits[i] %= 10\n",
    "            if digits[i] != 0:\n",
    "                return digits\n",
    "        return [1] + digits\n",
    "digits = [1,2,3]\n",
    "print(plusOne(digits))"
   ]
  },
  {
   "cell_type": "markdown",
   "id": "c1f44e75",
   "metadata": {},
   "source": [
    "Answer of Question 6"
   ]
  },
  {
   "cell_type": "code",
   "execution_count": 6,
   "id": "992bf4b6",
   "metadata": {},
   "outputs": [
    {
     "name": "stdout",
     "output_type": "stream",
     "text": [
      "1\n"
     ]
    }
   ],
   "source": [
    "def singleNumber(nums):\n",
    "        return sum(set(nums)) * 2 - sum(nums)\n",
    "nums = [2,2,1]\n",
    "print(singleNumber(nums))"
   ]
  },
  {
   "cell_type": "markdown",
   "id": "1c965c71",
   "metadata": {},
   "source": [
    "Answer of Question 7"
   ]
  },
  {
   "cell_type": "code",
   "execution_count": 7,
   "id": "780596ae",
   "metadata": {},
   "outputs": [
    {
     "name": "stdout",
     "output_type": "stream",
     "text": [
      "['2', '4,49', '51,74', '76,99']\n"
     ]
    }
   ],
   "source": [
    "def findMissingRanges(nums, lower, upper):\n",
    "        l, r = lower, lower\n",
    "        res = []\n",
    "        for i in range(len(nums)):\n",
    "            # if NO missing interval\n",
    "            if nums[i] == r:  \n",
    "                l, r = nums[i] + 1, nums[i] + 1\n",
    "                \n",
    "            # if missing interval \n",
    "            elif nums[i] > r:\n",
    "                r = max(r, nums[i] - 1)\n",
    "                \n",
    "                if r != l:\n",
    "                    res.append(str(l) + \",\" + str(r))\n",
    "                else:\n",
    "                    res.append(str(l))\n",
    "                    \n",
    "                l, r = nums[i] + 1, nums[i] + 1\n",
    "        \n",
    "        # deal with remaining part \n",
    "        if l < upper:\n",
    "            res.append(str(l) + \",\" + str(upper))\n",
    "        elif l == upper:\n",
    "            res.append(str(l))\n",
    "            \n",
    "        return res  \n",
    "nums = [0,1,3,50,75]\n",
    "lower = 0\n",
    "upper = 99\n",
    "print(findMissingRanges(nums,lower,upper))"
   ]
  },
  {
   "cell_type": "markdown",
   "id": "47dcef46",
   "metadata": {},
   "source": [
    "Answer of Question 8"
   ]
  },
  {
   "cell_type": "code",
   "execution_count": 8,
   "id": "e810a2c8",
   "metadata": {},
   "outputs": [
    {
     "name": "stdout",
     "output_type": "stream",
     "text": [
      "False\n"
     ]
    }
   ],
   "source": [
    " def meetingsintervals(intervals):\n",
    "        n = len(intervals)\n",
    "        \n",
    "        def overlap(a, b):\n",
    "            return min(a[1], b[1]) > max(a[0], b[0])\n",
    "        \n",
    "        for i in range(n):\n",
    "            for j in range(i):\n",
    "                if overlap(intervals[i], intervals[j]):\n",
    "                    return False\n",
    "        return True\n",
    "intervals = [[0,30],[5,10],[15,20]]\n",
    "print(meetingsintervals(intervals))"
   ]
  },
  {
   "cell_type": "code",
   "execution_count": null,
   "id": "797497a2",
   "metadata": {},
   "outputs": [],
   "source": []
  }
 ],
 "metadata": {
  "kernelspec": {
   "display_name": "Python 3 (ipykernel)",
   "language": "python",
   "name": "python3"
  },
  "language_info": {
   "codemirror_mode": {
    "name": "ipython",
    "version": 3
   },
   "file_extension": ".py",
   "mimetype": "text/x-python",
   "name": "python",
   "nbconvert_exporter": "python",
   "pygments_lexer": "ipython3",
   "version": "3.9.12"
  }
 },
 "nbformat": 4,
 "nbformat_minor": 5
}
