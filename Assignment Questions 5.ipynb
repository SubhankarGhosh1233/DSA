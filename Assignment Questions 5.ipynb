{
 "cells": [
  {
   "cell_type": "markdown",
   "id": "b353a1be",
   "metadata": {},
   "source": [
    "Answer of Question 1"
   ]
  },
  {
   "cell_type": "code",
   "execution_count": 2,
   "id": "c156ec37",
   "metadata": {},
   "outputs": [
    {
     "name": "stdout",
     "output_type": "stream",
     "text": [
      "[[1, 2], [3, 4]]\n"
     ]
    }
   ],
   "source": [
    "def twoDArray(original, m, n):\n",
    "    array = []\n",
    "    if len(original) == m*n:\n",
    "        for i in range(0, len(original), n):\n",
    "            array.append(original[i:i+n])\n",
    "    return array\n",
    "original = [1,2,3,4]\n",
    "m = 2\n",
    "n = 2\n",
    "print(twoDArray(original,m,n))"
   ]
  },
  {
   "cell_type": "markdown",
   "id": "87b3e9f1",
   "metadata": {},
   "source": [
    "Answer of Question 2"
   ]
  },
  {
   "cell_type": "code",
   "execution_count": 3,
   "id": "2e4c6657",
   "metadata": {},
   "outputs": [
    {
     "name": "stdout",
     "output_type": "stream",
     "text": [
      "2\n"
     ]
    }
   ],
   "source": [
    "def arrangeCoins(n):\n",
    "        rows = 0\n",
    "        i = 1\n",
    "        \n",
    "        while n >= i:\n",
    "            n-=i\n",
    "            rows+=1\n",
    "            i+=1\n",
    "               \n",
    "        return rows\n",
    "n=5\n",
    "print(arrangeCoins(n))"
   ]
  },
  {
   "cell_type": "markdown",
   "id": "3b5b7d98",
   "metadata": {},
   "source": [
    "Answer of Question 3"
   ]
  },
  {
   "cell_type": "code",
   "execution_count": 4,
   "id": "be7ce47d",
   "metadata": {},
   "outputs": [
    {
     "name": "stdout",
     "output_type": "stream",
     "text": [
      "[0, 1, 9, 16, 100]\n"
     ]
    }
   ],
   "source": [
    "def Squares(nums):\n",
    "    n = len(nums)\n",
    "    l = 0\n",
    "    r = n - 1\n",
    "    result = [0] * n\n",
    "\n",
    "    while n:\n",
    "        n -= 1\n",
    "        if abs(nums[l]) > abs(nums[r]):\n",
    "            result[n] = nums[l] * nums[l]\n",
    "            l += 1\n",
    "        else:\n",
    "            result[n] = nums[r] * nums[r]\n",
    "            r -= 1\n",
    "\n",
    "    return result\n",
    "nums = [-4,-1,0,3,10]\n",
    "print(Squares(nums))"
   ]
  },
  {
   "cell_type": "markdown",
   "id": "69fd07fc",
   "metadata": {},
   "source": [
    "Answer of Question 4"
   ]
  },
  {
   "cell_type": "code",
   "execution_count": 5,
   "id": "8bee1664",
   "metadata": {},
   "outputs": [
    {
     "name": "stdout",
     "output_type": "stream",
     "text": [
      "[[1, 3], [4, 6]]\n"
     ]
    }
   ],
   "source": [
    "def findDifference(nums1,nums2):        \n",
    "    c1 = set(nums1)\n",
    "    c2 = set(nums2)\n",
    "    return [list(c1.difference(c2)), list(c2.difference(c1))]\n",
    "nums1 = [1,2,3]\n",
    "nums2 = [2,4,6]\n",
    "print(findDifference(nums1,nums2))"
   ]
  },
  {
   "cell_type": "markdown",
   "id": "486c7785",
   "metadata": {},
   "source": [
    "Answer of Question 5"
   ]
  },
  {
   "cell_type": "code",
   "execution_count": 6,
   "id": "dae400eb",
   "metadata": {},
   "outputs": [
    {
     "name": "stdout",
     "output_type": "stream",
     "text": [
      "2\n"
     ]
    }
   ],
   "source": [
    "def findDistanceValue(arr1,arr2,d):\n",
    "        s = 0\n",
    "        for i in arr1:\n",
    "            found = False\n",
    "            for j in arr2:\n",
    "                if abs(i - j) <= d:\n",
    "                    found = True\n",
    "                    break\n",
    "            if not found:\n",
    "                s += 1\n",
    "        return s\n",
    "arr1 = [4,5,8]\n",
    "arr2 = [10,9,1,8]\n",
    "d = 2\n",
    "print(findDistanceValue(arr1,arr2,d))"
   ]
  },
  {
   "cell_type": "markdown",
   "id": "ca26572a",
   "metadata": {},
   "source": [
    "Answer of Question 6"
   ]
  },
  {
   "cell_type": "code",
   "execution_count": 7,
   "id": "ebf8026f",
   "metadata": {},
   "outputs": [
    {
     "name": "stdout",
     "output_type": "stream",
     "text": [
      "[2, 3]\n"
     ]
    }
   ],
   "source": [
    "def Duplicates(nums):\n",
    "    result = []\n",
    "    for i in nums:\n",
    "        if nums[abs(i)-1] < 0:\n",
    "            result.append(abs(i))\n",
    "        nums[abs(i)-1] = -1*nums[abs(i)-1]\n",
    "    return result\n",
    "nums = [4,3,2,7,8,2,3,1]\n",
    "print(Duplicates(nums))"
   ]
  },
  {
   "cell_type": "markdown",
   "id": "d76abbfa",
   "metadata": {},
   "source": [
    "Answer of Question 7"
   ]
  },
  {
   "cell_type": "code",
   "execution_count": 8,
   "id": "5958c943",
   "metadata": {},
   "outputs": [
    {
     "name": "stdout",
     "output_type": "stream",
     "text": [
      "1\n"
     ]
    }
   ],
   "source": [
    "def findmin(nums):\n",
    "        if nums[0] <= nums[-1]:\n",
    "            return nums[0]\n",
    "        left, right = 0, len(nums) - 1\n",
    "        while left < right:\n",
    "            mid = (left + right) >> 1\n",
    "            if nums[0] <= nums[mid]:\n",
    "                left = mid + 1\n",
    "            else:\n",
    "                right = mid\n",
    "        return nums[left]\n",
    "nums = [3,4,5,1,2]\n",
    "print(findmin(nums))"
   ]
  },
  {
   "cell_type": "markdown",
   "id": "17784703",
   "metadata": {},
   "source": [
    "Answer of Question 8"
   ]
  },
  {
   "cell_type": "code",
   "execution_count": 11,
   "id": "daa6c48e",
   "metadata": {},
   "outputs": [
    {
     "name": "stdout",
     "output_type": "stream",
     "text": [
      "[1, 3, 4]\n"
     ]
    }
   ],
   "source": [
    "def findOriginal(changed):\n",
    " \n",
    "    # Stores the numbers and\n",
    "    # their frequency\n",
    "    numFreq = {}\n",
    " \n",
    "    # Add number with their frequencies\n",
    "    # in the hashmap\n",
    "    for i in range(0, len(changed)):\n",
    "        if (changed[i] in numFreq):\n",
    "            numFreq[changed[i]] += 1\n",
    "        else:\n",
    "            numFreq[changed[i]] = 1\n",
    " \n",
    "    # Sort the array\n",
    "    changed.sort()\n",
    " \n",
    "    # Initialize an arraylist\n",
    "    result = []\n",
    " \n",
    "    for i in range(0, len(changed)):\n",
    "       \n",
    "        # Get the frequency of the number\n",
    "        freq = numFreq[changed [i]]\n",
    "        if (freq > 0):\n",
    "           \n",
    "            # Element is of original array\n",
    "            result.append(changed [i])\n",
    " \n",
    "            # Decrement the frequency of\n",
    "            # the number\n",
    "            numFreq[changed [i]] -= 1\n",
    " \n",
    "            twice = 2 * changed [i]\n",
    " \n",
    "            # Decrement the frequency of\n",
    "            # the number having double value\n",
    "            numFreq[twice] -= 1\n",
    "\n",
    "    return result\n",
    "changed = [1,3,4,2,6,8]\n",
    "print(findOriginal(changed))"
   ]
  },
  {
   "cell_type": "code",
   "execution_count": null,
   "id": "a438798a",
   "metadata": {},
   "outputs": [],
   "source": []
  }
 ],
 "metadata": {
  "kernelspec": {
   "display_name": "Python 3 (ipykernel)",
   "language": "python",
   "name": "python3"
  },
  "language_info": {
   "codemirror_mode": {
    "name": "ipython",
    "version": 3
   },
   "file_extension": ".py",
   "mimetype": "text/x-python",
   "name": "python",
   "nbconvert_exporter": "python",
   "pygments_lexer": "ipython3",
   "version": "3.9.12"
  }
 },
 "nbformat": 4,
 "nbformat_minor": 5
}
