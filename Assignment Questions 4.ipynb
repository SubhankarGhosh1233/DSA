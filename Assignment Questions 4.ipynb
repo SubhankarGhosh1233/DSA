{
 "cells": [
  {
   "cell_type": "markdown",
   "id": "498c9596",
   "metadata": {},
   "source": [
    "Answer of Question 1"
   ]
  },
  {
   "cell_type": "code",
   "execution_count": 1,
   "id": "2e36dc7b",
   "metadata": {},
   "outputs": [
    {
     "name": "stdout",
     "output_type": "stream",
     "text": [
      "[1, 5]\n"
     ]
    }
   ],
   "source": [
    "def arraysElememt(arr1, arr2, arr3):\n",
    "    def find(arr, val):\n",
    "        left, right = 0, len(arr) - 1\n",
    "        while left < right:\n",
    "            mid = (left + right) >> 1\n",
    "            if arr[mid] >= val:\n",
    "                right = mid\n",
    "            else:\n",
    "                left = mid + 1\n",
    "        return arr[left] == val\n",
    "\n",
    "    res = []\n",
    "    for num in arr1:\n",
    "        if find(arr2, num) and find(arr3, num):\n",
    "            res.append(num)\n",
    "    return res\n",
    "arr1 = [1,2,3,4,5]\n",
    "arr2 = [1,2,5,7,9]\n",
    "arr3 = [1,3,4,5,8]\n",
    "print(arraysElememt(arr1,arr2,arr3))"
   ]
  },
  {
   "cell_type": "markdown",
   "id": "83a04c58",
   "metadata": {},
   "source": [
    "Answer of Question 2"
   ]
  },
  {
   "cell_type": "code",
   "execution_count": 2,
   "id": "c2d56b58",
   "metadata": {},
   "outputs": [
    {
     "name": "stdout",
     "output_type": "stream",
     "text": [
      "[[1, 3], [4, 6]]\n"
     ]
    }
   ],
   "source": [
    "def findDifference(nums1,nums2):        \n",
    "    c1 = set(nums1)\n",
    "    c2 = set(nums2)\n",
    "    return [list(c1.difference(c2)), list(c2.difference(c1))]\n",
    "nums1 = [1,2,3]\n",
    "nums2 = [2,4,6]\n",
    "print(findDifference(nums1,nums2))"
   ]
  },
  {
   "cell_type": "markdown",
   "id": "96cf2dfa",
   "metadata": {},
   "source": [
    "Answer of Question 3"
   ]
  },
  {
   "cell_type": "code",
   "execution_count": 3,
   "id": "1150cf4c",
   "metadata": {},
   "outputs": [
    {
     "name": "stdout",
     "output_type": "stream",
     "text": [
      "[(1, 4, 7), (2, 5, 8), (3, 6, 9)]\n"
     ]
    }
   ],
   "source": [
    "def transpose(matrix):\n",
    "        return list(zip(*matrix))\n",
    "matrix = [[1,2,3],[4,5,6],[7,8,9]]\n",
    "print(transpose(matrix))"
   ]
  },
  {
   "cell_type": "markdown",
   "id": "296c64ca",
   "metadata": {},
   "source": [
    "Answer of Question 4"
   ]
  },
  {
   "cell_type": "code",
   "execution_count": 4,
   "id": "2081fc82",
   "metadata": {},
   "outputs": [
    {
     "name": "stdout",
     "output_type": "stream",
     "text": [
      "4\n"
     ]
    }
   ],
   "source": [
    "def maximizedSum(nums):\n",
    "        nums.sort()\n",
    "        result = 0\n",
    "        numsLen = len(nums)\n",
    "        for i in range(0, numsLen - 1, 2):\n",
    "            result += nums[i]\n",
    "        return result\n",
    "nums = [1,4,3,2]\n",
    "print(maximizedSum(nums))"
   ]
  },
  {
   "cell_type": "markdown",
   "id": "2c7a3540",
   "metadata": {},
   "source": [
    "Answer of Question 5"
   ]
  },
  {
   "cell_type": "code",
   "execution_count": 5,
   "id": "83ef2408",
   "metadata": {},
   "outputs": [
    {
     "name": "stdout",
     "output_type": "stream",
     "text": [
      "2\n"
     ]
    }
   ],
   "source": [
    "def arrangeCoins(n):\n",
    "        rows = 0\n",
    "        i = 1\n",
    "        \n",
    "        while n >= i:\n",
    "            n-=i\n",
    "            rows+=1\n",
    "            i+=1\n",
    "               \n",
    "        return rows\n",
    "n=5\n",
    "print(arrangeCoins(n))"
   ]
  },
  {
   "cell_type": "markdown",
   "id": "8d8632df",
   "metadata": {},
   "source": [
    "Answer of Question 6"
   ]
  },
  {
   "cell_type": "code",
   "execution_count": 6,
   "id": "5ae6a1ee",
   "metadata": {},
   "outputs": [
    {
     "name": "stdout",
     "output_type": "stream",
     "text": [
      "[0, 1, 9, 16, 100]\n"
     ]
    }
   ],
   "source": [
    "def Squares(nums):\n",
    "    n = len(nums)\n",
    "    l = 0\n",
    "    r = n - 1\n",
    "    result = [0] * n\n",
    "\n",
    "    while n:\n",
    "        n -= 1\n",
    "        if abs(nums[l]) > abs(nums[r]):\n",
    "            result[n] = nums[l] * nums[l]\n",
    "            l += 1\n",
    "        else:\n",
    "            result[n] = nums[r] * nums[r]\n",
    "            r -= 1\n",
    "\n",
    "    return result\n",
    "nums = [-4,-1,0,3,10]\n",
    "print(Squares(nums))"
   ]
  },
  {
   "cell_type": "markdown",
   "id": "6887346d",
   "metadata": {},
   "source": [
    "Answer of Question 7"
   ]
  },
  {
   "cell_type": "code",
   "execution_count": 7,
   "id": "ef7dbf50",
   "metadata": {},
   "outputs": [
    {
     "name": "stdout",
     "output_type": "stream",
     "text": [
      "4\n"
     ]
    }
   ],
   "source": [
    "def maximum_integers(m,n,ops):\n",
    "    minRow = m\n",
    "    minCol = n\n",
    "    for i in ops:\n",
    "        minRow =min(i[0], minRow)\n",
    "        minCol =min(i[1], minCol)\n",
    "    return minRow * minCol;\n",
    "print(maximum_integers(m = 3, n = 3, ops = [[2,2],[3,3]]))"
   ]
  },
  {
   "cell_type": "markdown",
   "id": "eeb5458a",
   "metadata": {},
   "source": [
    "Answer of Question 8"
   ]
  },
  {
   "cell_type": "code",
   "execution_count": 8,
   "id": "c580d4a7",
   "metadata": {},
   "outputs": [
    {
     "name": "stdout",
     "output_type": "stream",
     "text": [
      "[2, 3, 5, 4, 1, 7]\n"
     ]
    }
   ],
   "source": [
    "def shuffle(nums,n):\n",
    "        result = []\n",
    "        for index in range(n):\n",
    "            result.append(nums[index])\n",
    "            result.append(nums[index + n])\n",
    "        return result\n",
    "nums = [2,5,1,3,4,7]\n",
    "n = 3\n",
    "print(shuffle(nums,n))"
   ]
  }
 ],
 "metadata": {
  "kernelspec": {
   "display_name": "Python 3 (ipykernel)",
   "language": "python",
   "name": "python3"
  },
  "language_info": {
   "codemirror_mode": {
    "name": "ipython",
    "version": 3
   },
   "file_extension": ".py",
   "mimetype": "text/x-python",
   "name": "python",
   "nbconvert_exporter": "python",
   "pygments_lexer": "ipython3",
   "version": "3.9.12"
  }
 },
 "nbformat": 4,
 "nbformat_minor": 5
}
