{
 "cells": [
  {
   "cell_type": "markdown",
   "id": "707f8160",
   "metadata": {},
   "source": [
    "Answer of Question 1"
   ]
  },
  {
   "cell_type": "code",
   "execution_count": 3,
   "id": "d3f1c251",
   "metadata": {},
   "outputs": [
    {
     "name": "stdout",
     "output_type": "stream",
     "text": [
      "231\n"
     ]
    }
   ],
   "source": [
    "def DeleteSum(s1,s2):\n",
    "        m=len(s1)\n",
    "        n=len(s2)\n",
    "        dp=[[0 for j in range(n+1)] for i in range(m+1)]\n",
    "        for i in range(m,-1,-1):\n",
    "            for j in range(n,-1,-1): \n",
    "                if i==m and j==n:\n",
    "                    dp[i][j]=0\n",
    "                elif i==m:\n",
    "                    dp[i][j]=dp[i][j+1]+ord(s2[j])\n",
    "                elif j==n:\n",
    "                    dp[i][j]=dp[i+1][j]+ord(s1[i])\n",
    "                else:\n",
    "                    if s1[i]==s2[j]:\n",
    "                        dp[i][j]=dp[i+1][j+1]\n",
    "                    else:\n",
    "                        dp[i][j]=min(ord(s1[i])+dp[i+1][j],ord(s2[j])+dp[i][j+1])       \n",
    "        return dp[0][0]\n",
    "s1 = \"sea\"\n",
    "s2 = \"eat\"\n",
    "print(DeleteSum(s1,s2))"
   ]
  },
  {
   "cell_type": "markdown",
   "id": "7200497b",
   "metadata": {},
   "source": [
    "Answer of Question 2"
   ]
  },
  {
   "cell_type": "code",
   "execution_count": 13,
   "id": "f8e3ab72",
   "metadata": {},
   "outputs": [
    {
     "name": "stdout",
     "output_type": "stream",
     "text": [
      "True\n"
     ]
    }
   ],
   "source": [
    "def valid(s):\n",
    "    # Stack for left symbols\n",
    "    leftSymbols = []\n",
    "    # Loop for each character of the string\n",
    "    for c in s:\n",
    "        # If left symbol is encountered\n",
    "        if c in ['(', '{', '[']:\n",
    "            leftSymbols.append(c)\n",
    "        # If right symbol is encountered\n",
    "        elif c == ')' and len(leftSymbols) != 0 and leftSymbols[-1] == '(':\n",
    "            leftSymbols.pop()\n",
    "        elif c == '}' and len(leftSymbols) != 0 and leftSymbols[-1] == '{':\n",
    "            leftSymbols.pop()\n",
    "        elif c == ']' and len(leftSymbols) != 0 and leftSymbols[-1] == '[':\n",
    "            leftSymbols.pop()\n",
    "        # If none of the valid symbols is encountered\n",
    "        else:\n",
    "            return False\n",
    "    return leftSymbols == []\n",
    "s = \"()\"\n",
    "print(valid(s))"
   ]
  },
  {
   "cell_type": "markdown",
   "id": "750a2a32",
   "metadata": {},
   "source": [
    "Answer of Question 3"
   ]
  },
  {
   "cell_type": "code",
   "execution_count": 3,
   "id": "c5515e20",
   "metadata": {},
   "outputs": [
    {
     "name": "stdout",
     "output_type": "stream",
     "text": [
      "2\n"
     ]
    }
   ],
   "source": [
    "CHARS = 26\n",
    "def make_anagram(word1, word2):\n",
    "\n",
    "    count1 = [0]*CHARS\n",
    "    count2 = [0]*CHARS\n",
    "\n",
    "    i = 0\n",
    "    while i < len(word1):\n",
    "        count1[ord(word1[i])-ord('a')] += 1\n",
    "        i += 1\n",
    " \n",
    "    i =0\n",
    "    while i < len(word2):\n",
    "        count2[ord(word2[i])-ord('a')] += 1\n",
    "        i += 1\n",
    " \n",
    "    result = 0\n",
    "    for i in range(26):\n",
    "        result += abs(count1[i] - count2[i])\n",
    "    return result\n",
    "word1 = \"sea\"\n",
    "word2 = \"eat\"\n",
    "print(make_anagram(word1,word2))"
   ]
  },
  {
   "cell_type": "markdown",
   "id": "c2565130",
   "metadata": {},
   "source": [
    "Answer of Question 4"
   ]
  },
  {
   "cell_type": "markdown",
   "id": "bcf0b4f5",
   "metadata": {},
   "source": [
    "def tree2str(self,s):\n",
    "        self.str = \"\"\n",
    "        \n",
    "        def prev(node):\n",
    "            if not node:    \n",
    "        return None\n",
    "\n",
    "            self.str += str(node.val)\n",
    "            if node.left or node.right: #if node is not a leaf\n",
    "                self.str += \"(\"\n",
    "                prev(node.left)\n",
    "                self.str += \")\"\n",
    "                if node.right:  #keep the right child if it exists\n",
    "                    self.str += \"(\"\n",
    "                    prev(node.right)\n",
    "                    self.str += \")\"\n",
    "        prev(t)\n",
    "        return self.str\n",
    "s = \"4(2(3)(1))(6(5))\"\n",
    "print(tree2str(s))"
   ]
  },
  {
   "cell_type": "markdown",
   "id": "78681c23",
   "metadata": {},
   "source": [
    "Answer of Question 5"
   ]
  },
  {
   "cell_type": "code",
   "execution_count": 48,
   "id": "ed56dd60",
   "metadata": {},
   "outputs": [
    {
     "name": "stdout",
     "output_type": "stream",
     "text": [
      "6\n"
     ]
    }
   ],
   "source": [
    "def compress(chars):\n",
    "\n",
    "        result, cnt = 0, 1\n",
    "        j = 0\n",
    "        for i in range(1, len(chars)+1): \n",
    "            if i < len(chars) and chars[i] == chars[i-1]:\n",
    "                cnt += 1\n",
    "            else:\n",
    "                # 1) update letter\n",
    "                chars[j] = chars[i-1]\n",
    "                j += 1\n",
    "                # 2) update cnt\n",
    "                if cnt == 1:\n",
    "                    continue\n",
    "                for ch in str(cnt):\n",
    "                    chars[j] = ch\n",
    "                    j += 1\n",
    "                # 3) reset cnt\n",
    "                cnt = 1\n",
    "        return j\n",
    "chars = [\"a\",\"a\",\"b\",\"b\",\"c\",\"c\",\"c\"]\n",
    "print(compress(chars))"
   ]
  },
  {
   "cell_type": "markdown",
   "id": "392c087c",
   "metadata": {},
   "source": [
    "Answer of Question 6"
   ]
  },
  {
   "cell_type": "code",
   "execution_count": 57,
   "id": "668120ec",
   "metadata": {},
   "outputs": [
    {
     "name": "stdout",
     "output_type": "stream",
     "text": [
      "[0, 6]\n"
     ]
    }
   ],
   "source": [
    "def Anagrams(s, p):\n",
    "    pLen = len(p)\n",
    "    sortedP = sorted(p)\n",
    "    i = pLen\n",
    "    ans = []\n",
    "    while i < len(s)+1:\n",
    "        currentString = sorted(s[i-pLen:i])\n",
    "        if currentString == sortedP:\n",
    "            ans.append(i-pLen)\n",
    "        i += 1\n",
    "    return ans\n",
    "s = \"cbaebabacd\"\n",
    "p = \"abc\"\n",
    "print(Anagrams(s,p))"
   ]
  },
  {
   "cell_type": "markdown",
   "id": "5ed6cd4e",
   "metadata": {},
   "source": [
    "Answer of Question 7"
   ]
  },
  {
   "cell_type": "code",
   "execution_count": 50,
   "id": "ce18c731",
   "metadata": {},
   "outputs": [
    {
     "name": "stdout",
     "output_type": "stream",
     "text": [
      "aaabcbc\n"
     ]
    }
   ],
   "source": [
    "def decodestring(s):\n",
    "        num = 0\n",
    "        string = ''\n",
    "        stack = []\n",
    "        for c in s:\n",
    "            if c.isdigit():\n",
    "                num = num*10 + int(c)\n",
    "            elif c == \"[\":\n",
    "                stack.append(string)\n",
    "                stack.append(num)\n",
    "                string = ''\n",
    "                num = 0\n",
    "            elif c.isalpha():\n",
    "                string += c\n",
    "            elif c == ']':\n",
    "                pre_num = stack.pop()\n",
    "                pre_string = stack.pop()\n",
    "                string = pre_string + pre_num * string\n",
    "        return string\n",
    "s = \"3[a]2[bc]\"\n",
    "print(decodestring(s))"
   ]
  },
  {
   "cell_type": "markdown",
   "id": "58c30eee",
   "metadata": {},
   "source": [
    "Answer of Question 8"
   ]
  },
  {
   "cell_type": "code",
   "execution_count": 61,
   "id": "f31be528",
   "metadata": {},
   "outputs": [
    {
     "name": "stdout",
     "output_type": "stream",
     "text": [
      "True\n"
     ]
    }
   ],
   "source": [
    "def Swappingstrings(s, goal):\n",
    "        l=[]\n",
    "        if len(s)!=len(goal):\n",
    "            return False\n",
    "        if s==goal and len(set(s))<len(s):\n",
    "            return True\n",
    "        for i in range(len(s)):\n",
    "            if s[i]!=goal[i]:\n",
    "                l.append(i)\n",
    "        if len(l)==2 and s[l[0]]==goal[l[1]] and s[l[1]]==goal[l[0]]:\n",
    "            return True\n",
    "        else:\n",
    "            return False\n",
    "s = \"ab\"\n",
    "goal = \"ba\"\n",
    "print(Swappingstrings(s,goal))"
   ]
  },
  {
   "cell_type": "code",
   "execution_count": null,
   "id": "d08f042f",
   "metadata": {},
   "outputs": [],
   "source": []
  }
 ],
 "metadata": {
  "kernelspec": {
   "display_name": "Python 3 (ipykernel)",
   "language": "python",
   "name": "python3"
  },
  "language_info": {
   "codemirror_mode": {
    "name": "ipython",
    "version": 3
   },
   "file_extension": ".py",
   "mimetype": "text/x-python",
   "name": "python",
   "nbconvert_exporter": "python",
   "pygments_lexer": "ipython3",
   "version": "3.9.12"
  }
 },
 "nbformat": 4,
 "nbformat_minor": 5
}
