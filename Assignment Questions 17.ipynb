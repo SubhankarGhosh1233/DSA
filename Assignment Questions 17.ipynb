{
 "cells": [
  {
   "cell_type": "markdown",
   "id": "71ecfb64",
   "metadata": {},
   "source": [
    "Answer of Question 1"
   ]
  },
  {
   "cell_type": "code",
   "execution_count": 3,
   "id": "3ddf59d3",
   "metadata": {},
   "outputs": [
    {
     "data": {
      "text/plain": [
       "2"
      ]
     },
     "execution_count": 3,
     "metadata": {},
     "output_type": "execute_result"
    }
   ],
   "source": [
    "s=\"loveleetcode\"\n",
    "def firstUniqChar(s):\n",
    "        d = {}\n",
    "        for l in s:\n",
    "            if l not in d: d[l] = 1\n",
    "            else: d[l] += 1\n",
    "        \n",
    "        index = -1\n",
    "        for i in range(len(s)):\n",
    "            if d[s[i]] == 1:\n",
    "                index = i\n",
    "                break\n",
    "        \n",
    "        return index\n",
    "\n",
    "firstUniqChar(s)"
   ]
  },
  {
   "cell_type": "markdown",
   "id": "2ab211c8",
   "metadata": {},
   "source": [
    "Answer of Question 2"
   ]
  },
  {
   "cell_type": "code",
   "execution_count": 4,
   "id": "9684cc39",
   "metadata": {},
   "outputs": [
    {
     "data": {
      "text/plain": [
       "3"
      ]
     },
     "execution_count": 4,
     "metadata": {},
     "output_type": "execute_result"
    }
   ],
   "source": [
    "def maximum_possible_sum(A):\n",
    "\n",
    "\t# stores the sum of maximum sublist found so far\n",
    "\tmax_so_far = 0\n",
    "\n",
    "\t# stores the maximum sum of sublist ending at the current position\n",
    "\tmax_ending_here = 0\n",
    "\n",
    "\t# traverse the given list\n",
    "\tfor i in range(len(A)):\n",
    "\n",
    "\t\t# update the maximum sum of sublist \"ending\" at index `i` (by adding the\n",
    "\t\t# current element to maximum sum ending at previous index `i-1`)\n",
    "\t\tmax_ending_here = max_ending_here + A[i]\n",
    "\n",
    "\t\t# if the maximum sum is negative, set it to 0 (which represents\n",
    "\t\t# an empty sublist)\n",
    "\t\tmax_ending_here = max(max_ending_here, 0)\n",
    "\n",
    "\t\t# update result if the current sublist sum is found to be greater\n",
    "\t\tmax_so_far = max(max_so_far, max_ending_here)\n",
    "\n",
    "\treturn max_so_far\n",
    "\n",
    "\n",
    "# Function to find the maximum sum circular sublist in a given list\n",
    "def Circular(A):\n",
    "\n",
    "\t# empty array has sum of 0\n",
    "\tif len(A) == 0:\n",
    "\t\treturn 0\n",
    "\n",
    "\t# find the maximum element present in a given list\n",
    "\tmaximum = max(A)\n",
    "\n",
    "\t# if the list contains all negative values, return the maximum element\n",
    "\tif maximum < 0:\n",
    "\t\treturn maximum\n",
    "\n",
    "\t# negate all elements in the list\n",
    "\tfor i in range(len(A)):\n",
    "\t\tA[i] = -A[i]\n",
    "\n",
    "\t# run maximum_possible_sum’s algorithm on the modified list\n",
    "\tneg_max_sum = maximum_possible_sum(A)\n",
    "\n",
    "\t# restore the list\n",
    "\tfor i in range(len(A)):\n",
    "\t\tA[i] = -A[i]\n",
    "\n",
    "\treturn max(maximum_possible_sum(A), sum(A) + neg_max_sum)\n",
    "\n",
    "\n",
    "if __name__ == '__main__':\n",
    "\n",
    "\tA = [1,-2,3,-2]\n",
    "\n",
    "Circular(A)"
   ]
  },
  {
   "cell_type": "markdown",
   "id": "90599c58",
   "metadata": {},
   "source": [
    "Answer of Question 3"
   ]
  },
  {
   "cell_type": "code",
   "execution_count": 5,
   "id": "f3975e91",
   "metadata": {},
   "outputs": [
    {
     "data": {
      "text/plain": [
       "3"
      ]
     },
     "execution_count": 5,
     "metadata": {},
     "output_type": "execute_result"
    }
   ],
   "source": [
    "def countStudents(students, sandwiches):\n",
    "    count = 0\n",
    "    while students:\n",
    "        student = students.pop(0)\n",
    "        if student == sandwiches[0]:\n",
    "            count=0\n",
    "            sandwiches.pop(0)\n",
    "        else:\n",
    "            count+=1\n",
    "            students.append(student)\n",
    "        if count==len(students):\n",
    "            break\n",
    "    return len(students)\n",
    "students = [1,1,1,0,0,1]\n",
    "sandwiches = [1,0,0,0,1,1]\n",
    "countStudents(students,sandwiches)"
   ]
  },
  {
   "cell_type": "markdown",
   "id": "fb9ae576",
   "metadata": {},
   "source": [
    "Answer of Question 4"
   ]
  },
  {
   "cell_type": "code",
   "execution_count": 6,
   "id": "085304f8",
   "metadata": {},
   "outputs": [],
   "source": [
    "class RecentCounter:\n",
    "\t# Here we use list to store ping details.\n",
    "    def __init__(self):\n",
    "        self.store = []\n",
    "\n",
    "    def ping(self, t):\n",
    "        self.store.append(t)\n",
    "        \n",
    "        while self.store[0] < t-3000:\n",
    "            self.store.pop(0)\n",
    "\n",
    "        return len(self.store)\n"
   ]
  },
  {
   "cell_type": "markdown",
   "id": "92cd50a2",
   "metadata": {},
   "source": [
    "Answer of Question 5"
   ]
  },
  {
   "cell_type": "code",
   "execution_count": 7,
   "id": "520f854c",
   "metadata": {},
   "outputs": [
    {
     "data": {
      "text/plain": [
       "3"
      ]
     },
     "execution_count": 7,
     "metadata": {},
     "output_type": "execute_result"
    }
   ],
   "source": [
    "def findTheWinner(n: int, k: int) -> int:\n",
    "    # True if i-th friend is left\n",
    "    friends = [False] * n\n",
    "\n",
    "    friendCount = n\n",
    "    fp = 0  # friends' pointer\n",
    "\n",
    "    while friendCount > 1:\n",
    "      for _ in range(k):\n",
    "        while friends[fp % n]:  # The friend is not there.\n",
    "          fp += 1  # Point to the next one.\n",
    "        fp += 1\n",
    "      friends[(fp - 1) % n] = True\n",
    "      friendCount -= 1\n",
    "\n",
    "    fp = 0\n",
    "    while friends[fp]:\n",
    "      fp += 1\n",
    "\n",
    "    return fp + 1\n",
    "n = 5\n",
    "k = 2\n",
    "findTheWinner(n,k)"
   ]
  },
  {
   "cell_type": "markdown",
   "id": "da494696",
   "metadata": {},
   "source": [
    "Answer of Question 6"
   ]
  },
  {
   "cell_type": "code",
   "execution_count": 8,
   "id": "a73c7cb4",
   "metadata": {},
   "outputs": [
    {
     "data": {
      "text/plain": [
       "[2, 13, 3, 11, 5, 17, 7]"
      ]
     },
     "execution_count": 8,
     "metadata": {},
     "output_type": "execute_result"
    }
   ],
   "source": [
    "deck = [17,13,11,2,3,5,7]\n",
    "def deckcard(deck):\n",
    "        deck = sorted(deck)\n",
    "        n = len(deck)\n",
    "        result = [deck[-1]]\n",
    "        deck.pop()\n",
    "        while len(result) != n:\n",
    "            result.insert(0, result.pop())\n",
    "            result.insert(0, deck.pop())\n",
    "        return result\n",
    "deckcard(deck)\n"
   ]
  },
  {
   "cell_type": "markdown",
   "id": "da1cbe1c",
   "metadata": {},
   "source": [
    "Answer of Question 7"
   ]
  },
  {
   "cell_type": "code",
   "execution_count": 9,
   "id": "d4d9dfd7",
   "metadata": {},
   "outputs": [],
   "source": [
    "import collections\n",
    "\n",
    "\n",
    "class FrontMiddleBackQueue(object):\n",
    "\n",
    "    def __init__(self):\n",
    "        self.__left, self.__right = collections.deque(), collections.deque()   \n",
    "\n",
    "    def pushFront(self, val):\n",
    "        self.__left.appendleft(val)\n",
    "        self.__balance()        \n",
    "\n",
    "    def pushMiddle(self, val):\n",
    "        if len(self.__left) > len(self.__right):\n",
    "            self.__right.appendleft(self.__left.pop())\n",
    "        self.__left.append(val)\n",
    "\n",
    "    def pushBack(self, val):\n",
    "        self.__right.append(val)\n",
    "        self.__balance()\n",
    "\n",
    "    def popFront(self):\n",
    "        val = (self.__left or collections.deque([-1])).popleft()\n",
    "        self.__balance()\n",
    "        return val\n",
    "\n",
    "    def popMiddle(self):\n",
    "        val = (self.__left or [-1]).pop()\n",
    "        self.__balance()\n",
    "        return val\n",
    "\n",
    "    def popBack(self):\n",
    "        val = (self.__right or self.__left or [-1]).pop()\n",
    "        self.__balance()\n",
    "        return val\n",
    "\n",
    "    def __balance(self):\n",
    "        if len(self.__left) > len(self.__right)+1:\n",
    "            self.__right.appendleft(self.__left.pop())\n",
    "        elif len(self.__left) < len(self.__right):\n",
    "            self.__left.append(self.__right.popleft())"
   ]
  },
  {
   "cell_type": "markdown",
   "id": "23c253ad",
   "metadata": {},
   "source": [
    "Answer of Question 8"
   ]
  },
  {
   "cell_type": "code",
   "execution_count": 11,
   "id": "7946c238",
   "metadata": {},
   "outputs": [],
   "source": [
    "class DataStream:\n",
    "      def __init__(self, value: int, k: int):\n",
    "        self.value = value\n",
    "        self.k = k\n",
    "        self.q = deque()\n",
    "        self.count = 0\n",
    "\n",
    "      def consec(self, num: int) -> bool:\n",
    "        if len(self.q) == self.k and self.q.popleft() == self.value:\n",
    "          self.count -= 1\n",
    "        if num == self.value:\n",
    "          self.count += 1\n",
    "        self.q.append(num)\n",
    "        return self.count == self.k\n"
   ]
  },
  {
   "cell_type": "code",
   "execution_count": null,
   "id": "2032f2c1",
   "metadata": {},
   "outputs": [],
   "source": []
  }
 ],
 "metadata": {
  "kernelspec": {
   "display_name": "Python 3 (ipykernel)",
   "language": "python",
   "name": "python3"
  },
  "language_info": {
   "codemirror_mode": {
    "name": "ipython",
    "version": 3
   },
   "file_extension": ".py",
   "mimetype": "text/x-python",
   "name": "python",
   "nbconvert_exporter": "python",
   "pygments_lexer": "ipython3",
   "version": "3.9.12"
  }
 },
 "nbformat": 4,
 "nbformat_minor": 5
}
