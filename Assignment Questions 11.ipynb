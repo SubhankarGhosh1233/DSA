{
 "cells": [
  {
   "cell_type": "markdown",
   "id": "67dc848d",
   "metadata": {},
   "source": [
    "Answer of Question 1"
   ]
  },
  {
   "cell_type": "code",
   "execution_count": 1,
   "id": "c115f045",
   "metadata": {},
   "outputs": [
    {
     "data": {
      "text/plain": [
       "2"
      ]
     },
     "execution_count": 1,
     "metadata": {},
     "output_type": "execute_result"
    }
   ],
   "source": [
    "def Squareroot(x):\n",
    " \n",
    "    # Base cases\n",
    "    if (x == 0 or x == 1):\n",
    "        return x\n",
    "    i = 1\n",
    "    result = 1\n",
    "    while (result <= x):\n",
    " \n",
    "        i += 1\n",
    "        result = i * i\n",
    " \n",
    "    return i - 1\n",
    "x = 4\n",
    "Squareroot(x)"
   ]
  },
  {
   "cell_type": "markdown",
   "id": "b00b2584",
   "metadata": {},
   "source": [
    "Answer of Question 2"
   ]
  },
  {
   "cell_type": "code",
   "execution_count": 3,
   "id": "ec52cc2e",
   "metadata": {},
   "outputs": [
    {
     "data": {
      "text/plain": [
       "2"
      ]
     },
     "execution_count": 3,
     "metadata": {},
     "output_type": "execute_result"
    }
   ],
   "source": [
    "def peakelement(nums):\n",
    "    low = 0\n",
    "    high = len(nums)-1\n",
    "    while(low < high):\n",
    "        mid = (low+high)//2\n",
    "\n",
    "        if nums[mid] > nums[mid+1]:\n",
    "            high = mid\n",
    "\n",
    "        else:\n",
    "            low = mid+1\n",
    "\n",
    "    return low\n",
    "nums=[1,2,3,1]\n",
    "peakelement(nums)"
   ]
  },
  {
   "cell_type": "markdown",
   "id": "ae03806c",
   "metadata": {},
   "source": [
    "Answer of Question 3"
   ]
  },
  {
   "cell_type": "code",
   "execution_count": 4,
   "id": "f00fbb9c",
   "metadata": {},
   "outputs": [
    {
     "data": {
      "text/plain": [
       "8"
      ]
     },
     "execution_count": 4,
     "metadata": {},
     "output_type": "execute_result"
    }
   ],
   "source": [
    "def missing(nums):\n",
    "    \n",
    "    n = len(nums)\n",
    "    # range [0,n] -> all sum -> (n+1)*(n)/2\n",
    "    s = sum(nums)\n",
    "    \n",
    "    return (n+1)*(n)//2 - s\n",
    "nums=[9,6,4,2,3,5,7,0,1]\n",
    "missing(nums)"
   ]
  },
  {
   "cell_type": "markdown",
   "id": "df1542e2",
   "metadata": {},
   "source": [
    "Answer of Question 4"
   ]
  },
  {
   "cell_type": "code",
   "execution_count": 5,
   "id": "61739a5f",
   "metadata": {},
   "outputs": [
    {
     "data": {
      "text/plain": [
       "2"
      ]
     },
     "execution_count": 5,
     "metadata": {},
     "output_type": "execute_result"
    }
   ],
   "source": [
    "def findDuplicate(nums):\n",
    "    n = len(nums)\n",
    "    nums.sort()\n",
    "    for i in range(n - 1):\n",
    "        if nums[i] == nums[i + 1]:\n",
    "            return nums[i]\n",
    "nums = [1,3,4,2,2]\n",
    "findDuplicate(nums)"
   ]
  },
  {
   "cell_type": "markdown",
   "id": "94ff2ae0",
   "metadata": {},
   "source": [
    "Answer of Question 5"
   ]
  },
  {
   "cell_type": "code",
   "execution_count": 6,
   "id": "c2e7fc9d",
   "metadata": {},
   "outputs": [
    {
     "data": {
      "text/plain": [
       "[9, 4]"
      ]
     },
     "execution_count": 6,
     "metadata": {},
     "output_type": "execute_result"
    }
   ],
   "source": [
    "def intersection(nums1, nums2):\n",
    "    in1 = []\n",
    "\n",
    "    for i in nums1:\n",
    "        if i in nums2:\n",
    "            in1.append(i)\n",
    "    return list(set(in1))\n",
    "nums1 = [4,9,5]\n",
    "nums2 = [9,4,9,8,4]\n",
    "intersection(nums1,nums2)"
   ]
  },
  {
   "cell_type": "markdown",
   "id": "dc3b701d",
   "metadata": {},
   "source": [
    "Answer of Question 6"
   ]
  },
  {
   "cell_type": "code",
   "execution_count": 7,
   "id": "eed6641e",
   "metadata": {},
   "outputs": [
    {
     "data": {
      "text/plain": [
       "11"
      ]
     },
     "execution_count": 7,
     "metadata": {},
     "output_type": "execute_result"
    }
   ],
   "source": [
    "def rotated(nums):\n",
    "        if nums[0] <= nums[-1]:\n",
    "            return nums[0]\n",
    "        left, right = 0, len(nums) - 1\n",
    "        while left < right:\n",
    "            mid = (left + right) >> 1\n",
    "            if nums[0] <= nums[mid]:\n",
    "                left = mid + 1\n",
    "            else:\n",
    "                right = mid\n",
    "        return nums[left]\n",
    "nums = [11,13,15,17]\n",
    "rotated(nums)"
   ]
  },
  {
   "cell_type": "markdown",
   "id": "1df36dad",
   "metadata": {},
   "source": [
    "Answer of Question 7"
   ]
  },
  {
   "cell_type": "code",
   "execution_count": 8,
   "id": "d3abeda1",
   "metadata": {},
   "outputs": [
    {
     "data": {
      "text/plain": [
       "[3, 4]"
      ]
     },
     "execution_count": 8,
     "metadata": {},
     "output_type": "execute_result"
    }
   ],
   "source": [
    " def searchindex(nums,target):\n",
    "        def search(x):\n",
    "            lo, hi = 0, len(nums)           \n",
    "            while lo < hi:\n",
    "                mid = (lo + hi) // 2\n",
    "                if nums[mid] < x:\n",
    "                    lo = mid+1\n",
    "                else:\n",
    "                    hi = mid                    \n",
    "            return lo\n",
    "        \n",
    "        lo = search(target)\n",
    "        hi = search(target+1)-1\n",
    "        \n",
    "        if lo <= hi:\n",
    "            return [lo, hi]\n",
    "                \n",
    "        return [-1, -1]\n",
    "nums = [5,7,7,8,8,10]\n",
    "target = 8\n",
    "searchindex(nums,target)"
   ]
  },
  {
   "cell_type": "markdown",
   "id": "e4d3e91a",
   "metadata": {},
   "source": [
    "Answer of Question 8"
   ]
  },
  {
   "cell_type": "code",
   "execution_count": 9,
   "id": "62dd43d8",
   "metadata": {},
   "outputs": [
    {
     "data": {
      "text/plain": [
       "[2, 2]"
      ]
     },
     "execution_count": 9,
     "metadata": {},
     "output_type": "execute_result"
    }
   ],
   "source": [
    "def intersectionelement(nums1, nums2):\n",
    "\n",
    "        counts = {}\n",
    "        res = []\n",
    "\n",
    "        for num in nums1:\n",
    "            counts[num] = counts.get(num, 0) + 1\n",
    "\n",
    "        for num in nums2:\n",
    "            if num in counts and counts[num] > 0:\n",
    "                res.append(num)\n",
    "                counts[num] -= 1\n",
    "\n",
    "        return res\n",
    "nums1 = [1,2,2,1]\n",
    "nums2 = [2,2]\n",
    "intersectionelement(nums1,nums2)"
   ]
  },
  {
   "cell_type": "code",
   "execution_count": null,
   "id": "1b42ccf1",
   "metadata": {},
   "outputs": [],
   "source": []
  }
 ],
 "metadata": {
  "kernelspec": {
   "display_name": "Python 3 (ipykernel)",
   "language": "python",
   "name": "python3"
  },
  "language_info": {
   "codemirror_mode": {
    "name": "ipython",
    "version": 3
   },
   "file_extension": ".py",
   "mimetype": "text/x-python",
   "name": "python",
   "nbconvert_exporter": "python",
   "pygments_lexer": "ipython3",
   "version": "3.9.12"
  }
 },
 "nbformat": 4,
 "nbformat_minor": 5
}
