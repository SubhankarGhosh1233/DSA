{
 "cells": [
  {
   "cell_type": "markdown",
   "id": "66e02027",
   "metadata": {},
   "source": [
    "1. Roman to Integer"
   ]
  },
  {
   "cell_type": "code",
   "execution_count": 1,
   "id": "23a71d4a",
   "metadata": {},
   "outputs": [
    {
     "data": {
      "text/plain": [
       "58"
      ]
     },
     "execution_count": 1,
     "metadata": {},
     "output_type": "execute_result"
    }
   ],
   "source": [
    "roman = {'I':1,'V':5,'X':10,'L':50,'C':100,'D':500,'M':1000}\n",
    "\n",
    "def romanInteger(s):\n",
    "    answer = 0\n",
    "    for i in range(len(s)-1,-1,-1):\n",
    "        num = roman[s[i]]\n",
    "        if 4 * num < answer: answer -= num\n",
    "        else: answer += num\n",
    "    return answer\n",
    "s = \"LVIII\"\n",
    "\n",
    "romanInteger(s)"
   ]
  },
  {
   "cell_type": "markdown",
   "id": "d27f5e83",
   "metadata": {},
   "source": [
    "2. Longest Substring Without Repeating Characters"
   ]
  },
  {
   "cell_type": "code",
   "execution_count": 2,
   "id": "e616b3cf",
   "metadata": {},
   "outputs": [
    {
     "data": {
      "text/plain": [
       "3"
      ]
     },
     "execution_count": 2,
     "metadata": {},
     "output_type": "execute_result"
    }
   ],
   "source": [
    "def lengthOfLongestSubstring(s):\n",
    "    n = len(s)\n",
    "    unique_list = []\n",
    "    res = 0\n",
    "    for i in range(n):\n",
    "        for j in range(i, n):\n",
    "            if(s[j] in unique_list):\n",
    "                unique_list.clear()\n",
    "                break\n",
    "            else:\n",
    "                unique_list.append(s[j])\n",
    "                if(res < j - i + 1):\n",
    "                    res = j - i + 1\n",
    "    return res\n",
    "s = \"pwwkew\"\n",
    "lengthOfLongestSubstring(s)"
   ]
  },
  {
   "cell_type": "markdown",
   "id": "92854280",
   "metadata": {},
   "source": [
    "3. Majority Element"
   ]
  },
  {
   "cell_type": "code",
   "execution_count": 3,
   "id": "789f8eea",
   "metadata": {},
   "outputs": [
    {
     "name": "stdout",
     "output_type": "stream",
     "text": [
      "3\n"
     ]
    }
   ],
   "source": [
    "# Program for finding out majority element in an array\n",
    "\n",
    "# Function to find the element for Majority\n",
    "def findelement(A):\n",
    "\tmaj_index = 0\n",
    "\tcount = 1\n",
    "\tfor i in range(len(A)):\n",
    "\t\tif A[maj_index] == A[i]:\n",
    "\t\t\tcount += 1\n",
    "\t\telse:\n",
    "\t\t\tcount -= 1\n",
    "\t\tif count == 0:\n",
    "\t\t\tmaj_index = i\n",
    "\t\t\tcount = 1\n",
    "\treturn A[maj_index]\n",
    "\n",
    "# Function to check if the element occurs more than n/2 times\n",
    "\n",
    "def isMajority(A, cand):\n",
    "\tcount = 0\n",
    "\tfor i in range(len(A)):\n",
    "\t\tif A[i] == cand:\n",
    "\t\t\tcount += 1\n",
    "\tif count > len(A)/2:\n",
    "\t\treturn True\n",
    "\telse:\n",
    "\t\treturn False\n",
    "\n",
    "# Function to print Majority Element\n",
    "\n",
    "def printMajority(A):\n",
    "\t# Find the element for Majority\n",
    "\tele = findelement(A)\n",
    "\n",
    "\t# Print the element if it is Majority\n",
    "\tif isMajority(A, ele) == True:\n",
    "\t\tprint(ele)\n",
    "\telse:\n",
    "\t\tprint(\"No Majority Element\")\n",
    "\n",
    "nums = [3,2,3]\n",
    "printMajority(nums)"
   ]
  },
  {
   "cell_type": "markdown",
   "id": "a24946a0",
   "metadata": {},
   "source": [
    "4. Group Anagram"
   ]
  },
  {
   "cell_type": "code",
   "execution_count": 4,
   "id": "9fffcbf8",
   "metadata": {},
   "outputs": [
    {
     "data": {
      "text/plain": [
       "[('eat', 'tea', 'ate'), ('tan', 'nat')]"
      ]
     },
     "execution_count": 4,
     "metadata": {},
     "output_type": "execute_result"
    }
   ],
   "source": [
    "# Group anagrams from a given list of words\n",
    "def groupAnagrams(words):\n",
    "\t# a list to store anagrams\n",
    "\tanagrams = []\n",
    "\n",
    "\t# base case\n",
    "\tif not words:\n",
    "\t\treturn anagrams\n",
    "\n",
    "\t# sort each word on the list\n",
    "\tnums = [''.join(sorted(word)) for word in words]\n",
    "\n",
    "\t# construct a dictionary where the key is each sorted word,\n",
    "\t# and value is a list of indices where it is present\n",
    "\td = {}\n",
    "\tfor i, e in enumerate(nums):\n",
    "\t\td.setdefault(e, []).append(i)\n",
    "\n",
    "\t# traverse the dictionary and read indices for each sorted key.\n",
    "\t# The anagrams are present in the actual list at those indices\n",
    "\tfor index in d.values():\n",
    "\t\tcollection = tuple(words[i] for i in index)\n",
    "\t\tif len(collection) > 1:\n",
    "\t\t\tanagrams.append(collection)\n",
    "            \n",
    "\treturn anagrams\n",
    "strs = [\"eat\",\"tea\",\"tan\",\"ate\",\"nat\",\"bat\"]\n",
    "groupAnagrams(strs)"
   ]
  },
  {
   "cell_type": "markdown",
   "id": "dc3a3229",
   "metadata": {},
   "source": [
    "5. Ugly Numbers"
   ]
  },
  {
   "cell_type": "code",
   "execution_count": 5,
   "id": "be5c016c",
   "metadata": {},
   "outputs": [
    {
     "data": {
      "text/plain": [
       "12"
      ]
     },
     "execution_count": 5,
     "metadata": {},
     "output_type": "execute_result"
    }
   ],
   "source": [
    "# program to find n'th Ugly number\n",
    "def nth_ugly_number(n):\n",
    "\t\n",
    "\t# Base cases...\n",
    "\tif (n == 1 or n == 2 or n == 3 or n == 4 or n == 5):\n",
    "\t\treturn n\n",
    "\ts = [1]\n",
    "\tn-=1\n",
    "\n",
    "\twhile (n):\n",
    "\t\tit = s[0]\n",
    "\t\t\n",
    "\t\t# Get the beginning element of the set\n",
    "\t\tx = it\n",
    "\t\t\n",
    "\t\t# Deleting the ith element\n",
    "\t\ts = s[1:]\n",
    "\t\ts = set(s)\n",
    "\t\t\n",
    "\t\t# Inserting all the other options\n",
    "\t\ts.add(x * 2)\n",
    "\t\ts.add(x * 3)\n",
    "\t\ts.add(x * 5)\n",
    "\t\ts = list(s)\n",
    "\t\ts.sort()\n",
    "\t\tn -= 1\n",
    "\t# The top of the set represents the nth ugly number\n",
    "\treturn s[0]\n",
    "\n",
    "n = 10\n",
    "nth_ugly_number(n)"
   ]
  },
  {
   "cell_type": "markdown",
   "id": "a78e2bb7",
   "metadata": {},
   "source": [
    "6. Top K Frequent Words"
   ]
  },
  {
   "cell_type": "code",
   "execution_count": 6,
   "id": "848c7e17",
   "metadata": {},
   "outputs": [
    {
     "data": {
      "text/plain": [
       "['i', 'love']"
      ]
     },
     "execution_count": 6,
     "metadata": {},
     "output_type": "execute_result"
    }
   ],
   "source": [
    "def K_Frequent_Words(words, k):\n",
    "        word_count = {}\n",
    "        for word in words:\n",
    "            if word in word_count:\n",
    "                 word_count[word] += 1\n",
    "            else:\n",
    "                 word_count[word] = 1\n",
    "        ans = sorted(word_count, key = lambda x: (-word_count[x], x))\n",
    "        return ans[:k]\n",
    "words = [\"i\",\"love\",\"leetcode\",\"i\",\"love\",\"coding\"]\n",
    "k = 2\n",
    "K_Frequent_Words(words, k)"
   ]
  },
  {
   "cell_type": "markdown",
   "id": "0ad7b9f8",
   "metadata": {},
   "source": [
    "7. Sliding Window Maximum"
   ]
  },
  {
   "cell_type": "code",
   "execution_count": 7,
   "id": "d9392732",
   "metadata": {},
   "outputs": [
    {
     "data": {
      "text/plain": [
       "[3, 3, 5, 5, 6, 7]"
      ]
     },
     "execution_count": 7,
     "metadata": {},
     "output_type": "execute_result"
    }
   ],
   "source": [
    "import heapq\n",
    "def max_sliding_window(nums, k):\n",
    "    answer = []\n",
    "    heap = []\n",
    " \n",
    "    # Initialize the heap with the first k elements\n",
    "    for i in range(k):\n",
    "        heapq.heappush(heap, (-nums[i], i))\n",
    " \n",
    "    # The maximum element in the first window\n",
    "    answer.append(-heap[0][0])\n",
    " \n",
    "    # Process the remaining elements\n",
    "    for i in range(k, len(nums)):\n",
    "        heapq.heappush(heap, (-nums[i], i))\n",
    " \n",
    "        # Remove elements that are outside the current window\n",
    "        while heap[0][1] <= i - k:\n",
    "            heapq.heappop(heap)\n",
    " \n",
    "        # The maximum element in the current window\n",
    "        answer.append(-heap[0][0])\n",
    " \n",
    "    return answer\n",
    " \n",
    "nums = [1,3,-1,-3,5,3,6,7]\n",
    "k = 3\n",
    "max_sliding_window(nums, k)"
   ]
  },
  {
   "cell_type": "markdown",
   "id": "94ba80b8",
   "metadata": {},
   "source": [
    "8. Find K Closest Elements"
   ]
  },
  {
   "cell_type": "code",
   "execution_count": 8,
   "id": "3d610f5c",
   "metadata": {},
   "outputs": [
    {
     "name": "stdout",
     "output_type": "stream",
     "text": [
      "[1, 2, 3, 4]\n"
     ]
    }
   ],
   "source": [
    "def binarySearch(nums, target):\n",
    "    low = 0\n",
    "    high = len(nums) - 1\n",
    " \n",
    "    while low <= high:\n",
    "        mid = low + (high - low) // 2\n",
    "        if nums[mid] < target:\n",
    "            low = mid + 1\n",
    "        elif nums[mid] > target:\n",
    "            high = mid - 1\n",
    "        else:\n",
    "            return mid      # key found\n",
    " \n",
    "    return low              # key not found\n",
    " \n",
    "def findKClosestElements(nums, target, k):\n",
    " \n",
    "    # find the insertion point using the binary search algorithm\n",
    "    i = binarySearch(nums, target)\n",
    " \n",
    "    left = i - 1\n",
    "    right = i\n",
    " \n",
    "    # run `k` times\n",
    "    while k > 0:\n",
    " \n",
    "        # compare the elements on both sides of the insertion point `i`\n",
    "        # to get the first `k` closest elements\n",
    " \n",
    "        if left < 0 or (right < len(nums) and abs(nums[left] - target) > abs(nums[right] - target)):\n",
    "            right = right + 1\n",
    "        else:\n",
    "            left = left - 1\n",
    " \n",
    "        k = k - 1\n",
    " \n",
    "\n",
    "    return nums[left+1: right]\n",
    " \n",
    " \n",
    "\n",
    " \n",
    "arr = [1,2,3,4,5]\n",
    "x = 4\n",
    "k = 3\n",
    "\n",
    "print(findKClosestElements(arr, k,x))"
   ]
  },
  {
   "cell_type": "code",
   "execution_count": null,
   "id": "0747c613",
   "metadata": {},
   "outputs": [],
   "source": []
  }
 ],
 "metadata": {
  "kernelspec": {
   "display_name": "Python 3 (ipykernel)",
   "language": "python",
   "name": "python3"
  },
  "language_info": {
   "codemirror_mode": {
    "name": "ipython",
    "version": 3
   },
   "file_extension": ".py",
   "mimetype": "text/x-python",
   "name": "python",
   "nbconvert_exporter": "python",
   "pygments_lexer": "ipython3",
   "version": "3.9.12"
  }
 },
 "nbformat": 4,
 "nbformat_minor": 5
}
