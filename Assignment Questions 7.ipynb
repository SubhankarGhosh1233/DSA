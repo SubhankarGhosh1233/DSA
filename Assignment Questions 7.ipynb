{
 "cells": [
  {
   "cell_type": "markdown",
   "id": "7cf29e30",
   "metadata": {},
   "source": [
    "Answer of Question 1"
   ]
  },
  {
   "cell_type": "code",
   "execution_count": 1,
   "id": "75186016",
   "metadata": {},
   "outputs": [
    {
     "name": "stdout",
     "output_type": "stream",
     "text": [
      "True\n"
     ]
    }
   ],
   "source": [
    "def isomorphic(s, t):\n",
    "    if len(s) != len(t):\n",
    "        return False\n",
    "    else:\n",
    "        map1, map2 = {}, {}\n",
    "        for i in range(len(s)):\n",
    "            ch1, ch2 = s[i], t[i]\n",
    "            if ch1 not in map1:\n",
    "                map1[ch1] = ch2\n",
    "            if ch2 not in map2:\n",
    "                map2[ch2] = ch1\n",
    "            if map1[ch1] != ch2 or map2[ch2] != ch1:\n",
    "                return False\n",
    "    return True\n",
    "s = \"egg\"\n",
    "t = \"add\"\n",
    "print(isomorphic(s, t))"
   ]
  },
  {
   "cell_type": "markdown",
   "id": "50708fda",
   "metadata": {},
   "source": [
    "Answer of Question 2"
   ]
  },
  {
   "cell_type": "code",
   "execution_count": 2,
   "id": "85d36d3d",
   "metadata": {},
   "outputs": [
    {
     "name": "stdout",
     "output_type": "stream",
     "text": [
      "True\n"
     ]
    }
   ],
   "source": [
    "def strobogrammatic(num):\n",
    "        maps = {(\"0\", \"0\"), (\"1\", \"1\"), (\"6\", \"9\"), (\"8\", \"8\"), (\"9\", \"6\")}\n",
    "        i,j = 0, len(num) - 1\n",
    "        while i <= j:\n",
    "            if (num[i], num[j]) not in maps:\n",
    "                return False\n",
    "            i += 1\n",
    "            j -= 1\n",
    "        return True\n",
    "num= \"69\"\n",
    "print(strobogrammatic(num))"
   ]
  },
  {
   "cell_type": "markdown",
   "id": "304ffa17",
   "metadata": {},
   "source": [
    "Answer of Question 3"
   ]
  },
  {
   "cell_type": "code",
   "execution_count": 3,
   "id": "0b692c47",
   "metadata": {},
   "outputs": [
    {
     "name": "stdout",
     "output_type": "stream",
     "text": [
      "134\n"
     ]
    }
   ],
   "source": [
    "def addstrings(num1,num2):\n",
    "\n",
    "    ans = []\n",
    "    carry = 0\n",
    "    i = len(num1) - 1\n",
    "    j = len(num2) - 1\n",
    "\n",
    "    while i >= 0 or j >= 0 or carry:\n",
    "        if i >= 0:\n",
    "            carry += int(num1[i])\n",
    "            \n",
    "        if j >= 0:\n",
    "            carry += int(num2[j])\n",
    "            ans.append(str(carry % 10))\n",
    "            carry //= 10\n",
    "            i -= 1\n",
    "            j -= 1\n",
    "\n",
    "    return ''.join(ans[::-1])\n",
    "num1 = \"11\"\n",
    "num2 = \"123\"\n",
    "print(addstrings(num1,num2))"
   ]
  },
  {
   "cell_type": "markdown",
   "id": "864845c7",
   "metadata": {},
   "source": [
    "Answer of Question 4"
   ]
  },
  {
   "cell_type": "code",
   "execution_count": 4,
   "id": "81cfa1ca",
   "metadata": {},
   "outputs": [
    {
     "name": "stdout",
     "output_type": "stream",
     "text": [
      "s'teL ekat edoCteeL tsetnoc\n"
     ]
    }
   ],
   "source": [
    "def reversewords(s):\n",
    "        s = s.split()\n",
    "        s1 = ''\n",
    "        for x in range(0, len(s)):\n",
    "            if x == len(s) - 1:\n",
    "                s1 += s[x][::-1]\n",
    "            else:\n",
    "                s1 += s[x][::-1] + ' '\n",
    "        return s1\n",
    "s = \"Let's take LeetCode contest\"\n",
    "print(reversewords(s))"
   ]
  },
  {
   "cell_type": "markdown",
   "id": "2cabf74b",
   "metadata": {},
   "source": [
    "Answer of Question 5"
   ]
  },
  {
   "cell_type": "code",
   "execution_count": 5,
   "id": "e538231e",
   "metadata": {},
   "outputs": [
    {
     "name": "stdout",
     "output_type": "stream",
     "text": [
      "bacdfeg\n"
     ]
    }
   ],
   "source": [
    "def reversestring(s, k):\n",
    "    l = list(s)\n",
    "    i = k-1\n",
    "\n",
    "    while i < len(l)+k:\n",
    "        a = l[:i-k+1]\n",
    "        b = l[i-k+1:i+1]\n",
    "        c = l[i+1:]\n",
    "        l = a + b[::-1] + c\n",
    "        i += 2*k\n",
    "    return ''.join(l)\n",
    "s = \"abcdefg\"\n",
    "k = 2\n",
    "print(reversestring(s = \"abcdefg\",k = 2))"
   ]
  },
  {
   "cell_type": "markdown",
   "id": "e396eda1",
   "metadata": {},
   "source": [
    "Answer of Question 6"
   ]
  },
  {
   "cell_type": "code",
   "execution_count": 6,
   "id": "49e38250",
   "metadata": {},
   "outputs": [
    {
     "name": "stdout",
     "output_type": "stream",
     "text": [
      "True\n"
     ]
    }
   ],
   "source": [
    "def  rotatestring(s,  goal) :\n",
    "        return (len(s) == len(goal) and  goal in (s + s))\n",
    "s = \"abcde\"\n",
    "goal = \"cdeab\"\n",
    "print(rotatestring(s = \"abcde\",goal = \"cdeab\"))"
   ]
  },
  {
   "cell_type": "markdown",
   "id": "f6423513",
   "metadata": {},
   "source": [
    "Answer of Question 7"
   ]
  },
  {
   "cell_type": "code",
   "execution_count": 7,
   "id": "9c6487e0",
   "metadata": {},
   "outputs": [
    {
     "name": "stdout",
     "output_type": "stream",
     "text": [
      "True\n"
     ]
    }
   ],
   "source": [
    "def backspaceCompare(s,t):\n",
    "        def backspace(s):\n",
    "            answer=[]\n",
    "            for i in s:\n",
    "                if i!=\"#\":\n",
    "                    answer.append(i)\n",
    "                elif answer:\n",
    "                    answer.pop()\n",
    "            return \"\".join(answer)\n",
    "        return backspace(s)==backspace(t)\n",
    "s = \"ab#c\"\n",
    "t = \"ad#c\"\n",
    "print(backspaceCompare(s,t))"
   ]
  },
  {
   "cell_type": "markdown",
   "id": "3dc9868f",
   "metadata": {},
   "source": [
    "Answer of Question 8"
   ]
  },
  {
   "cell_type": "code",
   "execution_count": 8,
   "id": "bf3cbe13",
   "metadata": {
    "scrolled": true
   },
   "outputs": [
    {
     "name": "stdout",
     "output_type": "stream",
     "text": [
      "True\n"
     ]
    }
   ],
   "source": [
    "def checkline(coordinates):\n",
    "        n=len(coordinates)\n",
    "        for i in range(n-2):\n",
    "            if (coordinates[i+1][1]-coordinates[i][1])*(coordinates[i+2][0]-coordinates[i+1][0])!=(coordinates[i+2][1]-coordinates[i+1][1])*(coordinates[i+1][0]-coordinates[i][0]):\n",
    "                return False\n",
    "        return True\n",
    "coordinates = [[1,2],[2,3],[3,4],[4,5],[5,6],[6,7]]\n",
    "print(checkline(coordinates))"
   ]
  },
  {
   "cell_type": "code",
   "execution_count": null,
   "id": "3051400d",
   "metadata": {},
   "outputs": [],
   "source": []
  }
 ],
 "metadata": {
  "kernelspec": {
   "display_name": "Python 3 (ipykernel)",
   "language": "python",
   "name": "python3"
  },
  "language_info": {
   "codemirror_mode": {
    "name": "ipython",
    "version": 3
   },
   "file_extension": ".py",
   "mimetype": "text/x-python",
   "name": "python",
   "nbconvert_exporter": "python",
   "pygments_lexer": "ipython3",
   "version": "3.9.12"
  }
 },
 "nbformat": 4,
 "nbformat_minor": 5
}
